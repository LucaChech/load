{
 "cells": [
  {
   "cell_type": "code",
   "execution_count": 1,
   "metadata": {
    "collapsed": true
   },
   "outputs": [],
   "source": [
    "#Import True Skill ratings from 2 separate files, saves a csv with image name and true skill ratings\n",
    "import pprint, pickle\n",
    "import numpy as np\n",
    "import pandas as pd\n",
    "import dill\n",
    "import csv\n",
    "\n",
    "pkl_file = open('C:/Users/luca.chech.16/Desktop/Visual Search Exp/learning_info_second_set', 'rb')\n",
    "data1 = pickle.load(pkl_file)\n",
    "\n",
    "true_skill_ratings_2 = {}\n",
    "\n",
    "for (k,i) in data1.items():\n",
    "    url = i['url']\n",
    "    mu = i['mu']\n",
    "    true_skill_ratings_2[url] = mu\n",
    "\n",
    "\n",
    "#with open('true_skill_2.csv', 'wb') as f:\n",
    "    #writer = csv.writer(f)\n",
    "    #for row in true_skill_ratings_2.iteritems():\n",
    "        #writer.writerow(row)\n",
    "\n",
    "with open('l_info.pik', 'rb') as f:\n",
    "     data2 = dill.load(f)\n",
    "true_skill_ratings = {}\n",
    "\n",
    "for (k,i) in data2.items():\n",
    "    url = i['url']\n",
    "    mu = i['mu']\n",
    "    true_skill_ratings[url] = mu\n",
    "\n",
    "true_skill_ratings.update(true_skill_ratings_2)\n",
    "\n",
    "import csv\n",
    "with open('true_skill.csv', 'wb') as f:\n",
    "    writer = csv.writer(f)\n",
    "    for row in true_skill_ratings.iteritems():\n",
    "        writer.writerow(row)"
   ]
  }
 ],
 "metadata": {
  "anaconda-cloud": {},
  "kernelspec": {
   "display_name": "Python [default]",
   "language": "python",
   "name": "python2"
  },
  "language_info": {
   "codemirror_mode": {
    "name": "ipython",
    "version": 2
   },
   "file_extension": ".py",
   "mimetype": "text/x-python",
   "name": "python",
   "nbconvert_exporter": "python",
   "pygments_lexer": "ipython2",
   "version": "2.7.12"
  }
 },
 "nbformat": 4,
 "nbformat_minor": 1
}
