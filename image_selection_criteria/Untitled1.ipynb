{
 "cells": [
  {
   "cell_type": "code",
   "execution_count": 1,
   "metadata": {
    "collapsed": false
   },
   "outputs": [],
   "source": [
    "from shutil import copyfile\n",
    "import numpy as np\n",
    "\n",
    "my_dict={}\n",
    "with open('C:/Users/luca.chech.16/Desktop/Visual Search Exp/annotations.csv', 'r') as f:\n",
    "    for line in f:\n",
    "        items = line.split(',')\n",
    "        key, values = items[0], items[1:]\n",
    "        my_dict.setdefault(key, []).extend(values)\n",
    "lista= my_dict.keys()\n",
    "\n",
    "stimuli = np.random.choice(lista, 16, replace = False)\n",
    "\n",
    "for stimulus in stimuli:\n",
    "    copyfile('C:/Users/luca.chech.16/Desktop/Visual Search Exp/JPEGImages/'+stimulus,\n",
    "            'C:/Users/luca.chech.16/Desktop/Visual Search Exp/fictitious_dataset/'+stimulus)\n",
    "for element in my_dict.keys():\n",
    "    if element not in stimuli:\n",
    "        del my_dict[element]"
   ]
  },
  {
   "cell_type": "code",
   "execution_count": 2,
   "metadata": {
    "collapsed": false
   },
   "outputs": [
    {
     "data": {
      "text/plain": [
       "{'2008_000143.jpg': [' car', ' motorbike', ' person', '', '', '\\n'],\n",
       " '2008_002817.jpg': [' tvmonitor', ' person', '', '', '', '\\n'],\n",
       " '2009_004874.jpg': [' chair', '', '', '', '', '\\n'],\n",
       " '2010_000799.jpg': [' cat', '', '', '', '', '\\n'],\n",
       " '2010_001151.jpg': [' person', ' train', '', '', '', '\\n'],\n",
       " '2010_002137.jpg': [' pottedplant', ' sofa', ' person', ' cat', '', '\\n'],\n",
       " '2010_004466.jpg': [' pottedplant', '', '', '', '', '\\n'],\n",
       " '2010_005301.jpg': [' aeroplane', '', '', '', '', '\\n'],\n",
       " '2010_005519.jpg': [' sheep', '', '', '', '', '\\n'],\n",
       " '2011_002802.jpg': [' tvmonitor', ' person', '', '', '', '\\n'],\n",
       " '2011_003261.jpg': [' person', ' bicycle', '', '', '', '\\n'],\n",
       " '2011_003778.jpg': [' person', '', '', '', '', '\\n'],\n",
       " '2011_003929.jpg': [' person', '', '', '', '', '\\n'],\n",
       " '2011_005763.jpg': [' person', '', '', '', '', '\\n'],\n",
       " '2012_001662.jpg': [' person', '', '', '', '', '\\n'],\n",
       " '2012_002653.jpg': [' person', '', '', '', '', '\\n']}"
      ]
     },
     "execution_count": 2,
     "metadata": {},
     "output_type": "execute_result"
    }
   ],
   "source": [
    "my_dict"
   ]
  },
  {
   "cell_type": "code",
   "execution_count": 31,
   "metadata": {
    "collapsed": false
   },
   "outputs": [
    {
     "name": "stdout",
     "output_type": "stream",
     "text": [
      "(500, 375)\n",
      "(500, 332)\n",
      "(375, 500)\n",
      "(500, 338)\n",
      "(375, 500)\n",
      "(500, 334)\n",
      "(500, 375)\n",
      "(500, 375)\n",
      "(500, 375)\n",
      "(500, 375)\n",
      "(500, 375)\n",
      "(500, 327)\n",
      "(500, 375)\n",
      "(500, 375)\n",
      "(300, 421)\n",
      "(500, 375)\n"
     ]
    }
   ],
   "source": [
    "from PIL import Image\n",
    "lista = my_dict.keys()\n",
    "for each in range(len(lista)):\n",
    "    with Image.open('C:/Users/luca.chech.16/Desktop/Visual Search Exp/JPEGImages/' + lista[each]) as im:\n",
    "        width, height = im.size\n",
    "        print im.size"
   ]
  },
  {
   "cell_type": "code",
   "execution_count": 32,
   "metadata": {
    "collapsed": false
   },
   "outputs": [
    {
     "ename": "KeyError",
     "evalue": "0",
     "output_type": "error",
     "traceback": [
      "\u001b[0;31m---------------------------------------------------------------------------\u001b[0m",
      "\u001b[0;31mKeyError\u001b[0m                                  Traceback (most recent call last)",
      "\u001b[0;32m<ipython-input-32-3e07a4403b5a>\u001b[0m in \u001b[0;36m<module>\u001b[0;34m()\u001b[0m\n\u001b[1;32m      1\u001b[0m \u001b[1;32mfrom\u001b[0m \u001b[0mPIL\u001b[0m \u001b[1;32mimport\u001b[0m \u001b[0mImage\u001b[0m\u001b[1;33m\u001b[0m\u001b[0m\n\u001b[1;32m      2\u001b[0m \u001b[1;32mfor\u001b[0m \u001b[0meach\u001b[0m \u001b[1;32min\u001b[0m \u001b[0mrange\u001b[0m\u001b[1;33m(\u001b[0m\u001b[0mlen\u001b[0m\u001b[1;33m(\u001b[0m\u001b[0mmy_dict\u001b[0m\u001b[1;33m)\u001b[0m\u001b[1;33m)\u001b[0m\u001b[1;33m:\u001b[0m\u001b[1;33m\u001b[0m\u001b[0m\n\u001b[0;32m----> 3\u001b[0;31m     \u001b[1;32mwith\u001b[0m \u001b[0mImage\u001b[0m\u001b[1;33m.\u001b[0m\u001b[0mopen\u001b[0m\u001b[1;33m(\u001b[0m\u001b[1;34m'C:/Users/luca.chech.16/Desktop/Visual Search Exp/JPEGImages/'\u001b[0m \u001b[1;33m+\u001b[0m \u001b[0mmy_dict\u001b[0m\u001b[1;33m[\u001b[0m\u001b[0meach\u001b[0m\u001b[1;33m]\u001b[0m\u001b[1;33m)\u001b[0m \u001b[1;32mas\u001b[0m \u001b[0mim\u001b[0m\u001b[1;33m:\u001b[0m\u001b[1;33m\u001b[0m\u001b[0m\n\u001b[0m\u001b[1;32m      4\u001b[0m         \u001b[0mwidth\u001b[0m\u001b[1;33m,\u001b[0m \u001b[0mheight\u001b[0m \u001b[1;33m=\u001b[0m \u001b[0mim\u001b[0m\u001b[1;33m.\u001b[0m\u001b[0msize\u001b[0m\u001b[1;33m\u001b[0m\u001b[0m\n\u001b[1;32m      5\u001b[0m         \u001b[1;32mprint\u001b[0m \u001b[0mim\u001b[0m\u001b[1;33m.\u001b[0m\u001b[0msize\u001b[0m\u001b[1;33m\u001b[0m\u001b[0m\n",
      "\u001b[0;31mKeyError\u001b[0m: 0"
     ]
    }
   ],
   "source": [
    "from PIL import Image\n",
    "for each in range(len(my_dict)):\n",
    "    with Image.open('C:/Users/luca.chech.16/Desktop/Visual Search Exp/JPEGImages/' + my_dict[each]) as im:\n",
    "        width, height = im.size\n",
    "        print im.size"
   ]
  },
  {
   "cell_type": "code",
   "execution_count": 12,
   "metadata": {
    "collapsed": false
   },
   "outputs": [
    {
     "name": "stdout",
     "output_type": "stream",
     "text": [
      "2011_003778.jpg\n",
      "2008_000143.jpg\n",
      "2010_002137.jpg\n",
      "2010_005301.jpg\n",
      "2011_003261.jpg\n",
      "2011_005763.jpg\n",
      "2012_001662.jpg\n",
      "2012_002653.jpg\n",
      "2010_000799.jpg\n",
      "2011_003929.jpg\n",
      "2009_004874.jpg\n",
      "2010_005519.jpg\n",
      "2010_001151.jpg\n",
      "2008_002817.jpg\n",
      "2010_004466.jpg\n",
      "2011_002802.jpg\n"
     ]
    }
   ],
   "source": [
    "for each in my_dict:\n",
    "    print each"
   ]
  },
  {
   "cell_type": "code",
   "execution_count": 3,
   "metadata": {
    "collapsed": false
   },
   "outputs": [
    {
     "data": {
      "text/plain": [
       "16"
      ]
     },
     "execution_count": 3,
     "metadata": {},
     "output_type": "execute_result"
    }
   ],
   "source": [
    "from os import listdir\n",
    "from os.path import isfile, join\n",
    "onlyfiles = [f for f in listdir('C:/Users/luca.chech.16/Desktop/Visual Search Exp/fictitious_dataset/') \n",
    "             if isfile(join('C:/Users/luca.chech.16/Desktop/Visual Search Exp/fictitious_dataset/', f))]\n",
    "len(onlyfiles)"
   ]
  },
  {
   "cell_type": "code",
   "execution_count": 4,
   "metadata": {
    "collapsed": false
   },
   "outputs": [],
   "source": [
    "for i in range(len(onlyfiles)/2):\n",
    "    my_dict[onlyfiles[i]].append('Low Load')"
   ]
  },
  {
   "cell_type": "code",
   "execution_count": 5,
   "metadata": {
    "collapsed": false
   },
   "outputs": [],
   "source": [
    "for i in range(8,16):\n",
    "        my_dict[onlyfiles[i]].append('High Load')"
   ]
  },
  {
   "cell_type": "code",
   "execution_count": 6,
   "metadata": {
    "collapsed": false
   },
   "outputs": [
    {
     "data": {
      "text/plain": [
       "{'2008_000143.jpg': [' car',\n",
       "  ' motorbike',\n",
       "  ' person',\n",
       "  '',\n",
       "  '',\n",
       "  '\\n',\n",
       "  'Low Load'],\n",
       " '2008_002817.jpg': [' tvmonitor', ' person', '', '', '', '\\n', 'Low Load'],\n",
       " '2009_004874.jpg': [' chair', '', '', '', '', '\\n', 'Low Load'],\n",
       " '2010_000799.jpg': [' cat', '', '', '', '', '\\n', 'Low Load'],\n",
       " '2010_001151.jpg': [' person', ' train', '', '', '', '\\n', 'Low Load'],\n",
       " '2010_002137.jpg': [' pottedplant',\n",
       "  ' sofa',\n",
       "  ' person',\n",
       "  ' cat',\n",
       "  '',\n",
       "  '\\n',\n",
       "  'Low Load'],\n",
       " '2010_004466.jpg': [' pottedplant', '', '', '', '', '\\n', 'Low Load'],\n",
       " '2010_005301.jpg': [' aeroplane', '', '', '', '', '\\n', 'Low Load'],\n",
       " '2010_005519.jpg': [' sheep', '', '', '', '', '\\n', 'High Load'],\n",
       " '2011_002802.jpg': [' tvmonitor', ' person', '', '', '', '\\n', 'High Load'],\n",
       " '2011_003261.jpg': [' person', ' bicycle', '', '', '', '\\n', 'High Load'],\n",
       " '2011_003778.jpg': [' person', '', '', '', '', '\\n', 'High Load'],\n",
       " '2011_003929.jpg': [' person', '', '', '', '', '\\n', 'High Load'],\n",
       " '2011_005763.jpg': [' person', '', '', '', '', '\\n', 'High Load'],\n",
       " '2012_001662.jpg': [' person', '', '', '', '', '\\n', 'High Load'],\n",
       " '2012_002653.jpg': [' person', '', '', '', '', '\\n', 'High Load']}"
      ]
     },
     "execution_count": 6,
     "metadata": {},
     "output_type": "execute_result"
    }
   ],
   "source": [
    "my_dict"
   ]
  },
  {
   "cell_type": "code",
   "execution_count": 8,
   "metadata": {
    "collapsed": false
   },
   "outputs": [
    {
     "ename": "SyntaxError",
     "evalue": "invalid syntax (<ipython-input-8-8ff65ba4c79f>, line 2)",
     "output_type": "error",
     "traceback": [
      "\u001b[0;36m  File \u001b[0;32m\"<ipython-input-8-8ff65ba4c79f>\"\u001b[0;36m, line \u001b[0;32m2\u001b[0m\n\u001b[0;31m    lista2 = for i in lista1:\u001b[0m\n\u001b[0m               ^\u001b[0m\n\u001b[0;31mSyntaxError\u001b[0m\u001b[0;31m:\u001b[0m invalid syntax\n"
     ]
    }
   ],
   "source": [
    "categories = ['ciao, ,mamma']\n",
    "target_absent_allowed = []\n",
    "for each in categories:\n",
    "    if each not in my_dict[]:\n",
    "        target_absent_allowed.append(each)\n",
    "        \n",
    "    "
   ]
  }
 ],
 "metadata": {
  "anaconda-cloud": {},
  "kernelspec": {
   "display_name": "Python [default]",
   "language": "python",
   "name": "python2"
  },
  "language_info": {
   "codemirror_mode": {
    "name": "ipython",
    "version": 2
   },
   "file_extension": ".py",
   "mimetype": "text/x-python",
   "name": "python",
   "nbconvert_exporter": "python",
   "pygments_lexer": "ipython2",
   "version": "2.7.12"
  }
 },
 "nbformat": 4,
 "nbformat_minor": 1
}
