{
 "cells": [
  {
   "cell_type": "code",
   "execution_count": 4,
   "metadata": {
    "collapsed": true
   },
   "outputs": [],
   "source": [
    "import os\n",
    "root_dir = '/Users/Theresa/Documents/Work/Experiment/VOC2012/'\n",
    "img_dir = os.path.join(root_dir, 'JPEGImages')\n",
    "ann_dir = os.path.join(root_dir, 'Annotations')"
   ]
  },
  {
   "cell_type": "code",
   "execution_count": 8,
   "metadata": {
    "collapsed": false
   },
   "outputs": [],
   "source": [
    "# get image names \n",
    "imgs = os.listdir(img_dir)\n",
    "\n",
    "# remove extension\n",
    "for i in range(len(imgs)):\n",
    "    imgs[i] = os.path.splitext(imgs[i])[0]"
   ]
  },
  {
   "cell_type": "code",
   "execution_count": 57,
   "metadata": {
    "collapsed": false
   },
   "outputs": [],
   "source": [
    "import xml.etree.ElementTree as ET\n",
    "\n",
    "# get annotations for each object\n",
    "\n",
    "objs_unique = []\n",
    "for i in range(len(imgs)):\n",
    "    # load annotation files for each image\n",
    "    filename = imgs[i]\n",
    "    f = open(ann_dir + '/' + filename + '.xml','r')\n",
    "\n",
    "    tree = ET.parse(ann_dir + '/' + filename + '.xml')\n",
    "    root = tree.getroot()\n",
    "\n",
    "    # find object\n",
    "    objs = root.findall('object')\n",
    "\n",
    "    # get name\n",
    "    names = []\n",
    "    for j in range(len(objs)):\n",
    "        names.append(list(objs[j].find('name').text))\n",
    "\n",
    "    # put back into string\n",
    "    str = []\n",
    "    for j in range(len(names)):\n",
    "        str.append(''.join(names[j]))\n",
    "\n",
    "    # convert to set to get unique entries\n",
    "    objs_unique.append(set(str))\n",
    "    "
   ]
  },
  {
   "cell_type": "code",
   "execution_count": 123,
   "metadata": {
    "collapsed": false
   },
   "outputs": [],
   "source": [
    "# output to file\n",
    "\n",
    "for i in range(len(imgs)):\n",
    "    f = open('/Users/Theresa/Documents/Work/Experiment/objectAnnotations.txt', 'a')\n",
    "    text = imgs[i] + '.jpg' + ', ' + ', '.join(list(objs_unique[i]))  + \"\\n\"\n",
    "    f.write(text)\n",
    "    f.close()"
   ]
  },
  {
   "cell_type": "code",
   "execution_count": null,
   "metadata": {
    "collapsed": true
   },
   "outputs": [],
   "source": []
  }
 ],
 "metadata": {
  "anaconda-cloud": {},
  "kernelspec": {
   "display_name": "Python [default]",
   "language": "python",
   "name": "python2"
  },
  "language_info": {
   "codemirror_mode": {
    "name": "ipython",
    "version": 2
   },
   "file_extension": ".py",
   "mimetype": "text/x-python",
   "name": "python",
   "nbconvert_exporter": "python",
   "pygments_lexer": "ipython2",
   "version": "2.7.12"
  }
 },
 "nbformat": 4,
 "nbformat_minor": 0
}
