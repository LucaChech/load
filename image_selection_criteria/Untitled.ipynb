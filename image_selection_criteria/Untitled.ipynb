{
 "cells": [
  {
   "cell_type": "code",
   "execution_count": 140,
   "metadata": {
    "collapsed": false
   },
   "outputs": [],
   "source": [
    "import numpy as np\n",
    "from os.path import isfile, join\n",
    "from os import listdir\n",
    "from shutil import copyfile\n",
    "#from #numpy.random import random, randint, normal, shuffle\n",
    "\n",
    "mypath = 'C:/Users/luca.chech.16/Desktop/Visual Search Exp/'\n",
    "inanimate = [f for f in listdir(mypath+'low inanimate') if isfile(join(mypath+'low inanimate', f))]\n",
    "animate = [f for f in listdir(mypath+'low animate') if isfile(join(mypath+'low animate', f))]\n",
    "#print inanimate\n",
    "#print animate\n",
    "#subset = np.random.choice(image_names, 100, replace = False) # selecting a random subset of images\n"
   ]
  },
  {
   "cell_type": "code",
   "execution_count": null,
   "metadata": {
    "collapsed": true
   },
   "outputs": [],
   "source": [
    "import numpy as np\n",
    "from os.path import isfile, join\n",
    "from os import listdir\n",
    "from shutil import copyfile\n",
    "#from #numpy.random import random, randint, normal, shuffle\n",
    "from random import shuffle"
   ]
  },
  {
   "cell_type": "code",
   "execution_count": 126,
   "metadata": {
    "collapsed": false
   },
   "outputs": [
    {
     "name": "stdout",
     "output_type": "stream",
     "text": [
      "[]\n"
     ]
    }
   ],
   "source": [
    "import random\n",
    "one = list(range(10))\n",
    "two = one\n",
    "inanimate = ['2008_001719.jpg', '2008_001428.jpg', '2008_000760.jpg', '2008_001448.jpg', '2008_000589.jpg', '2008_002221.jpg', '2008_001774.jpg', '2008_000016.jpg', '2008_002062.jpg', '2008_000287.jpg']\n",
    "random.shuffle(two)\n",
    "shuffled_inanimate = []\n",
    "for i in range(0,len(one)):\n",
    "    shuffled.append(inanimate[two[i]])\n",
    "print shuffled_inanimate"
   ]
  },
  {
   "cell_type": "code",
   "execution_count": 169,
   "metadata": {
    "collapsed": false
   },
   "outputs": [
    {
     "name": "stdout",
     "output_type": "stream",
     "text": [
      "['2008_002221.jpg', '2008_000589.jpg', '2008_001448.jpg', '2008_001428.jpg', '2008_001719.jpg', '2008_000760.jpg', '2008_001774.jpg', '2008_002062.jpg', '2008_000016.jpg', '2008_000287.jpg']\n",
      "[['2008_000192.jpg', '2008_000123.jpg', '2008_000183.jpg', '2008_000428.jpg', '2008_000060.jpg', '2008_000345.jpg', '2008_000318.jpg', '2008_000059.jpg', '2008_000019.jpg', '2008_000084.jpg']]\n"
     ]
    }
   ],
   "source": [
    "inanimate = ['2008_001719.jpg', '2008_001428.jpg', '2008_000760.jpg', '2008_001448.jpg', '2008_000589.jpg', '2008_002221.jpg', '2008_001774.jpg', '2008_000016.jpg', '2008_002062.jpg', '2008_000287.jpg']\n",
    "inanimate_shuffled = inanimate\n",
    "random.shuffle(inanimate_shuffled)\n",
    "print inanimate_shuffled\n",
    "animate_shuffled = [animate]\n",
    "random.shuffle(animate)\n",
    "print animate_shuffled"
   ]
  },
  {
   "cell_type": "code",
   "execution_count": 209,
   "metadata": {
    "collapsed": false
   },
   "outputs": [
    {
     "name": "stdout",
     "output_type": "stream",
     "text": [
      "['2008_000059.jpg', '2008_001774.jpg', '2008_000428.jpg', '2008_000183.jpg', '2008_000318.jpg', '2008_000345.jpg', '2008_001719.jpg', '2008_000287.jpg', '2008_000760.jpg', '2008_001428.jpg', '2008_000192.jpg', '2008_002062.jpg', '2008_002221.jpg', '2008_000084.jpg', '2008_001448.jpg', '2008_000589.jpg', '2008_000016.jpg', '2008_000060.jpg', '2008_000019.jpg', '2008_000123.jpg']\n"
     ]
    }
   ],
   "source": [
    "stimuli = animate + inanimate\n",
    "random.shuffle(stimuli)\n",
    "print stimuli"
   ]
  },
  {
   "cell_type": "code",
   "execution_count": 53,
   "metadata": {
    "collapsed": false
   },
   "outputs": [
    {
     "name": "stdout",
     "output_type": "stream",
     "text": [
      "None\n"
     ]
    }
   ],
   "source": [
    "import random\n",
    "\n",
    "a = ['hi','world','cat','dog']\n",
    "b =random.shuffle(a,random.random)\n",
    "print b"
   ]
  }
 ],
 "metadata": {
  "anaconda-cloud": {},
  "kernelspec": {
   "display_name": "Python [default]",
   "language": "python",
   "name": "python2"
  },
  "language_info": {
   "codemirror_mode": {
    "name": "ipython",
    "version": 2
   },
   "file_extension": ".py",
   "mimetype": "text/x-python",
   "name": "python",
   "nbconvert_exporter": "python",
   "pygments_lexer": "ipython2",
   "version": "2.7.12"
  }
 },
 "nbformat": 4,
 "nbformat_minor": 1
}
