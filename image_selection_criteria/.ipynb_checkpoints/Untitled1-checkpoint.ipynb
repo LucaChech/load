{
 "cells": [
  {
   "cell_type": "code",
   "execution_count": 1,
   "metadata": {
    "collapsed": true
   },
   "outputs": [],
   "source": [
    "from shutil import copyfile\n",
    "import numpy as np\n",
    "\n",
    "my_dict={}\n",
    "with open('C:/Users/luca.chech.16/Desktop/Visual Search Exp/annotations.csv', 'r') as f:\n",
    "    for line in f:\n",
    "        items = line.split(',')\n",
    "        key, values = items[0], items[1:]\n",
    "        my_dict.setdefault(key, []).extend(values)\n",
    "lista= my_dict.keys()\n",
    "\n",
    "stimuli = np.random.choice(lista, 16, replace = False)\n",
    "\n",
    "for stimulus in stimuli:\n",
    "    copyfile('C:/Users/luca.chech.16/Desktop/Visual Search Exp/JPEGImages/'+stimulus,\n",
    "            'C:/Users/luca.chech.16/Desktop/Visual Search Exp/fictitious_dataset/'+stimulus)"
   ]
  }
 ],
 "metadata": {
  "anaconda-cloud": {},
  "kernelspec": {
   "display_name": "Python [default]",
   "language": "python",
   "name": "python2"
  },
  "language_info": {
   "codemirror_mode": {
    "name": "ipython",
    "version": 2
   },
   "file_extension": ".py",
   "mimetype": "text/x-python",
   "name": "python",
   "nbconvert_exporter": "python",
   "pygments_lexer": "ipython2",
   "version": "2.7.12"
  }
 },
 "nbformat": 4,
 "nbformat_minor": 1
}
