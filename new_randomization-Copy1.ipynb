{
 "cells": [
  {
   "cell_type": "code",
   "execution_count": 1,
   "metadata": {
    "collapsed": true
   },
   "outputs": [],
   "source": [
    "import pandas as pd\n",
    "import numpy as np\n",
    "import random\n",
    "import csv\n",
    "#%pdb\n",
    "#mypath = ('E:/OneDrive - University College London/Random_probes_last/Luca/')\n",
    "mypath = 'C:/Users/KeK/OneDrive - University College London/Random_probes_last/Luca/'"
   ]
  },
  {
   "cell_type": "code",
   "execution_count": 2,
   "metadata": {
    "collapsed": true
   },
   "outputs": [],
   "source": [
    "import random\n",
    "probe_series = []\n",
    "critical_series = []"
   ]
  },
  {
   "cell_type": "code",
   "execution_count": 3,
   "metadata": {
    "collapsed": true
   },
   "outputs": [],
   "source": [
    "df = pd.DataFrame.from_csv(mypath+'all_images_2.csv')\n",
    "df.reset_index(drop=False)\n",
    "\n",
    "image_names = df.index.tolist()\n",
    "cat1 = df['0'].tolist()\n",
    "cat2 = df['1'].tolist()\n",
    "cat3 = df['2'].tolist()\n",
    "cat4 = df['3'].tolist()\n",
    "cat5 = df['4'].tolist()\n",
    "ts = df['5'].tolist()\n",
    "load = df['6'].tolist()\n",
    "exemplar = df['7'].tolist()\n",
    "possible_images_dict ={z[0]:list(z[1:]) for z in zip(image_names,cat1,cat2,cat3,cat4,cat5,ts,load,exemplar)}"
   ]
  },
  {
   "cell_type": "code",
   "execution_count": 4,
   "metadata": {
    "collapsed": false
   },
   "outputs": [
    {
     "name": "stdout",
     "output_type": "stream",
     "text": [
      "[' bottle', ' horse', ' pottedplant', ' dog', ' cat', ' person', ' aeroplane', ' car', ' chair', ' sofa', ' bird', ' boat']\n",
      "[' bottle', ' pottedplant', ' cat', ' aeroplane', ' chair', ' bird']\n",
      "[' horse', ' dog', ' person', ' car', ' sofa', ' boat']\n",
      "len(target_present_counter):  36\n",
      "len(target_absent_counter):  36\n",
      "len(critical_trials):  24\n",
      "len(critical_trials):  48\n"
     ]
    }
   ],
   "source": [
    "# DEFINING TARGET-PRESENT PROBES\n",
    "lista= possible_images_dict.keys()\n",
    "target_present = []\n",
    "intermediate = []\n",
    "categories = [' bottle', ' horse', ' pottedplant', ' dog',\n",
    "              ' cat', ' person', ' aeroplane', ' car', ' chair', ' sofa', ' bird', ' boat']\n",
    "odd = categories[::2]\n",
    "even = categories[1::2]\n",
    "\n",
    "print categories\n",
    "print odd\n",
    "print even\n",
    "p_load = ['low','high']\n",
    "\n",
    "for category in categories:\n",
    "    for load in p_load:\n",
    "        while True:\n",
    "            trial = str(np.random.choice(lista, 1, replace= False))[2:-2]\n",
    "            if category in possible_images_dict[trial][7] and load in possible_images_dict[trial] \\\n",
    "                and trial not in intermediate and trial not in target_present:\n",
    "                intermediate.append(trial)\n",
    "            if len(intermediate) == 1:\n",
    "                for each in intermediate:\n",
    "                    target_present.append(each)\n",
    "                    possible_images_dict[each].append(category)\n",
    "                intermediate = []\n",
    "                break\n",
    "\n",
    "for category in odd:\n",
    "    for load in p_load:\n",
    "        while True:\n",
    "            trial = str(np.random.choice(lista, 1, replace= False))[2:-2]\n",
    "            if category in possible_images_dict[trial][7] and load in possible_images_dict[trial] \\\n",
    "                and trial not in intermediate and trial not in target_present:\n",
    "                intermediate.append(trial)\n",
    "            if len(intermediate) == 1:\n",
    "                for each in intermediate:\n",
    "                    target_present.append(each)\n",
    "                    possible_images_dict[each].append(category)\n",
    "                intermediate = []\n",
    "                break\n",
    "\n",
    "for n in target_present:\n",
    "    possible_images_dict[n].append('Target Present')\n",
    "    \n",
    "target_present_counter = [n for n in lista if 'Target Present' in possible_images_dict[n]]\n",
    "print 'len(target_present_counter): ', len(target_present_counter)\n",
    "\n",
    "# DEFINING TARGET-ABSENT PROBES\n",
    "target_absent = []\n",
    "intermediate = []\n",
    "for category in categories:\n",
    "    for load in p_load:\n",
    "        while True:\n",
    "            trial = str(np.random.choice(lista, 1, replace= False))[2:-2]\n",
    "            if category not in possible_images_dict[trial][7] and load in possible_images_dict[trial] \\\n",
    "                and trial not in intermediate and trial not in target_absent and trial not in target_present:\n",
    "                intermediate.append(trial)\n",
    "            if len(intermediate) == 1:\n",
    "                for each in intermediate:\n",
    "                    target_absent.append(each)\n",
    "                    possible_images_dict[each].append(category)\n",
    "                intermediate = []\n",
    "                break\n",
    "\n",
    "for category in even:\n",
    "    for load in p_load:\n",
    "        while True:\n",
    "            trial = str(np.random.choice(lista, 1, replace= False))[2:-2]\n",
    "            if category not in possible_images_dict[trial][7] and load in possible_images_dict[trial] \\\n",
    "                and trial not in intermediate and trial not in target_absent and trial not in target_present:\n",
    "                intermediate.append(trial)\n",
    "            if len(intermediate) == 1:\n",
    "                for each in intermediate:\n",
    "                    target_absent.append(each)\n",
    "                    possible_images_dict[each].append(category)\n",
    "                intermediate = []\n",
    "                break\n",
    "                \n",
    "for each in target_absent:\n",
    "    possible_images_dict[each].append('Target Absent')\n",
    "\n",
    "target_absent_counter = [n for n in lista if 'Target Absent' in possible_images_dict[n]]\n",
    "print 'len(target_absent_counter): ', len(target_absent_counter)\n",
    "\n",
    "\n",
    "\n",
    "    \n",
    "# DEFINING NO-TARGET IMAGES\n",
    "\n",
    "for image in lista:\n",
    "    if image not in target_present and image not in target_absent:\n",
    "        possible_images_dict[image].append('NA')\n",
    "        possible_images_dict[image].append('No Target')\n",
    "\n",
    "# DEFINING CRITICAL TRIALS\n",
    "critical_trials = []\n",
    "def critical_trial(load_level):\n",
    "    global critical_trials\n",
    "    temp = []\n",
    "    container = []\n",
    "    for element in lista:\n",
    "        if load_level in possible_images_dict[element]:\n",
    "            container.append(element)\n",
    "    for category in categories:\n",
    "        while len(temp) <2 :\n",
    "            intermediate = str(np.random.choice(container, 1, replace= False))[2:-2]\n",
    "            if category in possible_images_dict[intermediate] \\\n",
    "                and intermediate not in temp and intermediate not in critical_trials:\n",
    "                temp.append(intermediate)\n",
    "        for each in temp:\n",
    "            critical_trials.append(each)\n",
    "        temp =[]\n",
    "    print 'len(critical_trials): ', len(critical_trials)\n",
    "         \n",
    "critical_trial('low')\n",
    "critical_trial('high')"
   ]
  },
  {
   "cell_type": "code",
   "execution_count": 5,
   "metadata": {
    "collapsed": false
   },
   "outputs": [
    {
     "name": "stdout",
     "output_type": "stream",
     "text": [
      "len(critical_trials) == len(set(critical_trials)): True\n"
     ]
    }
   ],
   "source": [
    "print 'len(critical_trials) == len(set(critical_trials)):',len(critical_trials) == len(set(critical_trials))\n",
    "for each in critical_trials:\n",
    "    possible_images_dict[each].append('Critical')\n",
    "for each in possible_images_dict:\n",
    "    if 'Critical' not in possible_images_dict[each]:\n",
    "        possible_images_dict[each].append('Normal')\n",
    "\n",
    "#df = pd.DataFrame.from_dict(possible_images_dict)\n",
    "#df= df.T\n",
    "#df.columns = ['Cat.1','Cat.2','Cat.3','Cat.4','Cat.5','TS','Load','exemplar','question','present_absent','trial_type']\n",
    "#df.TS = df.TS.astype('float')\n",
    "#df.to_csv(mypath + 'randomization_15.csv')"
   ]
  },
  {
   "cell_type": "code",
   "execution_count": 6,
   "metadata": {
    "collapsed": false
   },
   "outputs": [
    {
     "name": "stdout",
     "output_type": "stream",
     "text": [
      "371\n",
      "-------------------\n"
     ]
    }
   ],
   "source": [
    "#Defininfg blocks \n",
    "probes_per_block = []\n",
    "normal_probes_per_block = []\n",
    "critical_per_block = []\n",
    "normal_per_block = []\n",
    "present_used = []\n",
    "absent_used = []\n",
    "critical_used = []\n",
    "normal_no_probe = [n for n in lista if 'Normal' in possible_images_dict[n] and 'No Target' in possible_images_dict[n]]\n",
    "normal_no_probe_used = []\n",
    "block = []\n",
    "to_insert = []\n",
    "critical_probes_counter = 0\n",
    "print len(normal_no_probe)\n",
    "print '-------------------'\n",
    "probes = []\n",
    "critical = []\n",
    "normal = []\n",
    "modifier = []\n",
    "#%pdb"
   ]
  },
  {
   "cell_type": "code",
   "execution_count": 7,
   "metadata": {
    "collapsed": true
   },
   "outputs": [],
   "source": [
    "def block_high_1():\n",
    "# Pick 4 present probes and 5 absent probes\n",
    "    global critical_per_block,probes_per_block, present_used, absent_used, critical_used, normal_per_block, to_insert\n",
    "    while len(probes_per_block) < 4:\n",
    "        probe = str(np.random.choice(target_present,1,replace = False))[2:-2]\n",
    "        if probe not in probes_per_block and probe not in present_used and 'high' in possible_images_dict[probe]:\n",
    "            probes_per_block.append(probe)\n",
    "    while 4 <= len(probes_per_block) < 9:\n",
    "        probe = str(np.random.choice(target_absent,1,replace = False))[2:-2]\n",
    "        if probe not in probes_per_block and probe not in absent_used and 'high' in possible_images_dict[probe]:\n",
    "            probes_per_block.append(probe)\n",
    "    \n",
    "    for n in probes_per_block:\n",
    "        print possible_images_dict[n]\n",
    "        if 'Target Present' in possible_images_dict[n]:\n",
    "            present_used.append(n)\n",
    "        elif 'Target Absent' in possible_images_dict[n]:\n",
    "            absent_used.append(n)\n",
    "    \n",
    "    probes.append(probes_per_block)\n",
    "#------------------------------------------------------------------------------    \n",
    "#Counting critical probes    \n",
    "    critical_probes_counter = 0\n",
    "    for n in probes_per_block:\n",
    "        if 'Critical' in possible_images_dict[n]:\n",
    "            critical_probes_counter = critical_probes_counter + 1\n",
    "    #for n in probes_per_block:\n",
    "    #    print possible_images_dict[n]\n",
    "    print 'Present Used: ',len(present_used)\n",
    "    print 'Absent Used ',len(absent_used)\n",
    "    print 'Critical probes counter: ',critical_probes_counter\n",
    "    \n",
    "    modifier.append(critical_probes_counter)\n",
    "#------------------------------------------------------------------------------\n",
    "#Picking critical trials\n",
    "    while len(critical_per_block) < (6-critical_probes_counter):\n",
    "        image = str(np.random.choice(critical_trials,1,replace = False))[2:-2]\n",
    "        if image not in critical_per_block and image not in critical_used \\\n",
    "            and 'No Target' in possible_images_dict[image] and 'high' in possible_images_dict[image]:\n",
    "            critical_per_block.append(image) \n",
    "    print 'List of critical trials without probe: '\n",
    "    for n in critical_per_block:\n",
    "        critical_used.append(n)\n",
    "        print possible_images_dict[n]\n",
    "    #temp = []\n",
    "    \n",
    "    critical.append(critical_per_block)\n",
    "\n",
    "#------------------------------------------------------------------------------\n",
    "#Picking normal trials\n",
    "    while len(normal_per_block) < 51 - (6 - critical_probes_counter):\n",
    "        image = str(np.random.choice(normal_no_probe,1,replace = False))[2:-2]\n",
    "        if image not in normal_per_block and image not in normal_no_probe_used and 'high' in possible_images_dict[image]:\n",
    "            normal_per_block.append(image)\n",
    "    for n in normal_per_block:\n",
    "        normal_no_probe_used.append(n)\n",
    "    print 'len(normal_no_probe_used): ',len(normal_no_probe_used)\n",
    "    \n",
    "    normal.append(normal_per_block)\n",
    "\n",
    "#-----------------------------------------------------------------------------\n",
    "   \n",
    "    probes_per_block = []\n",
    "    critical_per_block = []\n",
    "    normal_per_block = []\n",
    "    to_insert = []\n",
    "    print 'Normal used:',len(normal_no_probe_used)\n",
    "    print'---------------------------------------------------'\n",
    "    return "
   ]
  },
  {
   "cell_type": "code",
   "execution_count": 13,
   "metadata": {
    "collapsed": false
   },
   "outputs": [
    {
     "name": "stdout",
     "output_type": "stream",
     "text": [
      "[' person', ' boat', nan, nan, nan, 29.006457456633935, 'high', ' person', ' person', 'Target Present', 'Normal']\n",
      "[' person', ' chair', nan, nan, nan, 29.779906614434282, 'high', ' chair', ' chair', 'Target Present', 'Normal']\n",
      "[' bird', nan, nan, nan, nan, 33.64739800555661, 'high', ' bird', ' bird', 'Target Present', 'Normal']\n",
      "[' car', nan, nan, nan, nan, 32.977395883300268, 'high', ' car', ' car', 'Target Present', 'Normal']\n",
      "[' aeroplane', ' boat', nan, nan, nan, 29.287349444649571, 'high', ' aeroplane', ' bottle', 'Target Absent', 'Critical']\n",
      "[' sofa', ' chair', ' person', nan, nan, 30.035339131770247, 'high', ' sofa', ' horse', 'Target Absent', 'Normal']\n",
      "[' pottedplant', ' car', nan, nan, nan, 30.612693177580176, 'high', ' car', ' bird', 'Target Absent', 'Normal']\n",
      "[' person', ' horse', nan, nan, nan, 29.875362071673013, 'high', ' horse', ' dog', 'Target Absent', 'Normal']\n",
      "[' person', ' sofa', nan, nan, nan, 31.124437166631626, 'high', ' sofa', ' cat', 'Target Absent', 'Normal']\n",
      "Present Used:  12\n",
      "Absent Used  15\n",
      "Critical probes counter:  1\n",
      "List of critical trials without probe: \n",
      "[' dog', nan, nan, nan, nan, 29.77784058169977, 'high', ' dog', 'NA', 'No Target', 'Critical']\n",
      "[' chair', ' bird', ' diningtable', nan, nan, 29.361755720318889, 'high', ' bird', 'NA', 'No Target', 'Critical']\n",
      "[' pottedplant', ' person', ' chair', ' diningtable', ' boat', 35.383633537269247, 'high', ' pottedplant', 'NA', 'No Target', 'Critical']\n",
      "[' bird', ' cow', nan, nan, nan, 30.96122100405093, 'high', ' bird', 'NA', 'No Target', 'Critical']\n",
      "[' car', ' bicycle', ' motorbike', nan, nan, 29.67801392295739, 'high', ' car', 'NA', 'No Target', 'Critical']\n",
      "len(normal_no_probe_used):  139\n",
      "Normal used: 139\n",
      "---------------------------------------------------\n"
     ]
    }
   ],
   "source": [
    "block_high_1()"
   ]
  },
  {
   "cell_type": "code",
   "execution_count": 14,
   "metadata": {
    "collapsed": false
   },
   "outputs": [
    {
     "name": "stdout",
     "output_type": "stream",
     "text": [
      "[2, 1, 1] [['2008_000705.jpg', '2008_002736.jpg', '2011_002098.jpg', '2009_000565.jpg', '2008_007250.jpg', '2009_000629.jpg', '2008_002037.jpg', '2009_003351.jpg', '2008_007527.jpg', '2008_004614.jpg', '2010_004763.jpg', '2009_000760.jpg', '2009_000120.jpg', '2008_001862.jpg', '2010_000536.jpg', '2008_003180.jpg', '2011_002509.jpg', '2008_000251.jpg', '2010_001434.jpg', '2011_000530.jpg', '2008_003575.jpg', '2010_003419.jpg', '2009_002001.jpg', '2008_001576.jpg', '2011_000434.jpg', '2011_000499.jpg', '2008_005526.jpg', '2008_005090.jpg', '2008_002672.jpg', '2009_000021.jpg', '2010_000865.jpg', '2009_002414.jpg', '2010_000815.jpg', '2011_001382.jpg', '2010_003579.jpg', '2008_007378.jpg', '2011_001335.jpg', '2011_001649.jpg', '2008_005818.jpg', '2008_005878.jpg', '2008_000321.jpg', '2011_001991.jpg', '2008_003378.jpg', '2010_002472.jpg', '2008_000916.jpg', '2010_002278.jpg', '2010_003943.jpg'], ['2008_000270.jpg', '2009_000466.jpg', '2008_007629.jpg', '2008_004633.jpg', '2009_000995.jpg', '2010_001939.jpg', '2011_001025.jpg', '2008_004858.jpg', '2010_005170.jpg', '2008_003701.jpg', '2008_004042.jpg', '2009_003520.jpg', '2008_000982.jpg', '2008_002758.jpg', '2008_000928.jpg', '2008_002119.jpg', '2010_002742.jpg', '2010_003297.jpg', '2009_003705.jpg', '2008_000619.jpg', '2008_004646.jpg', '2008_000541.jpg', '2008_004482.jpg', '2008_003635.jpg', '2008_000414.jpg', '2008_002084.jpg', '2008_006663.jpg', '2010_005270.jpg', '2008_002774.jpg', '2011_002641.jpg', '2010_003724.jpg', '2008_000798.jpg', '2009_000539.jpg', '2008_005720.jpg', '2008_000984.jpg', '2009_001345.jpg', '2008_007913.jpg', '2008_001210.jpg', '2010_000074.jpg', '2008_002350.jpg', '2010_003490.jpg', '2008_006912.jpg', '2009_002306.jpg', '2009_004154.jpg', '2008_000457.jpg', '2008_003193.jpg'], ['2008_004991.jpg', '2008_000192.jpg', '2010_002127.jpg', '2008_008210.jpg', '2008_007388.jpg', '2010_005542.jpg', '2008_002897.jpg', '2008_000704.jpg', '2008_000202.jpg', '2008_002887.jpg', '2008_008628.jpg', '2008_004690.jpg', '2011_002260.jpg', '2008_004670.jpg', '2009_005118.jpg', '2010_004683.jpg', '2008_000885.jpg', '2010_005996.jpg', '2008_008229.jpg', '2010_001856.jpg', '2010_000792.jpg', '2008_003844.jpg', '2008_001333.jpg', '2011_001001.jpg', '2010_003729.jpg', '2011_002971.jpg', '2008_001451.jpg', '2008_006481.jpg', '2009_001021.jpg', '2010_005106.jpg', '2008_006062.jpg', '2008_005702.jpg', '2011_001605.jpg', '2009_000067.jpg', '2009_004283.jpg', '2009_003884.jpg', '2011_001116.jpg', '2008_003283.jpg', '2008_005600.jpg', '2008_000833.jpg', '2008_003755.jpg', '2009_004849.jpg', '2010_002702.jpg', '2008_002709.jpg', '2009_002750.jpg', '2011_000824.jpg']]\n",
      "[['2008_007664.jpg', '2011_002482.jpg', '2008_000093.jpg', '2008_003449.jpg'], ['2010_002603.jpg', '2011_001440.jpg', '2008_007057.jpg', '2008_005347.jpg', '2008_005750.jpg'], ['2010_002775.jpg', '2011_001139.jpg', '2011_001221.jpg', '2011_000548.jpg', '2009_003802.jpg']]\n",
      "[['2008_007970.jpg', '2009_000488.jpg', '2009_002571.jpg', '2008_006121.jpg', '2008_003461.jpg', '2008_007143.jpg', '2008_006870.jpg', '2011_002555.jpg', '2010_001586.jpg'], ['2008_002789.jpg', '2008_006863.jpg', '2011_002814.jpg', '2008_000041.jpg', '2008_006461.jpg', '2008_007745.jpg', '2009_004794.jpg', '2008_002725.jpg', '2010_001645.jpg'], ['2008_003081.jpg', '2008_000381.jpg', '2008_007423.jpg', '2010_006033.jpg', '2008_002773.jpg', '2008_006841.jpg', '2008_000488.jpg', '2008_003805.jpg', '2008_004459.jpg']]\n"
     ]
    }
   ],
   "source": [
    "print modifier, \n",
    "print normal \n",
    "print critical\n",
    "print probes"
   ]
  },
  {
   "cell_type": "code",
   "execution_count": 10,
   "metadata": {
    "collapsed": false
   },
   "outputs": [
    {
     "name": "stdout",
     "output_type": "stream",
     "text": [
      "new_list_1:  [5, 9, 17, 24, 28, 29, 33, 45, 56]\n",
      "new_list_2:  [9, 17, 25, 33, 43, 54]\n",
      "5\n",
      "new_list_1:  [3, 10, 12, 33, 36, 41, 46, 54, 58]\n",
      "new_list_2:  [1, 11, 15, 24, 30, 50]\n",
      "2\n",
      "new_list_1:  [2, 3, 19, 24, 33, 45, 46, 49, 59]\n",
      "new_list_2:  [2, 15, 30, 34, 39, 47]\n",
      "3\n",
      "new_list_1:  [4, 12, 16, 28, 33, 34, 35, 36, 57]\n",
      "new_list_2:  [13, 15, 21, 39, 51, 54]\n",
      "1\n",
      "new_list_1:  [1, 5, 25, 38, 40, 41, 42, 46, 53]\n",
      "new_list_2:  [1, 5, 15, 17, 20, 30]\n",
      "2\n",
      "new_list_1:  [6, 10, 22, 26, 30, 36, 42, 45, 49]\n",
      "new_list_2:  [7, 19, 21, 24, 29, 56]\n",
      "3\n",
      "new_list_1:  [4, 9, 17, 30, 45, 46, 50, 51, 54]\n",
      "new_list_2:  [3, 5, 20, 33, 38, 47]\n",
      "1\n",
      "new_list_1:  [4, 6, 7, 14, 31, 33, 39, 42, 50]\n",
      "new_list_2:  [9, 11, 29, 37, 40, 57]\n",
      "3\n",
      "new_list_1:  [18, 23, 33, 45, 48, 49, 55, 57, 58]\n",
      "new_list_2:  [21, 24, 38, 43, 53, 55]\n",
      "5\n",
      "new_list_1:  [12, 15, 16, 19, 22, 25, 28, 35, 51]\n",
      "new_list_2:  [1, 13, 23, 25, 27, 53]\n",
      "4\n",
      "new_list_1:  [2, 3, 20, 25, 28, 35, 42, 46, 56]\n",
      "new_list_2:  [10, 32, 36, 40, 44, 51]\n",
      "2\n",
      "new_list_1:  [4, 16, 17, 21, 26, 36, 42, 49, 57]\n",
      "new_list_2:  [4, 23, 34, 36, 38, 52]\n",
      "3\n",
      "new_list_1:  [1, 3, 6, 10, 14, 21, 29, 52, 59]\n",
      "new_list_2:  [10, 25, 28, 37, 41, 53]\n",
      "2\n",
      "new_list_1:  [1, 6, 12, 15, 17, 39, 42, 51, 56]\n",
      "new_list_2:  [7, 13, 20, 25, 50, 52]\n",
      "2\n",
      "new_list_1:  [2, 4, 11, 18, 29, 31, 34, 42, 51]\n",
      "new_list_2:  [8, 14, 17, 35, 52, 57]\n",
      "1\n",
      "new_list_1:  [13, 15, 18, 23, 30, 34, 41, 48, 59]\n",
      "new_list_2:  [3, 21, 30, 33, 43, 59]\n",
      "4\n",
      "new_list_1:  [8, 17, 18, 24, 32, 35, 36, 48, 50]\n",
      "new_list_2:  [3, 8, 17, 38, 41, 52]\n",
      "3\n",
      "new_list_1:  [11, 15, 16, 21, 22, 30, 31, 39, 59]\n",
      "new_list_2:  [9, 15, 19, 21, 27, 36]\n",
      "6\n",
      "new_list_1:  [1, 5, 18, 23, 33, 37, 39, 41, 46]\n",
      "new_list_2:  [16, 23, 30, 32, 35, 47]\n",
      "4\n",
      "new_list_1:  [2, 6, 7, 13, 15, 33, 48, 50, 57]\n",
      "new_list_2:  [17, 31, 34, 38, 53, 57]\n",
      "2\n",
      "new_list_1:  [3, 7, 9, 25, 27, 30, 40, 43, 46]\n",
      "new_list_2:  [14, 24, 30, 39, 43, 56]\n",
      "4\n"
     ]
    },
    {
     "ename": "KeyboardInterrupt",
     "evalue": "",
     "output_type": "error",
     "traceback": [
      "\u001b[0;31m---------------------------------------------------------------------------\u001b[0m",
      "\u001b[0;31mKeyboardInterrupt\u001b[0m                         Traceback (most recent call last)",
      "\u001b[0;32m<ipython-input-10-016132a43616>\u001b[0m in \u001b[0;36m<module>\u001b[0;34m()\u001b[0m\n\u001b[1;32m      2\u001b[0m     \u001b[1;32mwhile\u001b[0m \u001b[0mTrue\u001b[0m\u001b[1;33m:\u001b[0m\u001b[1;33m\u001b[0m\u001b[0m\n\u001b[1;32m      3\u001b[0m         \u001b[1;32mwhile\u001b[0m \u001b[0mTrue\u001b[0m\u001b[1;33m:\u001b[0m\u001b[1;33m\u001b[0m\u001b[0m\n\u001b[0;32m----> 4\u001b[0;31m             \u001b[0ma\u001b[0m \u001b[1;33m=\u001b[0m \u001b[1;33m[\u001b[0m\u001b[0mrandom\u001b[0m\u001b[1;33m.\u001b[0m\u001b[0mrandint\u001b[0m\u001b[1;33m(\u001b[0m\u001b[1;36m1\u001b[0m\u001b[1;33m,\u001b[0m\u001b[1;36m60\u001b[0m\u001b[1;33m)\u001b[0m \u001b[1;32mfor\u001b[0m \u001b[0mr\u001b[0m \u001b[1;32min\u001b[0m \u001b[0mxrange\u001b[0m\u001b[1;33m(\u001b[0m\u001b[1;36m9\u001b[0m\u001b[1;33m)\u001b[0m\u001b[1;33m]\u001b[0m\u001b[1;33m\u001b[0m\u001b[0m\n\u001b[0m\u001b[1;32m      5\u001b[0m             \u001b[1;32mif\u001b[0m \u001b[0msum\u001b[0m\u001b[1;33m(\u001b[0m\u001b[0ma\u001b[0m\u001b[1;33m)\u001b[0m \u001b[1;33m<=\u001b[0m \u001b[1;36m60\u001b[0m\u001b[1;33m:\u001b[0m\u001b[1;33m\u001b[0m\u001b[0m\n\u001b[1;32m      6\u001b[0m                 \u001b[1;32mbreak\u001b[0m\u001b[1;33m\u001b[0m\u001b[0m\n",
      "\u001b[0;32mC:\\Program Files\\Anaconda2\\lib\\random.pyc\u001b[0m in \u001b[0;36mrandint\u001b[0;34m(self, a, b)\u001b[0m\n\u001b[1;32m    240\u001b[0m         \"\"\"\n\u001b[1;32m    241\u001b[0m \u001b[1;33m\u001b[0m\u001b[0m\n\u001b[0;32m--> 242\u001b[0;31m         \u001b[1;32mreturn\u001b[0m \u001b[0mself\u001b[0m\u001b[1;33m.\u001b[0m\u001b[0mrandrange\u001b[0m\u001b[1;33m(\u001b[0m\u001b[0ma\u001b[0m\u001b[1;33m,\u001b[0m \u001b[0mb\u001b[0m\u001b[1;33m+\u001b[0m\u001b[1;36m1\u001b[0m\u001b[1;33m)\u001b[0m\u001b[1;33m\u001b[0m\u001b[0m\n\u001b[0m\u001b[1;32m    243\u001b[0m \u001b[1;33m\u001b[0m\u001b[0m\n\u001b[1;32m    244\u001b[0m     def _randbelow(self, n, _log=_log, _int=int, _maxwidth=1L<<BPF,\n",
      "\u001b[0;32mC:\\Program Files\\Anaconda2\\lib\\random.pyc\u001b[0m in \u001b[0;36mrandrange\u001b[0;34m(self, start, stop, step, _int, _maxwidth)\u001b[0m\n\u001b[1;32m    214\u001b[0m             \u001b[1;32mif\u001b[0m \u001b[0mwidth\u001b[0m \u001b[1;33m>=\u001b[0m \u001b[0m_maxwidth\u001b[0m\u001b[1;33m:\u001b[0m\u001b[1;33m\u001b[0m\u001b[0m\n\u001b[1;32m    215\u001b[0m                 \u001b[1;32mreturn\u001b[0m \u001b[0m_int\u001b[0m\u001b[1;33m(\u001b[0m\u001b[0mistart\u001b[0m \u001b[1;33m+\u001b[0m \u001b[0mself\u001b[0m\u001b[1;33m.\u001b[0m\u001b[0m_randbelow\u001b[0m\u001b[1;33m(\u001b[0m\u001b[0mwidth\u001b[0m\u001b[1;33m)\u001b[0m\u001b[1;33m)\u001b[0m\u001b[1;33m\u001b[0m\u001b[0m\n\u001b[0;32m--> 216\u001b[0;31m             \u001b[1;32mreturn\u001b[0m \u001b[0m_int\u001b[0m\u001b[1;33m(\u001b[0m\u001b[0mistart\u001b[0m \u001b[1;33m+\u001b[0m \u001b[0m_int\u001b[0m\u001b[1;33m(\u001b[0m\u001b[0mself\u001b[0m\u001b[1;33m.\u001b[0m\u001b[0mrandom\u001b[0m\u001b[1;33m(\u001b[0m\u001b[1;33m)\u001b[0m\u001b[1;33m*\u001b[0m\u001b[0mwidth\u001b[0m\u001b[1;33m)\u001b[0m\u001b[1;33m)\u001b[0m\u001b[1;33m\u001b[0m\u001b[0m\n\u001b[0m\u001b[1;32m    217\u001b[0m         \u001b[1;32mif\u001b[0m \u001b[0mstep\u001b[0m \u001b[1;33m==\u001b[0m \u001b[1;36m1\u001b[0m\u001b[1;33m:\u001b[0m\u001b[1;33m\u001b[0m\u001b[0m\n\u001b[1;32m    218\u001b[0m             \u001b[1;32mraise\u001b[0m \u001b[0mValueError\u001b[0m\u001b[1;33m,\u001b[0m \u001b[1;34m\"empty range for randrange() (%d,%d, %d)\"\u001b[0m \u001b[1;33m%\u001b[0m \u001b[1;33m(\u001b[0m\u001b[0mistart\u001b[0m\u001b[1;33m,\u001b[0m \u001b[0mistop\u001b[0m\u001b[1;33m,\u001b[0m \u001b[0mwidth\u001b[0m\u001b[1;33m)\u001b[0m\u001b[1;33m\u001b[0m\u001b[0m\n",
      "\u001b[0;31mKeyboardInterrupt\u001b[0m: "
     ]
    }
   ],
   "source": [
    "for cycle in range(2):\n",
    "    while True:    \n",
    "        while True:\n",
    "            a = [random.randint(1,60) for r in xrange(9)]\n",
    "            if sum(a) <= 60:\n",
    "                break\n",
    "        new_list_1 = []\n",
    "        acc = 0\n",
    "        for i in a:\n",
    "            acc = acc + i\n",
    "            new_list_1.append(acc)\n",
    "        new_list_1 = [n - 1 for n in new_list_1]\n",
    "        print 'new_list_1: ',new_list_1\n",
    "        #print sum(a)\n",
    "\n",
    "        while True:\n",
    "            a = [random.randint(1,60) for r in xrange(6)]\n",
    "            if sum(a) <= 60 and 1 not in a:\n",
    "                break\n",
    "        new_list_2 = []\n",
    "        acc = 0\n",
    "        for i in a:\n",
    "            acc = acc + i\n",
    "            new_list_2.append(acc)\n",
    "        new_list_2 = [n - 1 for n in new_list_2]\n",
    "        print 'new_list_2: ', new_list_2\n",
    "        #print sum(a)\n",
    "\n",
    "        container = []\n",
    "        for i in new_list_2:\n",
    "            sequence = [i, i+1, i+2]\n",
    "            #print sequence\n",
    "            for element in sequence:\n",
    "                if element in new_list_1:\n",
    "                    container.append(element)\n",
    "        print len(container)\n",
    "        if len(container) == 0:\n",
    "            break\n",
    "    print '---------------------------'\n",
    "    probe_series.append(new_list_1)\n",
    "    critical_series.append(new_list_2)\n",
    "    print new_list_1\n",
    "    print new_list_2\n"
   ]
  },
  {
   "cell_type": "code",
   "execution_count": 11,
   "metadata": {
    "collapsed": false
   },
   "outputs": [
    {
     "ename": "NameError",
     "evalue": "name 'probe_series1' is not defined",
     "output_type": "error",
     "traceback": [
      "\u001b[0;31m---------------------------------------------------------------------------\u001b[0m",
      "\u001b[0;31mNameError\u001b[0m                                 Traceback (most recent call last)",
      "\u001b[0;32m<ipython-input-11-76a1426bfb9b>\u001b[0m in \u001b[0;36m<module>\u001b[0;34m()\u001b[0m\n\u001b[0;32m----> 1\u001b[0;31m \u001b[1;32mprint\u001b[0m \u001b[0mprobe_series1\u001b[0m\u001b[1;33m\u001b[0m\u001b[0m\n\u001b[0m",
      "\u001b[0;31mNameError\u001b[0m: name 'probe_series1' is not defined"
     ]
    }
   ],
   "source": [
    "print probe_series1"
   ]
  }
 ],
 "metadata": {
  "anaconda-cloud": {},
  "kernelspec": {
   "display_name": "Python [default]",
   "language": "python",
   "name": "python2"
  },
  "language_info": {
   "codemirror_mode": {
    "name": "ipython",
    "version": 2
   },
   "file_extension": ".py",
   "mimetype": "text/x-python",
   "name": "python",
   "nbconvert_exporter": "python",
   "pygments_lexer": "ipython2",
   "version": "2.7.12"
  }
 },
 "nbformat": 4,
 "nbformat_minor": 1
}
