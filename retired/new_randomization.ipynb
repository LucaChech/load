{
 "cells": [
  {
   "cell_type": "code",
   "execution_count": 1,
   "metadata": {
    "collapsed": true
   },
   "outputs": [],
   "source": [
    "import random\n",
    "probe_series = []\n",
    "critical_series = []"
   ]
  },
  {
   "cell_type": "code",
   "execution_count": 4,
   "metadata": {
    "collapsed": false
   },
   "outputs": [
    {
     "name": "stdout",
     "output_type": "stream",
     "text": [
      "new_list_1:  [2, 3, 16, 17, 20, 27, 30, 49, 53]\n",
      "new_list_2:  [1, 8, 37, 40, 55, 57]\n",
      "2\n",
      "new_list_1:  [9, 14, 18, 21, 24, 25, 32, 42, 43]\n",
      "new_list_2:  [5, 9, 45, 47, 56, 58]\n",
      "1\n",
      "new_list_1:  [17, 24, 27, 30, 36, 47, 56, 57, 58]\n",
      "new_list_2:  [2, 16, 34, 40, 44, 54]\n",
      "3\n",
      "new_list_1:  [1, 4, 12, 13, 22, 23, 40, 44, 57]\n",
      "new_list_2:  [1, 8, 33, 36, 38, 48]\n",
      "2\n",
      "new_list_1:  [7, 14, 15, 16, 23, 26, 30, 35, 52]\n",
      "new_list_2:  [2, 6, 25, 33, 41, 56]\n",
      "3\n",
      "new_list_1:  [0, 13, 23, 32, 36, 38, 40, 51, 53]\n",
      "new_list_2:  [6, 11, 32, 37, 47, 49]\n",
      "4\n",
      "new_list_1:  [1, 11, 14, 15, 20, 37, 46, 48, 58]\n",
      "new_list_2:  [12, 18, 28, 32, 48, 52]\n",
      "3\n",
      "new_list_1:  [0, 3, 4, 10, 23, 24, 25, 36, 42]\n",
      "new_list_2:  [9, 11, 24, 45, 47, 51]\n",
      "3\n",
      "new_list_1:  [4, 6, 10, 24, 30, 36, 40, 51, 59]\n",
      "new_list_2:  [1, 5, 24, 29, 51, 55]\n",
      "4\n",
      "new_list_1:  [2, 15, 20, 26, 31, 34, 43, 49, 53]\n",
      "new_list_2:  [3, 5, 9, 13, 22, 54]\n",
      "1\n",
      "new_list_1:  [1, 6, 23, 25, 27, 32, 45, 50, 57]\n",
      "new_list_2:  [13, 19, 28, 35, 51, 54]\n",
      "0\n",
      "---------------------------\n",
      "[1, 6, 23, 25, 27, 32, 45, 50, 57]\n",
      "[13, 19, 28, 35, 51, 54]\n",
      "new_list_1:  [3, 9, 11, 15, 24, 25, 26, 36, 52]\n",
      "new_list_2:  [1, 4, 13, 24, 28, 47]\n",
      "5\n",
      "new_list_1:  [4, 8, 13, 21, 29, 38, 41, 53, 57]\n",
      "new_list_2:  [3, 22, 35, 39, 42, 46]\n",
      "2\n",
      "new_list_1:  [12, 13, 14, 18, 19, 43, 46, 49, 58]\n",
      "new_list_2:  [1, 20, 28, 42, 44, 49]\n",
      "3\n",
      "new_list_1:  [3, 5, 7, 15, 42, 50, 52, 54, 59]\n",
      "new_list_2:  [11, 16, 29, 31, 40, 48]\n",
      "2\n",
      "new_list_1:  [6, 10, 20, 26, 39, 41, 42, 44, 55]\n",
      "new_list_2:  [2, 9, 28, 38, 44, 47]\n",
      "3\n",
      "new_list_1:  [9, 13, 23, 33, 34, 44, 50, 51, 58]\n",
      "new_list_2:  [33, 37, 39, 49, 53, 55]\n",
      "4\n",
      "new_list_1:  [5, 9, 11, 21, 26, 27, 38, 46, 59]\n",
      "new_list_2:  [7, 9, 12, 30, 43, 57]\n",
      "4\n"
     ]
    },
    {
     "ename": "KeyboardInterrupt",
     "evalue": "",
     "output_type": "error",
     "traceback": [
      "\u001b[0;31m---------------------------------------------------------------------------\u001b[0m",
      "\u001b[0;31mKeyboardInterrupt\u001b[0m                         Traceback (most recent call last)",
      "\u001b[0;32m<ipython-input-4-016132a43616>\u001b[0m in \u001b[0;36m<module>\u001b[0;34m()\u001b[0m\n\u001b[1;32m      2\u001b[0m     \u001b[1;32mwhile\u001b[0m \u001b[0mTrue\u001b[0m\u001b[1;33m:\u001b[0m\u001b[1;33m\u001b[0m\u001b[0m\n\u001b[1;32m      3\u001b[0m         \u001b[1;32mwhile\u001b[0m \u001b[0mTrue\u001b[0m\u001b[1;33m:\u001b[0m\u001b[1;33m\u001b[0m\u001b[0m\n\u001b[0;32m----> 4\u001b[0;31m             \u001b[0ma\u001b[0m \u001b[1;33m=\u001b[0m \u001b[1;33m[\u001b[0m\u001b[0mrandom\u001b[0m\u001b[1;33m.\u001b[0m\u001b[0mrandint\u001b[0m\u001b[1;33m(\u001b[0m\u001b[1;36m1\u001b[0m\u001b[1;33m,\u001b[0m\u001b[1;36m60\u001b[0m\u001b[1;33m)\u001b[0m \u001b[1;32mfor\u001b[0m \u001b[0mr\u001b[0m \u001b[1;32min\u001b[0m \u001b[0mxrange\u001b[0m\u001b[1;33m(\u001b[0m\u001b[1;36m9\u001b[0m\u001b[1;33m)\u001b[0m\u001b[1;33m]\u001b[0m\u001b[1;33m\u001b[0m\u001b[0m\n\u001b[0m\u001b[1;32m      5\u001b[0m             \u001b[1;32mif\u001b[0m \u001b[0msum\u001b[0m\u001b[1;33m(\u001b[0m\u001b[0ma\u001b[0m\u001b[1;33m)\u001b[0m \u001b[1;33m<=\u001b[0m \u001b[1;36m60\u001b[0m\u001b[1;33m:\u001b[0m\u001b[1;33m\u001b[0m\u001b[0m\n\u001b[1;32m      6\u001b[0m                 \u001b[1;32mbreak\u001b[0m\u001b[1;33m\u001b[0m\u001b[0m\n",
      "\u001b[0;31mKeyboardInterrupt\u001b[0m: "
     ]
    }
   ],
   "source": [
    "for cycle in range(2):\n",
    "    while True:    \n",
    "        while True:\n",
    "            a = [random.randint(1,60) for r in xrange(9)]\n",
    "            if sum(a) <= 60:\n",
    "                break\n",
    "        new_list_1 = []\n",
    "        acc = 0\n",
    "        for i in a:\n",
    "            acc = acc + i\n",
    "            new_list_1.append(acc)\n",
    "        new_list_1 = [n - 1 for n in new_list_1]\n",
    "        print 'new_list_1: ',new_list_1\n",
    "        #print sum(a)\n",
    "\n",
    "        while True:\n",
    "            a = [random.randint(1,60) for r in xrange(6)]\n",
    "            if sum(a) <= 60 and 1 not in a:\n",
    "                break\n",
    "        new_list_2 = []\n",
    "        acc = 0\n",
    "        for i in a:\n",
    "            acc = acc + i\n",
    "            new_list_2.append(acc)\n",
    "        new_list_2 = [n - 1 for n in new_list_2]\n",
    "        print 'new_list_2: ', new_list_2\n",
    "        #print sum(a)\n",
    "\n",
    "        container = []\n",
    "        for i in new_list_2:\n",
    "            sequence = [i, i+1, i+2]\n",
    "            #print sequence\n",
    "            for element in sequence:\n",
    "                if element in new_list_1:\n",
    "                    container.append(element)\n",
    "        print len(container)\n",
    "        if len(container) == 0:\n",
    "            break\n",
    "    print '---------------------------'\n",
    "    probe_series.append(new_list_1)\n",
    "    critical_series.append(new_list_2)\n",
    "    print new_list_1\n",
    "    print new_list_2\n"
   ]
  },
  {
   "cell_type": "code",
   "execution_count": 3,
   "metadata": {
    "collapsed": false
   },
   "outputs": [
    {
     "name": "stdout",
     "output_type": "stream",
     "text": [
      "[[3, 11, 13, 16, 25, 30, 34, 39, 46], [0, 12, 13, 14, 16, 20, 29, 52, 58]]\n"
     ]
    }
   ],
   "source": [
    "print probe_series1"
   ]
  }
 ],
 "metadata": {
  "anaconda-cloud": {},
  "kernelspec": {
   "display_name": "Python [default]",
   "language": "python",
   "name": "python2"
  },
  "language_info": {
   "codemirror_mode": {
    "name": "ipython",
    "version": 2
   },
   "file_extension": ".py",
   "mimetype": "text/x-python",
   "name": "python",
   "nbconvert_exporter": "python",
   "pygments_lexer": "ipython2",
   "version": "2.7.12"
  }
 },
 "nbformat": 4,
 "nbformat_minor": 1
}
