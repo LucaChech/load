{
 "cells": [
  {
   "cell_type": "code",
   "execution_count": 1,
   "metadata": {
    "collapsed": false
   },
   "outputs": [
    {
     "name": "stdout",
     "output_type": "stream",
     "text": [
      "480\n",
      "True\n",
      "False\n"
     ]
    }
   ],
   "source": [
    "import pandas as pd\n",
    "import numpy as np\n",
    "import random\n",
    "import csv\n",
    "#mypath = 'C:/Users/luca.chech.16/Desktop/'\n",
    "mypath = 'C:/Users/KeK/OneDrive - University College London/Random_probes_last/Luca/'\n",
    "df = pd.DataFrame.from_csv(mypath + 'my_dict.csv')\n",
    "df.reset_index(drop=False)\n",
    "\n",
    "image_names = df.index.tolist()\n",
    "cat1 = df['0'].tolist()\n",
    "cat2 = df['1'].tolist()\n",
    "cat3 = df['2'].tolist()\n",
    "cat4 = df['3'].tolist()\n",
    "cat5 = df['4'].tolist()\n",
    "ts = df['6'].tolist()\n",
    "load = df['7'].tolist()\n",
    "my_dict ={z[0]:list(z[1:]) for z in zip(image_names,cat1,cat2,cat3,cat4,cat5,ts,load)}\n",
    "\n",
    "categories = [' bottle', ' horse', ' pottedplant', ' dog', ' cat', ' person', ' aeroplane', ' car', ' chair', ' sofa', ' bird', ' boat']\n",
    "p_load = ['low','high']\n",
    "target_present_trials = []\n",
    "target_absent_trials = []\n",
    "lista= my_dict.keys()\n",
    "\n",
    "# Creating a subset of items representing the possible images to be used in the experiment \n",
    "#and deleting every other element from my_dict\n",
    "target_present = []\n",
    "intermediate = []\n",
    "\n",
    "for category in categories:\n",
    "    for load in p_load:\n",
    "        while True:\n",
    "            trial = str(np.random.choice(lista, 1, replace= False))[2:-2]\n",
    "            if category in my_dict[trial] and load in my_dict[trial] and trial not in \\\n",
    "                intermediate and trial not in target_present:\n",
    "                intermediate.append(trial)\n",
    "            if len(intermediate) == 20:\n",
    "                for each in intermediate:\n",
    "                    target_present.append(each)\n",
    "                    my_dict[each].append(category)\n",
    "                intermediate = []\n",
    "                break\n",
    "\n",
    "print len(target_present)\n",
    "\n",
    "\n",
    "\n",
    "\n",
    "#DEFINING A FUNCTION THAT CHECKS WHETHER EACH ITEM OF A LIST IS UNIQUE\n",
    "\n",
    "def unique_values(g):\n",
    "    s = set()\n",
    "    for x in g:\n",
    "        if x in s: return False\n",
    "        s.add(x)\n",
    "    return True\n",
    "print unique_values(target_present)\n",
    "print len(target_present) != len(set(target_present))\n",
    "possible_images_dict = {key:my_dict[key] for key in target_present}\n",
    "\n",
    "from shutil import copyfile\n",
    "\n",
    "#for each in possible_images_dict.keys():\n",
    "#    copyfile('E:/OneDrive - University College London/gitRepos/Experiment/JPEGImages/'+each, \n",
    "#            'E:/OneDrive - University College London/gitRepos/Experiment/exp_images/'+each)\n",
    "for each in possible_images_dict.keys():\n",
    "    copyfile(mypath + 'JPEGImages/'+each, \n",
    "            mypath + 'exp_images/'+each)\n",
    "df = pd.DataFrame.from_dict(possible_images_dict)\n",
    "df = df.T\n",
    "df.head()\n",
    "df.to_csv(mypath + 'all_images_2.csv')    "
   ]
  },
  {
   "cell_type": "code",
   "execution_count": 2,
   "metadata": {
    "collapsed": true
   },
   "outputs": [],
   "source": [
    "def constrained_sum_sample_pos(n, total):\n",
    "    \"\"\"Return a randomly chosen list of n positive integers summing to total.\n",
    "    Each such list is equally likely to occur.\"\"\"\n",
    "    global sequences_length\n",
    "    dividers = sorted(random.sample(xrange(1, total), n - 1))\n",
    "    sequences_length = [a - b for a, b in zip(dividers + [total], [0] + dividers)]"
   ]
  },
  {
   "cell_type": "code",
   "execution_count": 3,
   "metadata": {
    "collapsed": false
   },
   "outputs": [
    {
     "name": "stdout",
     "output_type": "stream",
     "text": [
      "40\n",
      "40\n"
     ]
    }
   ],
   "source": [
    "#DEFINING PRACTICE IMAGES\n",
    "images_not_used_in_exp = [n for n in my_dict.keys() if n not in possible_images_dict.keys()]\n",
    "practice_low = [n for n in my_dict.keys() if 'low' in my_dict[n] and n in images_not_used_in_exp][0:80]\n",
    "practice_high = [n for n in my_dict.keys() if 'high' in my_dict[n] and n in images_not_used_in_exp][0:80]\n",
    "practice_set = practice_low + practice_high\n",
    "practice_dict = {your_key: my_dict[your_key] for your_key in practice_set }\n",
    "\n",
    "load_level = ['low','high']\n",
    "present_absent = ['Target Present', 'Target Absent']\n",
    "for load in load_level:\n",
    "        temp = []\n",
    "        while len(temp) <40:\n",
    "            a = str(np.random.choice(practice_set,1, replace = False))[2:-2]\n",
    "            if a not in temp and load in my_dict[a]:\n",
    "                temp.append(a)\n",
    "        print len(temp)\n",
    "        {practice_dict[image].append('Target Present') for image in temp}\n",
    "\n",
    "for each in practice_dict:\n",
    "    if 'Target Present' not in practice_dict[each]:\n",
    "        practice_dict[each].append('Target Absent')\n",
    "#print my_dict\n",
    "    \n"
   ]
  },
  {
   "cell_type": "code",
   "execution_count": 4,
   "metadata": {
    "collapsed": false
   },
   "outputs": [
    {
     "name": "stdout",
     "output_type": "stream",
     "text": [
      "40\n",
      "40\n",
      "40\n",
      "40\n"
     ]
    }
   ],
   "source": [
    "l_p_counter = 0\n",
    "for each in practice_dict:\n",
    "    if 'Target Present' in practice_dict[each] and 'low' in practice_dict[each]:\n",
    "        l_p_counter = l_p_counter + 1\n",
    "print l_p_counter\n",
    "h_p_counter = 0\n",
    "for each in practice_dict:\n",
    "    if 'Target Present' in practice_dict[each] and 'high' in practice_dict[each]:\n",
    "        h_p_counter = h_p_counter + 1\n",
    "print h_p_counter\n",
    "l_a_counter = 0\n",
    "for each in practice_dict:\n",
    "    if 'Target Absent' in practice_dict[each] and 'low' in practice_dict[each]:\n",
    "        l_a_counter = l_a_counter + 1\n",
    "print l_a_counter\n",
    "h_a_counter = 0\n",
    "for each in practice_dict:\n",
    "    if 'Target Absent' in practice_dict[each] and 'low' in practice_dict[each]:\n",
    "        h_a_counter = h_a_counter + 1\n",
    "print h_a_counter"
   ]
  },
  {
   "cell_type": "code",
   "execution_count": 5,
   "metadata": {
    "collapsed": false
   },
   "outputs": [
    {
     "name": "stdout",
     "output_type": "stream",
     "text": [
      "8\n",
      "16\n",
      "24\n",
      "32\n",
      "True\n"
     ]
    }
   ],
   "source": [
    "#Defining critical trials\n",
    "lista = practice_dict.keys()\n",
    "critical_trials = []\n",
    "def critical_trial(load_level, present_absent):\n",
    "    global critical_trials\n",
    "    temp = []\n",
    "    container = []\n",
    "    for element in lista:\n",
    "        if load_level in practice_dict[element] and present_absent in practice_dict[element]:\n",
    "            container.append(element)\n",
    "    while len(temp) <8 :\n",
    "        intermediate = str(np.random.choice(container, 1, replace= False))[2:-2]\n",
    "        if intermediate not in temp and intermediate not in critical_trials:\n",
    "            temp.append(intermediate)\n",
    "        #print temp\n",
    "    for each in temp:\n",
    "        critical_trials.append(each)\n",
    "    temp =[]\n",
    "    print len(critical_trials)\n",
    "         \n",
    "critical_trial('low','Target Present')\n",
    "critical_trial('high','Target Present')\n",
    "critical_trial('low','Target Absent')\n",
    "critical_trial('high','Target Absent')\n",
    "print len(critical_trials) == len(set(critical_trials))\n",
    "for each in critical_trials:\n",
    "    practice_dict[each].append('Critical')\n",
    "for each in practice_dict:\n",
    "    if 'Critical' not in practice_dict[each]:\n",
    "        practice_dict[each].append('Normal')"
   ]
  },
  {
   "cell_type": "code",
   "execution_count": 6,
   "metadata": {
    "collapsed": false
   },
   "outputs": [
    {
     "name": "stdout",
     "output_type": "stream",
     "text": [
      "16\n",
      "160\n",
      "144\n"
     ]
    }
   ],
   "source": [
    "#Define probes identity (put the name of the related images in a list called probes)\n",
    "probes = []\n",
    "for load in load_level:\n",
    "    for element in present_absent:\n",
    "        names = []\n",
    "        while len(names) < 4:\n",
    "            temp_name = str(np.random.choice(lista, 1, replace= False))[2:-2]\n",
    "            if element in practice_dict[temp_name] and load in practice_dict[temp_name] and temp_name not in names:\n",
    "                names.append(temp_name)\n",
    "        for each in names:\n",
    "            probes.append(each)\n",
    "print len(probes)\n",
    "print len(lista)\n",
    "for probe in probes:\n",
    "    if probe in lista:\n",
    "        lista.remove(probe)\n",
    "print len(lista)\n"
   ]
  },
  {
   "cell_type": "code",
   "execution_count": 7,
   "metadata": {
    "collapsed": false
   },
   "outputs": [
    {
     "name": "stdout",
     "output_type": "stream",
     "text": [
      "[3, 6, 45, 4, 13, 2, 15, 1, 1, 15, 4, 33, 12, 1, 3, 2]\n",
      "[2, 8, 53, 57, 70, 72, 87, 88, 89, 104, 108, 141, 153, 154, 157, 159]\n"
     ]
    }
   ],
   "source": [
    "constrained_sum_sample_pos(16,160)\n",
    "acc = 0\n",
    "new_list = []\n",
    "for i in sequences_length:\n",
    "    acc = acc + i\n",
    "    new_list.append(acc - 1)\n",
    "for i in range(len(probes)):\n",
    "    lista.insert(new_list[i], probes[i])\n",
    "print sequences_length\n",
    "print new_list\n"
   ]
  },
  {
   "cell_type": "code",
   "execution_count": 9,
   "metadata": {
    "collapsed": false
   },
   "outputs": [
    {
     "name": "stdout",
     "output_type": "stream",
     "text": [
      "                   Cat.1     Cat.2 Cat.3 Cat.4 Cat.5       TS  Load  \\\n",
      "2008_000003.jpg   person     train   NaN   NaN   NaN   19.449   low   \n",
      "2008_000019.jpg      dog       NaN   NaN   NaN   NaN  18.6902   low   \n",
      "2008_000066.jpg      dog       NaN   NaN   NaN   NaN  14.8404   low   \n",
      "2008_000076.jpg    horse       NaN   NaN   NaN   NaN  20.9937   low   \n",
      "2008_000090.jpg   person   bicycle   NaN   NaN   NaN  32.7326  high   \n",
      "\n",
      "                 present_absent trial_type  \n",
      "2008_000003.jpg   Target Absent     Normal  \n",
      "2008_000019.jpg   Target Absent   Critical  \n",
      "2008_000066.jpg   Target Absent     Normal  \n",
      "2008_000076.jpg  Target Present     Normal  \n",
      "2008_000090.jpg  Target Present     Normal  \n"
     ]
    }
   ],
   "source": [
    "for each in practice_dict.keys():\n",
    "    copyfile(mypath + 'JPEGImages/'+each, \n",
    "            mypath + 'practice_images/'+each)\n",
    "df = pd.DataFrame.from_dict(practice_dict)\n",
    "df = df.T\n",
    "df.columns = ['Cat.1','Cat.2','Cat.3','Cat.4','Cat.5','TS','Load','present_absent','trial_type']\n",
    "print df.head()\n",
    "df.to_csv(mypath + 'practice_22.csv') "
   ]
  },
  {
   "cell_type": "code",
   "execution_count": null,
   "metadata": {
    "collapsed": false
   },
   "outputs": [],
   "source": [
    "for each in lista:\n",
    "    absent_categories = [category for category in categories if category not in my_dict[each]]\n",
    "    print absent_categories"
   ]
  }
 ],
 "metadata": {
  "anaconda-cloud": {},
  "kernelspec": {
   "display_name": "Python [default]",
   "language": "python",
   "name": "python2"
  },
  "language_info": {
   "codemirror_mode": {
    "name": "ipython",
    "version": 2
   },
   "file_extension": ".py",
   "mimetype": "text/x-python",
   "name": "python",
   "nbconvert_exporter": "python",
   "pygments_lexer": "ipython2",
   "version": "2.7.12"
  }
 },
 "nbformat": 4,
 "nbformat_minor": 1
}
