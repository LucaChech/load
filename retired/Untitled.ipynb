{
 "cells": [
  {
   "cell_type": "code",
   "execution_count": 1,
   "metadata": {
    "collapsed": true
   },
   "outputs": [],
   "source": [
    "import pickle"
   ]
  },
  {
   "cell_type": "code",
   "execution_count": 2,
   "metadata": {
    "collapsed": true
   },
   "outputs": [],
   "source": [
    "f = 'E:\\OneDrive - University College London\\load\\output\\participant_test.pik'"
   ]
  },
  {
   "cell_type": "code",
   "execution_count": 3,
   "metadata": {
    "collapsed": true
   },
   "outputs": [],
   "source": [
    "with open(f,'r') as file:\n",
    "    D = pickle.load(file)"
   ]
  },
  {
   "cell_type": "code",
   "execution_count": 5,
   "metadata": {
    "collapsed": false
   },
   "outputs": [
    {
     "data": {
      "text/plain": [
       "[1, 2, 3, 4, 5]"
      ]
     },
     "execution_count": 5,
     "metadata": {},
     "output_type": "execute_result"
    }
   ],
   "source": [
    "D.keys()"
   ]
  },
  {
   "cell_type": "code",
   "execution_count": 6,
   "metadata": {
    "collapsed": false
   },
   "outputs": [
    {
     "data": {
      "text/plain": [
       "['block_number', 'space', 'image_number', 'RT_TO']"
      ]
     },
     "execution_count": 6,
     "metadata": {},
     "output_type": "execute_result"
    }
   ],
   "source": [
    "D[1].keys()"
   ]
  },
  {
   "cell_type": "code",
   "execution_count": 7,
   "metadata": {
    "collapsed": false
   },
   "outputs": [
    {
     "data": {
      "text/plain": [
       "{1: {'RT_TO': 'No timing',\n",
       "  'block_number': 1,\n",
       "  'image_number': 0,\n",
       "  'space': 'No spacebar'},\n",
       " 2: {'RT_TO': 'No timing',\n",
       "  'RT_VS': 4.293649184910464,\n",
       "  'block_number': 1,\n",
       "  'image_number': 1,\n",
       "  'keys': 'q',\n",
       "  'space': 'No spacebar',\n",
       "  'useless': -999},\n",
       " 3: {'RT_TO': 'No timing',\n",
       "  'block_number': 1,\n",
       "  'image_number': 2,\n",
       "  'space': 'No spacebar'},\n",
       " 4: {'RT_TO': 'No timing',\n",
       "  'block_number': 1,\n",
       "  'image_number': 3,\n",
       "  'space': 'No spacebar'},\n",
       " 5: {'RT_TO': 'No timing',\n",
       "  'block_number': 1,\n",
       "  'image_number': 4,\n",
       "  'space': 'No spacebar'}}"
      ]
     },
     "execution_count": 7,
     "metadata": {},
     "output_type": "execute_result"
    }
   ],
   "source": [
    "D"
   ]
  },
  {
   "cell_type": "code",
   "execution_count": null,
   "metadata": {
    "collapsed": true
   },
   "outputs": [],
   "source": []
  }
 ],
 "metadata": {
  "anaconda-cloud": {},
  "kernelspec": {
   "display_name": "Python [default]",
   "language": "python",
   "name": "python2"
  },
  "language_info": {
   "codemirror_mode": {
    "name": "ipython",
    "version": 2
   },
   "file_extension": ".py",
   "mimetype": "text/x-python",
   "name": "python",
   "nbconvert_exporter": "python",
   "pygments_lexer": "ipython2",
   "version": "2.7.12"
  }
 },
 "nbformat": 4,
 "nbformat_minor": 1
}
