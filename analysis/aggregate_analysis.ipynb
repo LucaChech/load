{
 "cells": [
  {
   "cell_type": "code",
   "execution_count": 61,
   "metadata": {},
   "outputs": [
    {
     "name": "stdout",
     "output_type": "stream",
     "text": [
      "The autoreload extension is already loaded. To reload it, use:\n",
      "  %reload_ext autoreload\n"
     ]
    }
   ],
   "source": [
    "from random import random\n",
    "import pandas as pd\n",
    "import numpy as np\n",
    "import random\n",
    "import csv\n",
    "from pdb import set_trace\n",
    "import pdb\n",
    "#%pdb\n",
    "#mypath = 'E:/OneDrive - University College London/load/pilot_6_data/'\n",
    "#mypath = 'C:/Users/KeK/OneDrive - University College London/load/pilot_6_data/'\n",
    "%load_ext autoreload\n",
    "%autoreload 2\n",
    "%matplotlib inline\n",
    "\n",
    "from process import *\n",
    "#from test import *\n",
    "from tables import *\n",
    "\n",
    "pd.set_option('display.max_rows', 9000)"
   ]
  },
  {
   "cell_type": "code",
   "execution_count": 5,
   "metadata": {},
   "outputs": [
    {
     "name": "stdout",
     "output_type": "stream",
     "text": [
      "960\n",
      "MEAN TO:  1.1834716151\n",
      "TO WINDOW:  0.428892306638 1.93805092356\n",
      "TO rejects n:  1\n",
      "VS rejects N:  3\n",
      "CORRECT VS:  110\n",
      "{'vs_accuracy_diff': 0.2229760289461783, 'tone_detection_accuracy_low': 0.875, 'false_alarms_low': 0, 'tone_detection_accuracy_diff': 0.04166666666666663, 'tone_detection_accuracy_high': 0.8333333333333334, 'false_alarms_high': 0, 'vs_accuracy_high': 0.7164179104477612, 'vs_accuracy_low': 0.9393939393939394}\n"
     ]
    }
   ],
   "source": [
    "f = '../output/participant_7.pik'\n",
    "import pickle\n",
    "with open(f,'r') as of:\n",
    "    D = pickle.load(of)\n",
    "df = pd.DataFrame.from_dict(D['experiment_details'],orient='index')\n",
    "\n",
    "new_df, notes = process(df)\n",
    "print notes"
   ]
  },
  {
   "cell_type": "code",
   "execution_count": 39,
   "metadata": {
    "collapsed": true
   },
   "outputs": [],
   "source": [
    "participants = ['1','2','3','4','5','7','8','9','10','11','12','14','15','17']"
   ]
  },
  {
   "cell_type": "code",
   "execution_count": 25,
   "metadata": {},
   "outputs": [
    {
     "name": "stdout",
     "output_type": "stream",
     "text": [
      "960\n",
      "MEAN TO:  1.47927871794\n",
      "TO WINDOW:  0.453356333156 2.50520110272\n",
      "TO rejects n:  0\n",
      "VS rejects N:  2\n",
      "CORRECT VS:  117\n",
      "960\n",
      "MEAN TO:  1.64327474029\n",
      "TO WINDOW:  0.942279519948 2.34426996063\n",
      "TO rejects n:  0\n",
      "VS rejects N:  6\n",
      "CORRECT VS:  116\n",
      "960\n",
      "MEAN TO:  1.32639641756\n",
      "TO WINDOW:  0.515620599767 2.13717223536\n",
      "TO rejects n:  1\n",
      "VS rejects N:  4\n",
      "CORRECT VS:  109\n",
      "960\n",
      "MEAN TO:  0.888448123494\n",
      "TO WINDOW:  -3.98146126077 5.75835750776\n",
      "TO rejects n:  1\n",
      "VS rejects N:  6\n",
      "CORRECT VS:  118\n",
      "960\n",
      "MEAN TO:  1.24973741412\n",
      "TO WINDOW:  0.370487393209 2.12898743502\n",
      "TO rejects n:  1\n",
      "VS rejects N:  3\n",
      "CORRECT VS:  129\n",
      "960\n",
      "MEAN TO:  1.1834716151\n",
      "TO WINDOW:  0.428892306638 1.93805092356\n",
      "TO rejects n:  1\n",
      "VS rejects N:  3\n",
      "CORRECT VS:  110\n",
      "960\n",
      "MEAN TO:  1.15074708319\n",
      "TO WINDOW:  0.253489353005 2.04800481338\n",
      "TO rejects n:  1\n",
      "VS rejects N:  3\n",
      "CORRECT VS:  117\n",
      "960\n",
      "MEAN TO:  1.33964470157\n",
      "TO WINDOW:  0.616400066294 2.06288933686\n",
      "TO rejects n:  0\n",
      "VS rejects N:  6\n",
      "CORRECT VS:  106\n",
      "960\n",
      "MEAN TO:  1.48571804182\n",
      "TO WINDOW:  0.50885806419 2.46257801945\n",
      "TO rejects n:  1\n",
      "VS rejects N:  5\n",
      "CORRECT VS:  111\n",
      "960\n",
      "MEAN TO:  1.4543600445\n",
      "TO WINDOW:  0.471846573212 2.4368735158\n",
      "TO rejects n:  1\n",
      "VS rejects N:  2\n",
      "CORRECT VS:  110\n",
      "960\n",
      "MEAN TO:  1.34849069027\n",
      "TO WINDOW:  -0.145743995985 2.84272537653\n",
      "TO rejects n:  1\n",
      "VS rejects N:  3\n",
      "CORRECT VS:  125\n",
      "960\n",
      "MEAN TO:  1.10874949586\n",
      "TO WINDOW:  0.372502687628 1.84499630409\n",
      "TO rejects n:  0\n",
      "VS rejects N:  5\n",
      "CORRECT VS:  126\n",
      "960\n",
      "MEAN TO:  1.19597903721\n",
      "TO WINDOW:  0.172760602928 2.21919747149\n",
      "TO rejects n:  1\n",
      "VS rejects N:  4\n",
      "CORRECT VS:  126\n",
      "960\n",
      "MEAN TO:  0.742795518811\n",
      "TO WINDOW:  -3.43598847975 4.92157951737\n",
      "TO rejects n:  1\n",
      "VS rejects N:  4\n",
      "CORRECT VS:  116\n"
     ]
    }
   ],
   "source": [
    "results = {}\n",
    "for p in participants:\n",
    "    df_out,notes = process_observer(p)\n",
    "    results[p] = notes"
   ]
  },
  {
   "cell_type": "code",
   "execution_count": 26,
   "metadata": {},
   "outputs": [
    {
     "data": {
      "text/plain": [
       "{'1': {'false_alarms_high': 0,\n",
       "  'false_alarms_low': 0,\n",
       "  'tone_detection_accuracy_diff': 0.16666666666666669,\n",
       "  'tone_detection_accuracy_high': 0.25,\n",
       "  'tone_detection_accuracy_low': 0.4166666666666667,\n",
       "  'vs_accuracy_diff': 0.15431235431235435,\n",
       "  'vs_accuracy_high': 0.8153846153846154,\n",
       "  'vs_accuracy_low': 0.9696969696969697},\n",
       " '10': {'false_alarms_high': 0,\n",
       "  'false_alarms_low': 0,\n",
       "  'tone_detection_accuracy_diff': -0.16666666666666663,\n",
       "  'tone_detection_accuracy_high': 0.75,\n",
       "  'tone_detection_accuracy_low': 0.5833333333333334,\n",
       "  'vs_accuracy_diff': 0.12215320910973082,\n",
       "  'vs_accuracy_high': 0.782608695652174,\n",
       "  'vs_accuracy_low': 0.9047619047619048},\n",
       " '11': {'false_alarms_high': 0,\n",
       "  'false_alarms_low': 0,\n",
       "  'tone_detection_accuracy_diff': -0.20833333333333331,\n",
       "  'tone_detection_accuracy_high': 0.625,\n",
       "  'tone_detection_accuracy_low': 0.4166666666666667,\n",
       "  'vs_accuracy_diff': -0.046675191815856776,\n",
       "  'vs_accuracy_high': 0.8260869565217391,\n",
       "  'vs_accuracy_low': 0.7794117647058824},\n",
       " '12': {'false_alarms_high': 1,\n",
       "  'false_alarms_low': 3,\n",
       "  'tone_detection_accuracy_diff': 0.125,\n",
       "  'tone_detection_accuracy_high': 0.5416666666666666,\n",
       "  'tone_detection_accuracy_low': 0.6666666666666666,\n",
       "  'vs_accuracy_diff': 0.06258234519104089,\n",
       "  'vs_accuracy_high': 0.8939393939393939,\n",
       "  'vs_accuracy_low': 0.9565217391304348},\n",
       " '14': {'false_alarms_high': 0,\n",
       "  'false_alarms_low': 0,\n",
       "  'tone_detection_accuracy_diff': 0.16666666666666674,\n",
       "  'tone_detection_accuracy_high': 0.7916666666666666,\n",
       "  'tone_detection_accuracy_low': 0.9583333333333334,\n",
       "  'vs_accuracy_diff': 0.07760180995475119,\n",
       "  'vs_accuracy_high': 0.9076923076923077,\n",
       "  'vs_accuracy_low': 0.9852941176470589},\n",
       " '15': {'false_alarms_high': 1,\n",
       "  'false_alarms_low': 1,\n",
       "  'tone_detection_accuracy_diff': -0.04166666666666663,\n",
       "  'tone_detection_accuracy_high': 0.875,\n",
       "  'tone_detection_accuracy_low': 0.8333333333333334,\n",
       "  'vs_accuracy_diff': 0.1255178127589064,\n",
       "  'vs_accuracy_high': 0.8450704225352113,\n",
       "  'vs_accuracy_low': 0.9705882352941176},\n",
       " '17': {'false_alarms_high': 4,\n",
       "  'false_alarms_low': 7,\n",
       "  'tone_detection_accuracy_diff': 0.08333333333333337,\n",
       "  'tone_detection_accuracy_high': 0.875,\n",
       "  'tone_detection_accuracy_low': 0.9583333333333334,\n",
       "  'vs_accuracy_diff': 0.2049910873440286,\n",
       "  'vs_accuracy_high': 0.7647058823529411,\n",
       "  'vs_accuracy_low': 0.9696969696969697},\n",
       " '2': {'false_alarms_high': 0,\n",
       "  'false_alarms_low': 0,\n",
       "  'tone_detection_accuracy_diff': 0.04166666666666667,\n",
       "  'tone_detection_accuracy_high': 0.08333333333333333,\n",
       "  'tone_detection_accuracy_low': 0.125,\n",
       "  'vs_accuracy_diff': 0.11940298507462688,\n",
       "  'vs_accuracy_high': 0.8059701492537313,\n",
       "  'vs_accuracy_low': 0.9253731343283582},\n",
       " '3': {'false_alarms_high': 0,\n",
       "  'false_alarms_low': 0,\n",
       "  'tone_detection_accuracy_diff': 0.08333333333333326,\n",
       "  'tone_detection_accuracy_high': 0.5833333333333334,\n",
       "  'tone_detection_accuracy_low': 0.6666666666666666,\n",
       "  'vs_accuracy_diff': 0.11268939393939392,\n",
       "  'vs_accuracy_high': 0.78125,\n",
       "  'vs_accuracy_low': 0.8939393939393939},\n",
       " '4': {'false_alarms_high': 0,\n",
       "  'false_alarms_low': 0,\n",
       "  'tone_detection_accuracy_diff': -0.04166666666666663,\n",
       "  'tone_detection_accuracy_high': 0.5416666666666666,\n",
       "  'tone_detection_accuracy_low': 0.5,\n",
       "  'vs_accuracy_diff': -0.01673450927182274,\n",
       "  'vs_accuracy_high': 0.8955223880597015,\n",
       "  'vs_accuracy_low': 0.8787878787878788},\n",
       " '5': {'false_alarms_high': 1,\n",
       "  'false_alarms_low': 0,\n",
       "  'tone_detection_accuracy_diff': 0.0,\n",
       "  'tone_detection_accuracy_high': 0.9166666666666666,\n",
       "  'tone_detection_accuracy_low': 0.9166666666666666,\n",
       "  'vs_accuracy_diff': 0.08390342052313893,\n",
       "  'vs_accuracy_high': 0.8732394366197183,\n",
       "  'vs_accuracy_low': 0.9571428571428572},\n",
       " '7': {'false_alarms_high': 0,\n",
       "  'false_alarms_low': 0,\n",
       "  'tone_detection_accuracy_diff': 0.04166666666666663,\n",
       "  'tone_detection_accuracy_high': 0.8333333333333334,\n",
       "  'tone_detection_accuracy_low': 0.875,\n",
       "  'vs_accuracy_diff': 0.2229760289461783,\n",
       "  'vs_accuracy_high': 0.7164179104477612,\n",
       "  'vs_accuracy_low': 0.9393939393939394},\n",
       " '8': {'false_alarms_high': 1,\n",
       "  'false_alarms_low': 0,\n",
       "  'tone_detection_accuracy_diff': -0.08333333333333337,\n",
       "  'tone_detection_accuracy_high': 0.8333333333333334,\n",
       "  'tone_detection_accuracy_low': 0.75,\n",
       "  'vs_accuracy_diff': 0.1262939958592132,\n",
       "  'vs_accuracy_high': 0.8260869565217391,\n",
       "  'vs_accuracy_low': 0.9523809523809523},\n",
       " '9': {'false_alarms_high': 0,\n",
       "  'false_alarms_low': 0,\n",
       "  'tone_detection_accuracy_diff': 0.04166666666666663,\n",
       "  'tone_detection_accuracy_high': 0.7083333333333334,\n",
       "  'tone_detection_accuracy_low': 0.75,\n",
       "  'vs_accuracy_diff': 0.05464982778415617,\n",
       "  'vs_accuracy_high': 0.7761194029850746,\n",
       "  'vs_accuracy_low': 0.8307692307692308}}"
      ]
     },
     "execution_count": 26,
     "metadata": {},
     "output_type": "execute_result"
    }
   ],
   "source": [
    "results"
   ]
  },
  {
   "cell_type": "code",
   "execution_count": 27,
   "metadata": {
    "collapsed": true
   },
   "outputs": [],
   "source": [
    "# Preparing table for visual-search task\n",
    "visual_search_task_data=np.zeros((14,3))\n",
    "\n",
    "for i,p in enumerate(participants):\n",
    "    visual_search_task_data[i,0] = results[p]['vs_accuracy_high']*100\n",
    "    visual_search_task_data[i,1] = results[p]['vs_accuracy_low']*100\n",
    "    visual_search_task_data[i,2] = results[p]['vs_accuracy_diff']*100\n",
    "\n",
    "    \n",
    "visual_search_task_data = np.round(visual_search_task_data,1)"
   ]
  },
  {
   "cell_type": "code",
   "execution_count": 28,
   "metadata": {
    "collapsed": true
   },
   "outputs": [],
   "source": [
    "# Preparing table for tone-detection task\n",
    "detection_task_data=np.zeros((14,3))\n",
    "\n",
    "for i,p in enumerate(participants):\n",
    "    detection_task_data[i,0] = results[p]['tone_detection_accuracy_high']*100\n",
    "    detection_task_data[i,1] = results[p]['tone_detection_accuracy_low']*100\n",
    "    detection_task_data[i,2] = results[p]['tone_detection_accuracy_diff']*100\n",
    "\n",
    "    \n",
    "detection_task_data = np.round(detection_task_data,1)"
   ]
  },
  {
   "cell_type": "code",
   "execution_count": 29,
   "metadata": {
    "collapsed": true
   },
   "outputs": [],
   "source": [
    "# Preparing table for false alarms\n",
    "false_alarms_data=np.zeros((14,2))\n",
    "\n",
    "for i,p in enumerate(participants):\n",
    "    false_alarms_data[i,0] = int(results[p]['false_alarms_low'])\n",
    "    false_alarms_data[i,1] = results[p]['false_alarms_high']\n"
   ]
  },
  {
   "cell_type": "code",
   "execution_count": 42,
   "metadata": {},
   "outputs": [
    {
     "data": {
      "text/plain": [
       "14"
      ]
     },
     "execution_count": 42,
     "metadata": {},
     "output_type": "execute_result"
    }
   ],
   "source": [
    "len(participants)"
   ]
  },
  {
   "cell_type": "code",
   "execution_count": 41,
   "metadata": {},
   "outputs": [],
   "source": [
    "participants = np.arange(1,len(participants)+1)\n"
   ]
  },
  {
   "cell_type": "code",
   "execution_count": 43,
   "metadata": {},
   "outputs": [],
   "source": [
    "f = open('reports/my_table_3.html','wb')\n",
    "f.write('<html><body>')\n",
    "f.write(\"<link rel='stylesheet' type='text/css' href='main.css'>\")\n",
    "#Table for Visual-search task\n",
    "make_table('Visual Search Task: only trials without tones and without false alarms to tones (spacebar responses)',['Participant','Accuracy: high','Accuracy: low','Accuracy: low - high'],participants,visual_search_task_data,f)\n",
    "#Table for Tone-detection task\n",
    "make_table('Tone Detection Task',['Participant','Accuracy: high','Accuracy: low','Accuracy: low - high'],participants,detection_task_data,f)\n",
    "#Table for false alarms (in tone detection)\n",
    "make_table('Tone Detection Task: absolute number of false alarms',['Participant','False alarms: low','False alarms: high'],participants,false_alarms_data,f)\n",
    "f.write('</body></html>')\n",
    "f.close()"
   ]
  },
  {
   "cell_type": "code",
   "execution_count": 44,
   "metadata": {},
   "outputs": [
    {
     "data": {
      "text/plain": [
       "array([[ 25. ,  41.7,  16.7],\n",
       "       [  8.3,  12.5,   4.2],\n",
       "       [ 58.3,  66.7,   8.3],\n",
       "       [ 54.2,  50. ,  -4.2],\n",
       "       [ 91.7,  91.7,   0. ],\n",
       "       [ 83.3,  87.5,   4.2],\n",
       "       [ 83.3,  75. ,  -8.3],\n",
       "       [ 70.8,  75. ,   4.2],\n",
       "       [ 75. ,  58.3, -16.7],\n",
       "       [ 62.5,  41.7, -20.8],\n",
       "       [ 54.2,  66.7,  12.5],\n",
       "       [ 79.2,  95.8,  16.7],\n",
       "       [ 87.5,  83.3,  -4.2],\n",
       "       [ 87.5,  95.8,   8.3]])"
      ]
     },
     "execution_count": 44,
     "metadata": {},
     "output_type": "execute_result"
    }
   ],
   "source": [
    "detection_task_data"
   ]
  },
  {
   "cell_type": "code",
   "execution_count": 46,
   "metadata": {},
   "outputs": [
    {
     "data": {
      "text/plain": [
       "1.4928571428571431"
      ]
     },
     "execution_count": 46,
     "metadata": {},
     "output_type": "execute_result"
    }
   ],
   "source": [
    "np.mean(detection_task_data[:,2])"
   ]
  },
  {
   "cell_type": "code",
   "execution_count": 47,
   "metadata": {},
   "outputs": [
    {
     "data": {
      "text/plain": [
       "1.4928571428571431"
      ]
     },
     "execution_count": 47,
     "metadata": {},
     "output_type": "execute_result"
    }
   ],
   "source": [
    "np.mean(detection_task_data[:,1] - detection_task_data[:,0])"
   ]
  },
  {
   "cell_type": "code",
   "execution_count": 55,
   "metadata": {},
   "outputs": [
    {
     "data": {
      "text/plain": [
       "Ttest_relResult(statistic=0.49025624913261667, pvalue=0.63212288278376261)"
      ]
     },
     "execution_count": 55,
     "metadata": {},
     "output_type": "execute_result"
    }
   ],
   "source": [
    "stats.ttest_rel(detection_task_data[:,1], detection_task_data[:,0])"
   ]
  },
  {
   "cell_type": "code",
   "execution_count": 52,
   "metadata": {
    "collapsed": true
   },
   "outputs": [],
   "source": [
    "from scipy import stats as stats"
   ]
  },
  {
   "cell_type": "code",
   "execution_count": 62,
   "metadata": {},
   "outputs": [
    {
     "data": {
      "text/plain": [
       "<matplotlib.collections.PathCollection at 0xa73a1d0>"
      ]
     },
     "execution_count": 62,
     "metadata": {},
     "output_type": "execute_result"
    },
    {
     "data": {
      "image/png": "[encoded data removed]",
      "text/plain": [
       "<matplotlib.figure.Figure at 0xaa78b10>"
      ]
     },
     "metadata": {},
     "output_type": "display_data"
    }
   ],
   "source": [
    "plt.scatter(detection_task_data[:,1], detection_task_data[:,2])"
   ]
  },
  {
   "cell_type": "code",
   "execution_count": 59,
   "metadata": {
    "collapsed": true
   },
   "outputs": [],
   "source": [
    "import matplotlib.pyplot as plt"
   ]
  },
  {
   "cell_type": "code",
   "execution_count": 63,
   "metadata": {},
   "outputs": [
    {
     "data": {
      "text/plain": [
       "(0.21758789639280501, 0.45490773561709785)"
      ]
     },
     "execution_count": 63,
     "metadata": {},
     "output_type": "execute_result"
    }
   ],
   "source": [
    "stats.pearsonr(detection_task_data[:,1], detection_task_data[:,2])"
   ]
  },
  {
   "cell_type": "code",
   "execution_count": null,
   "metadata": {
    "collapsed": true
   },
   "outputs": [],
   "source": []
  }
 ],
 "metadata": {
  "kernelspec": {
   "display_name": "Python 2",
   "language": "python",
   "name": "python2"
  },
  "language_info": {
   "codemirror_mode": {
    "name": "ipython",
    "version": 2
   },
   "file_extension": ".py",
   "mimetype": "text/x-python",
   "name": "python",
   "nbconvert_exporter": "python",
   "pygments_lexer": "ipython2",
   "version": "2.7.13"
  }
 },
 "nbformat": 4,
 "nbformat_minor": 2
}
