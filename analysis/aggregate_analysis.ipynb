{
 "cells": [
  {
   "cell_type": "code",
   "execution_count": 8,
   "metadata": {},
   "outputs": [
    {
     "data": {
      "text/plain": [
       "['',\n",
       " 'C:\\\\ProgramData\\\\Anaconda2_32\\\\python27.zip',\n",
       " 'C:\\\\ProgramData\\\\Anaconda2_32\\\\DLLs',\n",
       " 'C:\\\\ProgramData\\\\Anaconda2_32\\\\lib',\n",
       " 'C:\\\\ProgramData\\\\Anaconda2_32\\\\lib\\\\plat-win',\n",
       " 'C:\\\\ProgramData\\\\Anaconda2_32\\\\lib\\\\lib-tk',\n",
       " 'C:\\\\ProgramData\\\\Anaconda2_32',\n",
       " 'C:\\\\ProgramData\\\\Anaconda2_32\\\\lib\\\\site-packages',\n",
       " 'C:\\\\ProgramData\\\\Anaconda2_32\\\\lib\\\\site-packages\\\\Sphinx-1.5.6-py2.7.egg',\n",
       " 'C:\\\\ProgramData\\\\Anaconda2_32\\\\lib\\\\site-packages\\\\win32',\n",
       " 'C:\\\\ProgramData\\\\Anaconda2_32\\\\lib\\\\site-packages\\\\win32\\\\lib',\n",
       " 'C:\\\\ProgramData\\\\Anaconda2_32\\\\lib\\\\site-packages\\\\Pythonwin',\n",
       " 'C:\\\\ProgramData\\\\Anaconda2_32\\\\lib\\\\site-packages\\\\setuptools-27.2.0-py2.7.egg',\n",
       " 'C:\\\\ProgramData\\\\Anaconda2_32\\\\lib\\\\site-packages\\\\wx-3.0-msw',\n",
       " 'C:\\\\ProgramData\\\\Anaconda2_32\\\\lib\\\\site-packages\\\\IPython\\\\extensions',\n",
       " 'C:\\\\Users\\\\nilli lab\\\\.ipython',\n",
       " 'lol',\n",
       " 'E:\\\\OneDrive - University College London\\\\my_functions',\n",
       " 'E:\\\\OneDrive - University College London\\\\my_functions']"
      ]
     },
     "execution_count": 8,
     "metadata": {},
     "output_type": "execute_result"
    }
   ],
   "source": [
    "import sys\n",
    "sys.path\n",
    "#sys.path.append('E:\\\\OneDrive - University College London\\my_functions')\n"
   ]
  },
  {
   "cell_type": "code",
   "execution_count": 1,
   "metadata": {
    "collapsed": true
   },
   "outputs": [],
   "source": [
    "from random import random\n",
    "import pandas as pd\n",
    "import numpy as np\n",
    "import random\n",
    "import csv\n",
    "from pdb import set_trace\n",
    "import pdb\n",
    "#%pdb\n",
    "#mypath = 'E:/OneDrive - University College London/load/pilot_6_data/'\n",
    "#mypath = 'C:/Users/KeK/OneDrive - University College London/load/pilot_6_data/'\n",
    "%load_ext autoreload\n",
    "%autoreload 2\n",
    "\n",
    "from process import *\n",
    "from test import *\n",
    "from tables import *\n",
    "\n",
    "pd.set_option('display.max_rows', 9000)"
   ]
  },
  {
   "cell_type": "code",
   "execution_count": null,
   "metadata": {
    "collapsed": true
   },
   "outputs": [],
   "source": [
    "f = '../output/participant_7.pik'\n",
    "import pickle\n",
    "with open(f,'r') as of:\n",
    "    D = pickle.load(of)\n",
    "df = pd.DataFrame.from_dict(D['experiment_details'],orient='index')\n",
    "\n",
    "new_df, notes = process(df)\n",
    "print notes"
   ]
  },
  {
   "cell_type": "code",
   "execution_count": 2,
   "metadata": {
    "collapsed": true
   },
   "outputs": [],
   "source": [
    "participants = ['1','3','5','7','9']"
   ]
  },
  {
   "cell_type": "code",
   "execution_count": 12,
   "metadata": {},
   "outputs": [
    {
     "name": "stdout",
     "output_type": "stream",
     "text": [
      "960\n",
      "MEAN TO:  1.47927871794\n",
      "TO WINDOW:  0.453356333156 2.50520110272\n",
      "TO rejects n:  0\n",
      "VS rejects N:  2\n",
      "CORRECT VS:  117\n",
      "960\n",
      "MEAN TO:  1.32639641756\n",
      "TO WINDOW:  0.515620599767 2.13717223536\n",
      "TO rejects n:  1\n",
      "VS rejects N:  4\n",
      "CORRECT VS:  109\n",
      "960\n",
      "MEAN TO:  1.24973741412\n",
      "TO WINDOW:  0.370487393209 2.12898743502\n",
      "TO rejects n:  1\n",
      "VS rejects N:  3\n",
      "CORRECT VS:  129\n",
      "960\n",
      "MEAN TO:  1.1834716151\n",
      "TO WINDOW:  0.428892306638 1.93805092356\n",
      "TO rejects n:  1\n",
      "VS rejects N:  3\n",
      "CORRECT VS:  110\n",
      "960\n",
      "MEAN TO:  1.33964470157\n",
      "TO WINDOW:  0.616400066294 2.06288933686\n",
      "TO rejects n:  0\n",
      "VS rejects N:  6\n",
      "CORRECT VS:  106\n"
     ]
    }
   ],
   "source": [
    "results = {}\n",
    "for p in participants:\n",
    "    df_out,notes = process_observer(p)\n",
    "    results[p] = notes"
   ]
  },
  {
   "cell_type": "code",
   "execution_count": 13,
   "metadata": {},
   "outputs": [
    {
     "data": {
      "text/plain": [
       "{'1': {'false_alarms_high': 0,\n",
       "  'false_alarms_low': 0,\n",
       "  'tone_detection_accuracy_diff': 0.16666666666666669,\n",
       "  'tone_detection_accuracy_high': 0.25,\n",
       "  'tone_detection_accuracy_low': 0.4166666666666667,\n",
       "  'vs_accuracy_diff': 0.15431235431235435,\n",
       "  'vs_accuracy_high': 0.8153846153846154,\n",
       "  'vs_accuracy_low': 0.9696969696969697},\n",
       " '3': {'false_alarms_high': 0,\n",
       "  'false_alarms_low': 0,\n",
       "  'tone_detection_accuracy_diff': 0.08333333333333326,\n",
       "  'tone_detection_accuracy_high': 0.5833333333333334,\n",
       "  'tone_detection_accuracy_low': 0.6666666666666666,\n",
       "  'vs_accuracy_diff': 0.11268939393939392,\n",
       "  'vs_accuracy_high': 0.78125,\n",
       "  'vs_accuracy_low': 0.8939393939393939},\n",
       " '5': {'false_alarms_high': 1,\n",
       "  'false_alarms_low': 0,\n",
       "  'tone_detection_accuracy_diff': 0.0,\n",
       "  'tone_detection_accuracy_high': 0.9166666666666666,\n",
       "  'tone_detection_accuracy_low': 0.9166666666666666,\n",
       "  'vs_accuracy_diff': 0.08390342052313893,\n",
       "  'vs_accuracy_high': 0.8732394366197183,\n",
       "  'vs_accuracy_low': 0.9571428571428572},\n",
       " '7': {'false_alarms_high': 0,\n",
       "  'false_alarms_low': 0,\n",
       "  'tone_detection_accuracy_diff': 0.04166666666666663,\n",
       "  'tone_detection_accuracy_high': 0.8333333333333334,\n",
       "  'tone_detection_accuracy_low': 0.875,\n",
       "  'vs_accuracy_diff': 0.2229760289461783,\n",
       "  'vs_accuracy_high': 0.7164179104477612,\n",
       "  'vs_accuracy_low': 0.9393939393939394},\n",
       " '9': {'false_alarms_high': 0,\n",
       "  'false_alarms_low': 0,\n",
       "  'tone_detection_accuracy_diff': 0.04166666666666663,\n",
       "  'tone_detection_accuracy_high': 0.7083333333333334,\n",
       "  'tone_detection_accuracy_low': 0.75,\n",
       "  'vs_accuracy_diff': 0.05464982778415617,\n",
       "  'vs_accuracy_high': 0.7761194029850746,\n",
       "  'vs_accuracy_low': 0.8307692307692308}}"
      ]
     },
     "execution_count": 13,
     "metadata": {},
     "output_type": "execute_result"
    }
   ],
   "source": [
    "results"
   ]
  },
  {
   "cell_type": "code",
   "execution_count": 14,
   "metadata": {
    "collapsed": true
   },
   "outputs": [],
   "source": [
    "# Preparing table for visual-search task\n",
    "visual_search_task_data=np.zeros((5,3))\n",
    "\n",
    "for i,p in enumerate(participants):\n",
    "    visual_search_task_data[i,0] = results[p]['vs_accuracy_high']*100\n",
    "    visual_search_task_data[i,1] = results[p]['vs_accuracy_low']*100\n",
    "    visual_search_task_data[i,2] = results[p]['vs_accuracy_diff']*100\n",
    "\n",
    "    \n",
    "visual_search_task_data = np.round(visual_search_task_data,1)"
   ]
  },
  {
   "cell_type": "code",
   "execution_count": 15,
   "metadata": {
    "collapsed": true
   },
   "outputs": [],
   "source": [
    "# Preparing table for tone-detection task\n",
    "detection_task_data=np.zeros((5,3))\n",
    "\n",
    "for i,p in enumerate(participants):\n",
    "    detection_task_data[i,0] = results[p]['tone_detection_accuracy_high']*100\n",
    "    detection_task_data[i,1] = results[p]['tone_detection_accuracy_low']*100\n",
    "    detection_task_data[i,2] = results[p]['tone_detection_accuracy_diff']*100\n",
    "\n",
    "    \n",
    "detection_task_data = np.round(detection_task_data,1)"
   ]
  },
  {
   "cell_type": "code",
   "execution_count": 20,
   "metadata": {
    "collapsed": true
   },
   "outputs": [],
   "source": [
    "# Preparing table for false alarms\n",
    "false_alarms_data=np.zeros((5,2))\n",
    "\n",
    "for i,p in enumerate(participants):\n",
    "    false_alarms_data[i,0] = int(results[p]['false_alarms_low'])\n",
    "    false_alarms_data[i,1] = results[p]['false_alarms_high']\n"
   ]
  },
  {
   "cell_type": "code",
   "execution_count": 23,
   "metadata": {
    "collapsed": true
   },
   "outputs": [],
   "source": [
    "f = open('reports/my_table_3.html','wb')\n",
    "f.write('<html><body>')\n",
    "f.write(\"<link rel='stylesheet' type='text/css' href='main.css'>\")\n",
    "#Table for Visual-search task\n",
    "make_table('Visual Search Task: only trials without tones and without false alarms to tones (spacebar responses)',['Participant','Accuracy: high','Accuracy: low','Accuracy: low - high'],participants,visual_search_task_data,f)\n",
    "#Table for Tone-detection task\n",
    "make_table('Tone Detection Task',['Participant','Accuracy: high','Accuracy: low','Accuracy: low - high'],participants,detection_task_data,f)\n",
    "#Table for false alarms (in tone detection)\n",
    "make_table('Tone Detection Task: absolute number of false alarms',['Participant','False alarms: low','False alarms: high'],participants,false_alarms_data,f)\n",
    "f.write('</body></html>')\n",
    "f.close()"
   ]
  }
 ],
 "metadata": {
  "kernelspec": {
   "display_name": "Python 2",
   "language": "python",
   "name": "python2"
  },
  "language_info": {
   "codemirror_mode": {
    "name": "ipython",
    "version": 2
   },
   "file_extension": ".py",
   "mimetype": "text/x-python",
   "name": "python",
   "nbconvert_exporter": "python",
   "pygments_lexer": "ipython2",
   "version": "2.7.13"
  }
 },
 "nbformat": 4,
 "nbformat_minor": 2
}
