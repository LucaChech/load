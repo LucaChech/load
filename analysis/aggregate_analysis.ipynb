{
 "cells": [
  {
   "cell_type": "code",
   "execution_count": 10,
   "metadata": {
    "collapsed": false
   },
   "outputs": [
    {
     "name": "stdout",
     "output_type": "stream",
     "text": [
      "The autoreload extension is already loaded. To reload it, use:\n",
      "  %reload_ext autoreload\n"
     ]
    }
   ],
   "source": [
    "from random import random\n",
    "import pandas as pd\n",
    "import numpy as np\n",
    "import random\n",
    "import csv\n",
    "from pdb import set_trace\n",
    "import pdb\n",
    "#%pdb\n",
    "#mypath = 'E:/OneDrive - University College London/load/pilot_6_data/'\n",
    "#mypath = 'C:/Users/KeK/OneDrive - University College London/load/pilot_6_data/'\n",
    "%load_ext autoreload\n",
    "%autoreload 2\n",
    "%matplotlib inline\n",
    "\n",
    "from process import *\n",
    "#from test import *\n",
    "from tables import *\n",
    "\n",
    "pd.set_option('display.max_rows', 9000)\n",
    "pd.set_option('display.max_columns', 9000)"
   ]
  },
  {
   "cell_type": "code",
   "execution_count": null,
   "metadata": {
    "collapsed": true
   },
   "outputs": [],
   "source": [
    "f = '../output/participant_8.pik'\n",
    "import pickle\n",
    "with open(f,'r') as of:\n",
    "    D = pickle.load(of)\n",
    "df = pd.DataFrame.from_dict(D['experiment_details'],orient='index')"
   ]
  },
  {
   "cell_type": "code",
   "execution_count": null,
   "metadata": {
    "collapsed": true
   },
   "outputs": [],
   "source": [
    "f = '../output/participant_8.pik'\n",
    "import pickle\n",
    "with open(f,'r') as of:\n",
    "    D = pickle.load(of)\n",
    "df = pd.DataFrame.from_dict(D['experiment_details'],orient='index')\n",
    "\n",
    "new_df, notes = process(df)\n",
    "print notes"
   ]
  },
  {
   "cell_type": "code",
   "execution_count": null,
   "metadata": {
    "collapsed": true
   },
   "outputs": [],
   "source": [
    "df"
   ]
  },
  {
   "cell_type": "code",
   "execution_count": 11,
   "metadata": {
    "collapsed": true
   },
   "outputs": [],
   "source": [
    "participants = ['1','2','3','4','5','7','8','9','10','11','12','14','15','17']\n",
    "participant_names = participants"
   ]
  },
  {
   "cell_type": "code",
   "execution_count": null,
   "metadata": {
    "collapsed": true
   },
   "outputs": [],
   "source": [
    "results = {}\n",
    "for p in participants:\n",
    "    df_out,notes = process_observer(p)\n",
    "    results[p] = notes"
   ]
  },
  {
   "cell_type": "code",
   "execution_count": null,
   "metadata": {
    "collapsed": true
   },
   "outputs": [],
   "source": [
    "results"
   ]
  },
  {
   "cell_type": "code",
   "execution_count": null,
   "metadata": {
    "collapsed": true
   },
   "outputs": [],
   "source": [
    "# Preparing table for visual-search task\n",
    "visual_search_task_data=np.zeros((14,3))\n",
    "\n",
    "for i,p in enumerate(participants):\n",
    "    visual_search_task_data[i,0] = results[p]['vs_accuracy_high']*100\n",
    "    visual_search_task_data[i,1] = results[p]['vs_accuracy_low']*100\n",
    "    visual_search_task_data[i,2] = results[p]['vs_accuracy_diff']*100\n",
    "\n",
    "    \n",
    "visual_search_task_data = np.round(visual_search_task_data,1)"
   ]
  },
  {
   "cell_type": "code",
   "execution_count": null,
   "metadata": {
    "collapsed": true
   },
   "outputs": [],
   "source": [
    "# Preparing table for tone-detection task\n",
    "detection_task_data=np.zeros((14,3))\n",
    "\n",
    "for i,p in enumerate(participants):\n",
    "    detection_task_data[i,0] = results[p]['tone_detection_accuracy_high']*100\n",
    "    detection_task_data[i,1] = results[p]['tone_detection_accuracy_low']*100\n",
    "    detection_task_data[i,2] = results[p]['tone_detection_accuracy_diff']*100\n",
    "\n",
    "    \n",
    "detection_task_data = np.round(detection_task_data,1)"
   ]
  },
  {
   "cell_type": "code",
   "execution_count": null,
   "metadata": {
    "collapsed": true
   },
   "outputs": [],
   "source": [
    "# Preparing table for false alarms\n",
    "false_alarms_data=np.zeros((14,2))\n",
    "\n",
    "for i,p in enumerate(participants):\n",
    "    false_alarms_data[i,0] = int(results[p]['false_alarms_low'])\n",
    "    false_alarms_data[i,1] = results[p]['false_alarms_high']\n"
   ]
  },
  {
   "cell_type": "code",
   "execution_count": null,
   "metadata": {
    "collapsed": true
   },
   "outputs": [],
   "source": [
    "len(participants)"
   ]
  },
  {
   "cell_type": "code",
   "execution_count": null,
   "metadata": {
    "collapsed": true
   },
   "outputs": [],
   "source": [
    "participants = np.arange(1,len(participants)+1)\n"
   ]
  },
  {
   "cell_type": "code",
   "execution_count": null,
   "metadata": {
    "collapsed": true
   },
   "outputs": [],
   "source": [
    "f = open('reports/my_table_3.html','wb')\n",
    "f.write('<html><body>')\n",
    "f.write(\"<link rel='stylesheet' type='text/css' href='main.css'>\")\n",
    "#Table for Visual-search task\n",
    "make_table('Visual Search Task: only trials without tones and without false alarms to tones (spacebar responses)',['Participant','Accuracy: high','Accuracy: low','Accuracy: low - high'],participants,visual_search_task_data,f)\n",
    "#Table for Tone-detection task\n",
    "make_table('Tone Detection Task',['Participant','Accuracy: high','Accuracy: low','Accuracy: low - high'],participants,detection_task_data,f)\n",
    "#Table for false alarms (in tone detection)\n",
    "make_table('Tone Detection Task: absolute number of false alarms',['Participant','False alarms: low','False alarms: high'],participants,false_alarms_data,f)\n",
    "f.write('</body></html>')\n",
    "f.close()"
   ]
  },
  {
   "cell_type": "code",
   "execution_count": null,
   "metadata": {
    "collapsed": true
   },
   "outputs": [],
   "source": [
    "detection_task_data"
   ]
  },
  {
   "cell_type": "code",
   "execution_count": null,
   "metadata": {
    "collapsed": true
   },
   "outputs": [],
   "source": [
    "np.mean(detection_task_data[:,2])"
   ]
  },
  {
   "cell_type": "code",
   "execution_count": null,
   "metadata": {
    "collapsed": true
   },
   "outputs": [],
   "source": [
    "np.mean(detection_task_data[:,1] - detection_task_data[:,0])"
   ]
  },
  {
   "cell_type": "code",
   "execution_count": null,
   "metadata": {
    "collapsed": true
   },
   "outputs": [],
   "source": [
    "stats.ttest_rel(detection_task_data[:,1], detection_task_data[:,0])"
   ]
  },
  {
   "cell_type": "code",
   "execution_count": null,
   "metadata": {
    "collapsed": true
   },
   "outputs": [],
   "source": [
    "from scipy import stats as stats"
   ]
  },
  {
   "cell_type": "code",
   "execution_count": null,
   "metadata": {
    "collapsed": true
   },
   "outputs": [],
   "source": [
    "plt.scatter(detection_task_data[:,1], detection_task_data[:,2])"
   ]
  },
  {
   "cell_type": "code",
   "execution_count": null,
   "metadata": {
    "collapsed": true
   },
   "outputs": [],
   "source": [
    "import matplotlib.pyplot as plt"
   ]
  },
  {
   "cell_type": "code",
   "execution_count": null,
   "metadata": {
    "collapsed": true
   },
   "outputs": [],
   "source": [
    "stats.pearsonr(detection_task_data[:,1], detection_task_data[:,2])"
   ]
  }
 ],
 "metadata": {
  "anaconda-cloud": {},
  "kernelspec": {
   "display_name": "Python [default]",
   "language": "python",
   "name": "python2"
  },
  "language_info": {
   "codemirror_mode": {
    "name": "ipython",
    "version": 2
   },
   "file_extension": ".py",
   "mimetype": "text/x-python",
   "name": "python",
   "nbconvert_exporter": "python",
   "pygments_lexer": "ipython2",
   "version": "2.7.12"
  }
 },
 "nbformat": 4,
 "nbformat_minor": 2
}
