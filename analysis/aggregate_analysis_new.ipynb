{
 "cells": [
  {
   "cell_type": "code",
   "execution_count": 1,
   "metadata": {},
   "outputs": [],
   "source": [
    "from random import random\n",
    "import pandas as pd\n",
    "import numpy as np\n",
    "import random\n",
    "import csv\n",
    "from pdb import set_trace\n",
    "import pdb\n",
    "import pickle\n",
    "#%pdb\n",
    "#mypath = 'E:/OneDrive - University College London/load/pilot_6_data/'\n",
    "#mypath = 'C:/Users/KeK/OneDrive - University College London/load/pilot_6_data/'\n",
    "%load_ext autoreload\n",
    "%autoreload 2\n",
    "%matplotlib inline\n",
    "\n",
    "from process_new import *\n",
    "#from test import *\n",
    "from tables import *\n",
    "\n",
    "pd.set_option('display.max_rows', 9000)\n",
    "pd.set_option('display.max_columns', 9000)"
   ]
  },
  {
   "cell_type": "code",
   "execution_count": null,
   "metadata": {},
   "outputs": [],
   "source": [
    "f = '../output/new_participants/participant_2.pik'\n",
    "import pickle\n",
    "with open(f,'r') as of:\n",
    "    D = pickle.load(of)\n",
    "df = pd.DataFrame.from_dict(D['experiment_details'],orient='index')\n",
    "\n",
    "new_df, notes = process(df)\n",
    "print notes"
   ]
  },
  {
   "cell_type": "code",
   "execution_count": null,
   "metadata": {},
   "outputs": [],
   "source": [
    "df[(df['RT_TO']>0)&(df['trial_type']=='Critical')&(df['tone_sdt']=='HI')]"
   ]
  },
  {
   "cell_type": "code",
   "execution_count": null,
   "metadata": {},
   "outputs": [],
   "source": [
    "df[(df['trial_type']=='Critical')&(df['present_absent']!= 'No Target')]"
   ]
  },
  {
   "cell_type": "code",
   "execution_count": null,
   "metadata": {},
   "outputs": [],
   "source": [
    "#Where do negative values come from?\n",
    "df_negative = df[(df['RT_TO'] < 0)]\n",
    "df_negative.shape"
   ]
  },
  {
   "cell_type": "code",
   "execution_count": null,
   "metadata": {},
   "outputs": [],
   "source": [
    "df_criticals_only = df[(df['trial_type']=='Critical')]\n",
    "df_criticals_only.shape\n",
    "df_criticals_only"
   ]
  },
  {
   "cell_type": "code",
   "execution_count": null,
   "metadata": {},
   "outputs": [],
   "source": [
    "df_criticals_low = df[(df['trial_type'] == 'Critical')&(df[\"load\"] == 'low')]\n",
    "print df_criticals_low.shape\n",
    "df_criticals_low_hit = df[(df['trial_type'] == 'Critical')&(df[\"load\"] == 'low')&(df['RT_TO']>0)]\n",
    "print df_criticals_low_hit.shape"
   ]
  },
  {
   "cell_type": "code",
   "execution_count": null,
   "metadata": {},
   "outputs": [],
   "source": [
    "df_criticals_high = df[(df['trial_type'] == 'Critical')&(df[\"load\"] == 'high')]\n",
    "print df_criticals_high.shape\n",
    "df_criticals_high_hit = df[(df['trial_type'] == 'Critical')&(df[\"load\"] == 'high')&(df['RT_TO']>0)]\n",
    "print df_criticals_high_hit.shape"
   ]
  },
  {
   "cell_type": "code",
   "execution_count": null,
   "metadata": {
    "collapsed": true
   },
   "outputs": [],
   "source": [
    "df_low = df[(df[\"RT_TO\"] > 0) & (df[\"load\"] == 'low') & (df['trial_type'] == 'Critical')]\n"
   ]
  },
  {
   "cell_type": "code",
   "execution_count": null,
   "metadata": {},
   "outputs": [],
   "source": [
    "df_high = df[(df[\"RT_TO\"] > 0) & (df[\"load\"] == 'high') & (df['trial_type'] == 'Critical') & ]\n",
    "#df_high = df[(df[\"load\"] == 'high') & (df['trial_type'] == 'Critical')]\n",
    "\n",
    "print df_high.shape\n",
    "df_high['RT_TO'].mean()"
   ]
  },
  {
   "cell_type": "code",
   "execution_count": 4,
   "metadata": {
    "collapsed": true
   },
   "outputs": [],
   "source": [
    "participants = ['2','3','4','5','6']"
   ]
  },
  {
   "cell_type": "code",
   "execution_count": 5,
   "metadata": {},
   "outputs": [
    {
     "name": "stdout",
     "output_type": "stream",
     "text": [
      "MEAN TO:  1.05912317885\n",
      "TO WINDOW:  -1.94048234128 4.05872869899\n",
      "TO rejects n:  0\n",
      "VS rejects N:  10\n",
      "negative RT_TO values:  (0, 26)\n",
      "negative RT_VS values:  (0, 26)\n",
      "CORRECT VS:  250\n",
      "a 78\n",
      "b 96\n",
      "MEAN TO:  0.961949884738\n",
      "TO WINDOW:  -0.356251191258 2.28015096074\n",
      "TO rejects n:  0\n",
      "VS rejects N:  9\n",
      "negative RT_TO values:  (0, 26)\n",
      "negative RT_VS values:  (0, 26)\n",
      "CORRECT VS:  238\n",
      "a 78\n",
      "b 96\n",
      "MEAN TO:  0.891505107484\n",
      "TO WINDOW:  -1.07389435632 2.85690457129\n",
      "TO rejects n:  0\n",
      "VS rejects N:  10\n",
      "negative RT_TO values:  (0, 26)\n",
      "negative RT_VS values:  (0, 26)\n",
      "CORRECT VS:  222\n",
      "a 78\n",
      "b 96\n",
      "MEAN TO:  1.13004120768\n",
      "TO WINDOW:  -0.440833334049 2.70091574941\n",
      "TO rejects n:  0\n",
      "VS rejects N:  3\n",
      "negative RT_TO values:  (0, 26)\n",
      "negative RT_VS values:  (0, 26)\n",
      "CORRECT VS:  240\n",
      "a 80\n",
      "b 96\n",
      "MEAN TO:  0.96392661949\n",
      "TO WINDOW:  0.52923812335 1.39861511563\n",
      "1.43287733878\n",
      "1.64645213319\n",
      "TO rejects n:  2\n",
      "VS rejects N:  9\n",
      "negative RT_TO values:  (0, 26)\n",
      "negative RT_VS values:  (0, 26)\n",
      "CORRECT VS:  253\n",
      "a 80\n",
      "b 96\n"
     ]
    }
   ],
   "source": [
    "results = {}\n",
    "for p in participants:\n",
    "    df_out,notes = process_observer(p)\n",
    "    results[p] = notes"
   ]
  },
  {
   "cell_type": "code",
   "execution_count": 6,
   "metadata": {
    "collapsed": true
   },
   "outputs": [],
   "source": [
    "# Preparing table for visual-search task\n",
    "visual_search_task_data=np.zeros((len(participants),3))\n",
    "\n",
    "for i,p in enumerate(participants):\n",
    "    visual_search_task_data[i,0] = results[p]['vs_accuracy_high']*100\n",
    "    visual_search_task_data[i,1] = results[p]['vs_accuracy_low']*100\n",
    "    visual_search_task_data[i,2] = results[p]['vs_accuracy_diff']*100\n",
    "\n",
    "    \n",
    "visual_search_task_data = np.round(visual_search_task_data,1)"
   ]
  },
  {
   "cell_type": "code",
   "execution_count": 7,
   "metadata": {
    "collapsed": true
   },
   "outputs": [],
   "source": [
    "# Preparing table for tone-detection task\n",
    "detection_task_data=np.zeros((len(participants),3))\n",
    "\n",
    "for i,p in enumerate(participants):\n",
    "    detection_task_data[i,0] = results[p]['tone_detection_accuracy_high']*100\n",
    "    detection_task_data[i,1] = results[p]['tone_detection_accuracy_low']*100\n",
    "    detection_task_data[i,2] = results[p]['tone_detection_accuracy_diff']*100\n",
    "\n",
    "    \n",
    "detection_task_data = np.round(detection_task_data,1)"
   ]
  },
  {
   "cell_type": "code",
   "execution_count": 8,
   "metadata": {
    "collapsed": true
   },
   "outputs": [],
   "source": [
    "# Preparing table for false alarms\n",
    "false_alarms_data=np.zeros((len(participants),2))\n",
    "\n",
    "for i,p in enumerate(participants):\n",
    "    false_alarms_data[i,0] = int(results[p]['false_alarms_low'])\n",
    "    false_alarms_data[i,1] = results[p]['false_alarms_high']\n"
   ]
  },
  {
   "cell_type": "code",
   "execution_count": 9,
   "metadata": {
    "collapsed": true
   },
   "outputs": [],
   "source": [
    "participants = np.arange(1,len(participants)+1)\n"
   ]
  },
  {
   "cell_type": "code",
   "execution_count": 10,
   "metadata": {
    "collapsed": true
   },
   "outputs": [],
   "source": [
    "f = open('reports/my_table_3.html','wb')\n",
    "f.write('<html><body>')\n",
    "f.write(\"<link rel='stylesheet' type='text/css' href='main.css'>\")\n",
    "#Table for Visual-search task\n",
    "make_table('Visual Search Task: only trials without tones and without false alarms to tones (spacebar responses)',['Participant','Accuracy: high','Accuracy: low','Accuracy: low - high'],participants,visual_search_task_data,f)\n",
    "#Table for Tone-detection task\n",
    "make_table('Tone Detection Task',['Participant','Accuracy: high','Accuracy: low','Accuracy: low - high'],participants,detection_task_data,f)\n",
    "#Table for false alarms (in tone detection)\n",
    "make_table('Tone Detection Task: absolute number of false alarms',['Participant','False alarms: low','False alarms: high'],participants,false_alarms_data,f)\n",
    "f.write('</body></html>')\n",
    "f.close()"
   ]
  },
  {
   "cell_type": "code",
   "execution_count": null,
   "metadata": {
    "collapsed": true
   },
   "outputs": [],
   "source": [
    "detection_task_data"
   ]
  },
  {
   "cell_type": "code",
   "execution_count": null,
   "metadata": {
    "collapsed": true
   },
   "outputs": [],
   "source": [
    "np.mean(detection_task_data[:,2])"
   ]
  },
  {
   "cell_type": "code",
   "execution_count": null,
   "metadata": {
    "collapsed": true
   },
   "outputs": [],
   "source": [
    "np.mean(detection_task_data[:,1] - detection_task_data[:,0])"
   ]
  },
  {
   "cell_type": "code",
   "execution_count": null,
   "metadata": {
    "collapsed": true
   },
   "outputs": [],
   "source": [
    "stats.ttest_rel(detection_task_data[:,1], detection_task_data[:,0])"
   ]
  },
  {
   "cell_type": "code",
   "execution_count": null,
   "metadata": {
    "collapsed": true
   },
   "outputs": [],
   "source": [
    "from scipy import stats as stats"
   ]
  },
  {
   "cell_type": "code",
   "execution_count": null,
   "metadata": {
    "collapsed": true
   },
   "outputs": [],
   "source": [
    "plt.scatter(detection_task_data[:,1], detection_task_data[:,2])"
   ]
  },
  {
   "cell_type": "code",
   "execution_count": null,
   "metadata": {
    "collapsed": true
   },
   "outputs": [],
   "source": [
    "import matplotlib.pyplot as plt"
   ]
  },
  {
   "cell_type": "code",
   "execution_count": null,
   "metadata": {
    "collapsed": true
   },
   "outputs": [],
   "source": [
    "stats.pearsonr(detection_task_data[:,1], detection_task_data[:,2])"
   ]
  }
 ],
 "metadata": {
  "kernelspec": {
   "display_name": "Python 2",
   "language": "python",
   "name": "python2"
  },
  "language_info": {
   "codemirror_mode": {
    "name": "ipython",
    "version": 2
   },
   "file_extension": ".py",
   "mimetype": "text/x-python",
   "name": "python",
   "nbconvert_exporter": "python",
   "pygments_lexer": "ipython2",
   "version": "2.7.13"
  }
 },
 "nbformat": 4,
 "nbformat_minor": 2
}
