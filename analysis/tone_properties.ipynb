{
 "cells": [
  {
   "cell_type": "code",
   "execution_count": 14,
   "metadata": {
    "collapsed": true
   },
   "outputs": [],
   "source": [
    "import numpy as np\n",
    "import random"
   ]
  },
  {
   "cell_type": "code",
   "execution_count": 17,
   "metadata": {
    "collapsed": true
   },
   "outputs": [],
   "source": [
    "def tone_properties():\n",
    "    while True:\n",
    "        possible_tones = ['tone1','tone2']\n",
    "        low_one_tones = [np.random.choice(possible_tones) for r in xrange(3)]\n",
    "        low_two_tones = [np.random.choice(possible_tones) for r in xrange(3)]\n",
    "        low_three_tones = [np.random.choice(possible_tones) for r in xrange(3)]\n",
    "        low_four_tones = [np.random.choice(possible_tones) for r in xrange(3)]\n",
    "        high_one_tones = []\n",
    "        high_two_tones = []\n",
    "        high_three_tones = []\n",
    "        high_four_tones = []\n",
    "        for each in low_one_tones:\n",
    "            if each == 'tone1':\n",
    "                high_one_tones.append('tone2')\n",
    "            elif each == 'tone2':\n",
    "                high_one_tones.append('tone1')\n",
    "        for each in low_two_tones:\n",
    "            if each == 'tone1':\n",
    "                high_two_tones.append('tone2')\n",
    "            elif each == 'tone2':\n",
    "                high_two_tones.append('tone1')\n",
    "        for each in low_three_tones:\n",
    "            if each == 'tone1':\n",
    "                high_three_tones.append('tone2')\n",
    "            elif each == 'tone2':\n",
    "                high_three_tones.append('tone1')\n",
    "        for each in low_four_tones:\n",
    "            if each == 'tone1':\n",
    "                high_four_tones.append('tone2')\n",
    "            elif each == 'tone2':\n",
    "                high_four_tones.append('tone1')\n",
    "        sound_Hz = low_one_tones + low_two_tones + low_three_tones + low_four_tones + high_one_tones + high_two_tones +\\\n",
    "        high_three_tones + high_four_tones\n",
    "\n",
    "        tone1_counter = 0\n",
    "        tone2_counter = 0\n",
    "        for each in sound_Hz:\n",
    "            if each == 'tone1':\n",
    "                tone1_counter = tone1_counter + 1\n",
    "            elif each == 'tone2':\n",
    "                tone2_counter = tone2_counter + 1\n",
    "\n",
    "        low_load_tones = [n for n in sound_Hz[0:12]]\n",
    "        high_load_tones = [n for n in sound_Hz[12:25]]\n",
    "        low_load_tone1s = [n for n in low_load_tones if n == 'tone1']\n",
    "        low_load_tone2s = [n for n in low_load_tones if n == 'tone2']\n",
    "        high_load_tone1s = [n for n in high_load_tones if n == 'tone1']\n",
    "        high_load_tone2s = [n for n in high_load_tones if n =='tone2']\n",
    "\n",
    "        if len(low_load_tone1s) == len(low_load_tone2s) and len(high_load_tone1s) == len(high_load_tone2s):\n",
    "            print low_one_tones\n",
    "            print high_one_tones\n",
    "            print '----------------------'\n",
    "            print low_two_tones\n",
    "            print high_two_tones\n",
    "            print '----------------------'\n",
    "            print low_three_tones\n",
    "            print high_three_tones\n",
    "            print '----------------------'\n",
    "            print low_four_tones\n",
    "            print high_four_tones\n",
    "            print '----------------------'\n",
    "            print 'total n of tones: ', len(sound_Hz)\n",
    "            print '----------------------'\n",
    "            print 'total n of 1500 Hz tones: ', tone1_counter\n",
    "            print 'total n of 2000 Hz tones: ', tone2_counter\n",
    "            print '----------------------'\n",
    "            print len(low_load_tone1s) == len(low_load_tone2s)\n",
    "            print len(low_load_tone1s)\n",
    "            print len(low_load_tone2s)\n",
    "            print len(high_load_tone1s) == len(high_load_tone2s)\n",
    "            print len(high_load_tone1s)\n",
    "            print len(high_load_tone2s)\n",
    "            break\n",
    "    sound_Hz = low_one_tones + high_two_tones + high_one_tones + low_two_tones + high_three_tones + low_four_tones +\\\n",
    "        low_three_tones + high_four_tones\n",
    "    sound_onset1 = np.random.uniform(1,0.949,3).tolist()\n",
    "    sound_onset2 = np.random.uniform(1,0.949,3).tolist()\n",
    "    sound_onset3 = np.random.uniform(1,0.949,3).tolist()\n",
    "    sound_onset4 = np.random.uniform(1,0.949,3).tolist()\n",
    "    sound_onset = sound_onset1 + sound_onset2 + sound_onset1 + sound_onset2 + sound_onset3 + sound_onset4 + sound_onset3 + sound_onset4\n",
    "    \n",
    "\n",
    "    #------------------------------------------------------------------------------\n",
    "    # APPEND TO DICT\n",
    "    #for each in possible_images_dict:\n",
    "    #    if 'Critical' in possible_images_dict[each]:\n",
    "    #        possible_images_dict[each].append(sound_onset[sound_index])\n",
    "    #        sound_index = sound_index + 1\n",
    "    #    elif 'Normal' in possible_images_dict[each]:\n",
    "    #        possible_images_dict[each].append(-999)"
   ]
  },
  {
   "cell_type": "code",
   "execution_count": 18,
   "metadata": {},
   "outputs": [
    {
     "name": "stdout",
     "output_type": "stream",
     "text": [
      "['tone2', 'tone2', 'tone1']\n",
      "['tone1', 'tone1', 'tone2']\n",
      "----------------------\n",
      "['tone1', 'tone2', 'tone1']\n",
      "['tone2', 'tone1', 'tone2']\n",
      "----------------------\n",
      "['tone1', 'tone2', 'tone2']\n",
      "['tone2', 'tone1', 'tone1']\n",
      "----------------------\n",
      "['tone1', 'tone2', 'tone1']\n",
      "['tone2', 'tone1', 'tone2']\n",
      "----------------------\n",
      "total n of tones:  24\n",
      "----------------------\n",
      "total n of 1500 Hz tones:  12\n",
      "total n of 2000 Hz tones:  12\n",
      "----------------------\n",
      "True\n",
      "6\n",
      "6\n",
      "True\n",
      "6\n",
      "6\n",
      "['tone2', 'tone2', 'tone1', 'tone2', 'tone1', 'tone2', 'tone1', 'tone1', 'tone2', 'tone1', 'tone2', 'tone1', 'tone2', 'tone1', 'tone1', 'tone1', 'tone2', 'tone1', 'tone1', 'tone2', 'tone2', 'tone2', 'tone1', 'tone2']\n"
     ]
    }
   ],
   "source": [
    "tone_properties()"
   ]
  },
  {
   "cell_type": "code",
   "execution_count": null,
   "metadata": {
    "collapsed": true
   },
   "outputs": [],
   "source": []
  }
 ],
 "metadata": {
  "kernelspec": {
   "display_name": "Python 2",
   "language": "python",
   "name": "python2"
  },
  "language_info": {
   "codemirror_mode": {
    "name": "ipython",
    "version": 2
   },
   "file_extension": ".py",
   "mimetype": "text/x-python",
   "name": "python",
   "nbconvert_exporter": "python",
   "pygments_lexer": "ipython2",
   "version": "2.7.13"
  }
 },
 "nbformat": 4,
 "nbformat_minor": 2
}
