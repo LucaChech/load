{
 "cells": [
  {
   "cell_type": "code",
   "execution_count": 1,
   "metadata": {
    "collapsed": true
   },
   "outputs": [],
   "source": [
    "import pandas as pd\n",
    "import numpy as np\n",
    "import random\n",
    "import csv\n",
    "from shutil import copyfile\n",
    "\n",
    "mypath = 'C:/Users/KeK/OneDrive - University College London/Random_probes_last/Luca/'\n",
    "df = pd.DataFrame.from_csv(mypath + 'my_dict.csv')\n",
    "df.reset_index(drop=False)\n",
    "\n",
    "image_names = df.index.tolist()\n",
    "cat1 = df['0'].tolist()\n",
    "cat2 = df['1'].tolist()\n",
    "cat3 = df['2'].tolist()\n",
    "cat4 = df['3'].tolist()\n",
    "cat5 = df['4'].tolist()\n",
    "ts = df['6'].tolist()\n",
    "load = df['7'].tolist()\n",
    "my_dict ={z[0]:list(z[1:]) for z in zip(image_names,cat1,cat2,cat3,cat4,cat5,ts,load)}\n",
    "\n",
    "categories = [' bottle', ' horse', ' pottedplant', ' dog', ' cat', ' person', ' aeroplane', ' car', ' chair', ' sofa', ' bird', ' boat']\n",
    "p_load = ['low','high']"
   ]
  },
  {
   "cell_type": "code",
   "execution_count": 2,
   "metadata": {
    "collapsed": true
   },
   "outputs": [],
   "source": [
    "df_2 = pd.DataFrame.from_csv(mypath+'all_images_2.csv')\n",
    "df_2.reset_index(drop=False)\n",
    "\n",
    "image_names_2 = df.index.tolist()\n",
    "cat_a = df_2['0'].tolist()\n",
    "cat_b = df_2['1'].tolist()\n",
    "cat_c = df_2['2'].tolist()\n",
    "cat_d = df_2['3'].tolist()\n",
    "cat_e = df_2['4'].tolist()\n",
    "ts_2 = df_2['5'].tolist()\n",
    "load_2 = df_2['6'].tolist()\n",
    "exemplar_2 = df_2['7'].tolist()\n",
    "possible_images_dict ={z[0]:list(z[1:]) for z in zip(image_names_2,cat_a,cat_b,cat_c,cat_d,cat_e,ts_2,load_2,exemplar_2)}"
   ]
  },
  {
   "cell_type": "code",
   "execution_count": 3,
   "metadata": {
    "collapsed": false
   },
   "outputs": [
    {
     "name": "stdout",
     "output_type": "stream",
     "text": [
      "40\n",
      "40\n"
     ]
    }
   ],
   "source": [
    "#DEFINING PRACTICE IMAGES\n",
    "images_not_used_in_exp = [n for n in my_dict.keys() if n not in possible_images_dict.keys()]\n",
    "practice_low = [n for n in my_dict.keys() if 'low' in my_dict[n] and n in images_not_used_in_exp][0:80]\n",
    "practice_high = [n for n in my_dict.keys() if 'high' in my_dict[n] and n in images_not_used_in_exp][0:80]\n",
    "practice_set = practice_low + practice_high\n",
    "practice_dict = {your_key: my_dict[your_key] for your_key in practice_set }\n",
    "\n",
    "load_level = ['low','high']\n",
    "present_absent = ['Target Present', 'Target Absent']\n",
    "for load in load_level:\n",
    "        temp = []\n",
    "        while len(temp) <40:\n",
    "            a = str(np.random.choice(practice_set,1, replace = False))[2:-2]\n",
    "            if a not in temp and load in my_dict[a]:\n",
    "                temp.append(a)\n",
    "        print len(temp)\n",
    "        {practice_dict[image].append('Target Present') for image in temp}\n",
    "\n",
    "for each in practice_dict:\n",
    "    if 'Target Present' not in practice_dict[each]:\n",
    "        practice_dict[each].append('Target Absent')\n",
    "#print my_dict\n",
    "    \n"
   ]
  },
  {
   "cell_type": "code",
   "execution_count": 4,
   "metadata": {
    "collapsed": false
   },
   "outputs": [
    {
     "name": "stdout",
     "output_type": "stream",
     "text": [
      "40\n",
      "40\n",
      "40\n",
      "40\n"
     ]
    }
   ],
   "source": [
    "l_p_counter = 0\n",
    "for each in practice_dict:\n",
    "    if 'Target Present' in practice_dict[each] and 'low' in practice_dict[each]:\n",
    "        l_p_counter = l_p_counter + 1\n",
    "print l_p_counter\n",
    "h_p_counter = 0\n",
    "for each in practice_dict:\n",
    "    if 'Target Present' in practice_dict[each] and 'high' in practice_dict[each]:\n",
    "        h_p_counter = h_p_counter + 1\n",
    "print h_p_counter\n",
    "l_a_counter = 0\n",
    "for each in practice_dict:\n",
    "    if 'Target Absent' in practice_dict[each] and 'low' in practice_dict[each]:\n",
    "        l_a_counter = l_a_counter + 1\n",
    "print l_a_counter\n",
    "h_a_counter = 0\n",
    "for each in practice_dict:\n",
    "    if 'Target Absent' in practice_dict[each] and 'low' in practice_dict[each]:\n",
    "        h_a_counter = h_a_counter + 1\n",
    "print h_a_counter"
   ]
  },
  {
   "cell_type": "code",
   "execution_count": 5,
   "metadata": {
    "collapsed": false
   },
   "outputs": [
    {
     "name": "stdout",
     "output_type": "stream",
     "text": [
      "8\n",
      "16\n",
      "24\n",
      "32\n",
      "True\n"
     ]
    }
   ],
   "source": [
    "#Defining critical trials\n",
    "lista = practice_dict.keys()\n",
    "critical_trials = []\n",
    "def critical_trial(load_level, present_absent):\n",
    "    global critical_trials\n",
    "    temp = []\n",
    "    container = []\n",
    "    for element in lista:\n",
    "        if load_level in practice_dict[element] and present_absent in practice_dict[element]:\n",
    "            container.append(element)\n",
    "    while len(temp) <8 :\n",
    "        intermediate = str(np.random.choice(container, 1, replace= False))[2:-2]\n",
    "        if intermediate not in temp and intermediate not in critical_trials:\n",
    "            temp.append(intermediate)\n",
    "        #print temp\n",
    "    for each in temp:\n",
    "        critical_trials.append(each)\n",
    "    temp =[]\n",
    "    print len(critical_trials)\n",
    "         \n",
    "critical_trial('low','Target Present')\n",
    "critical_trial('high','Target Present')\n",
    "critical_trial('low','Target Absent')\n",
    "critical_trial('high','Target Absent')\n",
    "print len(critical_trials) == len(set(critical_trials))\n",
    "for each in critical_trials:\n",
    "    practice_dict[each].append('Critical')\n",
    "for each in practice_dict:\n",
    "    if 'Critical' not in practice_dict[each]:\n",
    "        practice_dict[each].append('Normal')"
   ]
  },
  {
   "cell_type": "code",
   "execution_count": 6,
   "metadata": {
    "collapsed": false
   },
   "outputs": [
    {
     "name": "stdout",
     "output_type": "stream",
     "text": [
      "16\n",
      "160\n",
      "144\n"
     ]
    }
   ],
   "source": [
    "#Define probes identity (put the name of the related images in a list called probes)\n",
    "probes = []\n",
    "for load in load_level:\n",
    "    for element in present_absent:\n",
    "        names = []\n",
    "        while len(names) < 4:\n",
    "            temp_name = str(np.random.choice(lista, 1, replace= False))[2:-2]\n",
    "            if element in practice_dict[temp_name] and load in practice_dict[temp_name] and temp_name not in names:\n",
    "                names.append(temp_name)\n",
    "        for each in names:\n",
    "            probes.append(each)\n",
    "print len(probes)\n",
    "print len(lista)\n",
    "for probe in probes:\n",
    "    if probe in lista:\n",
    "        lista.remove(probe)\n",
    "print len(lista)\n"
   ]
  },
  {
   "cell_type": "code",
   "execution_count": 7,
   "metadata": {
    "collapsed": false
   },
   "outputs": [
    {
     "ename": "NameError",
     "evalue": "name 'constrained_sum_sample_pos' is not defined",
     "output_type": "error",
     "traceback": [
      "\u001b[0;31m---------------------------------------------------------------------------\u001b[0m",
      "\u001b[0;31mNameError\u001b[0m                                 Traceback (most recent call last)",
      "\u001b[0;32m<ipython-input-7-c2383a3ef74e>\u001b[0m in \u001b[0;36m<module>\u001b[0;34m()\u001b[0m\n\u001b[0;32m----> 1\u001b[0;31m \u001b[0mconstrained_sum_sample_pos\u001b[0m\u001b[1;33m(\u001b[0m\u001b[1;36m16\u001b[0m\u001b[1;33m,\u001b[0m\u001b[1;36m160\u001b[0m\u001b[1;33m)\u001b[0m\u001b[1;33m\u001b[0m\u001b[0m\n\u001b[0m\u001b[1;32m      2\u001b[0m \u001b[0macc\u001b[0m \u001b[1;33m=\u001b[0m \u001b[1;36m0\u001b[0m\u001b[1;33m\u001b[0m\u001b[0m\n\u001b[1;32m      3\u001b[0m \u001b[0mnew_list\u001b[0m \u001b[1;33m=\u001b[0m \u001b[1;33m[\u001b[0m\u001b[1;33m]\u001b[0m\u001b[1;33m\u001b[0m\u001b[0m\n\u001b[1;32m      4\u001b[0m \u001b[1;32mfor\u001b[0m \u001b[0mi\u001b[0m \u001b[1;32min\u001b[0m \u001b[0msequences_length\u001b[0m\u001b[1;33m:\u001b[0m\u001b[1;33m\u001b[0m\u001b[0m\n\u001b[1;32m      5\u001b[0m     \u001b[0macc\u001b[0m \u001b[1;33m=\u001b[0m \u001b[0macc\u001b[0m \u001b[1;33m+\u001b[0m \u001b[0mi\u001b[0m\u001b[1;33m\u001b[0m\u001b[0m\n",
      "\u001b[0;31mNameError\u001b[0m: name 'constrained_sum_sample_pos' is not defined"
     ]
    }
   ],
   "source": [
    "constrained_sum_sample_pos(16,160)\n",
    "acc = 0\n",
    "new_list = []\n",
    "for i in sequences_length:\n",
    "    acc = acc + i\n",
    "    new_list.append(acc - 1)\n",
    "for i in range(len(probes)):\n",
    "    lista.insert(new_list[i], probes[i])\n",
    "print sequences_length\n",
    "print new_list\n"
   ]
  },
  {
   "cell_type": "code",
   "execution_count": 8,
   "metadata": {
    "collapsed": false
   },
   "outputs": [
    {
     "name": "stdout",
     "output_type": "stream",
     "text": [
      "                   Cat.1         Cat.2 Cat.3 Cat.4 Cat.5       TS  Load  \\\n",
      "2008_003448.jpg   person         chair   NaN   NaN   NaN  30.0163  high   \n",
      "2008_003449.jpg     boat           NaN   NaN   NaN   NaN  34.7087  high   \n",
      "2008_003464.jpg   person           NaN   NaN   NaN   NaN  19.7242   low   \n",
      "2008_003477.jpg    chair   diningtable   NaN   NaN   NaN  34.8607  high   \n",
      "2008_003498.jpg      car     motorbike   NaN   NaN   NaN  32.3458  high   \n",
      "\n",
      "                 present_absent trial_type  \n",
      "2008_003448.jpg  Target Present     Normal  \n",
      "2008_003449.jpg  Target Present     Normal  \n",
      "2008_003464.jpg   Target Absent     Normal  \n",
      "2008_003477.jpg   Target Absent     Normal  \n",
      "2008_003498.jpg  Target Present     Normal  \n"
     ]
    }
   ],
   "source": [
    "for each in practice_dict.keys():\n",
    "    copyfile(mypath + 'JPEGImages/'+each, \n",
    "            mypath + 'practice_images/'+each)\n",
    "df = pd.DataFrame.from_dict(practice_dict)\n",
    "df = df.T\n",
    "df.columns = ['Cat.1','Cat.2','Cat.3','Cat.4','Cat.5','TS','Load','present_absent','trial_type']\n",
    "print df.head()"
   ]
  },
  {
   "cell_type": "code",
   "execution_count": 9,
   "metadata": {
    "collapsed": true
   },
   "outputs": [],
   "source": [
    "df.to_csv(mypath + 'practice.csv') "
   ]
  }
 ],
 "metadata": {
  "anaconda-cloud": {},
  "kernelspec": {
   "display_name": "Python [default]",
   "language": "python",
   "name": "python2"
  },
  "language_info": {
   "codemirror_mode": {
    "name": "ipython",
    "version": 2
   },
   "file_extension": ".py",
   "mimetype": "text/x-python",
   "name": "python",
   "nbconvert_exporter": "python",
   "pygments_lexer": "ipython2",
   "version": "2.7.12"
  }
 },
 "nbformat": 4,
 "nbformat_minor": 1
}
