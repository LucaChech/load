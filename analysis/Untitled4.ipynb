{
 "cells": [
  {
   "cell_type": "code",
   "execution_count": null,
   "metadata": {
    "collapsed": true
   },
   "outputs": [],
   "source": [
    "\n",
    "import pickle\n",
    "# SAVE WITH PICKLE\n",
    "with open('../config/test_1.pik', 'wb') as of:\n",
    "    pickle.dump(trials, of)\n",
    "# LOAD WITH PICKLE\n",
    "with open('../config/randomization.pik', 'r') as of:\n",
    "    trials_raw = pickle.load(of)\n",
    "\n",
    "#print trials_raw\n",
    "#going from {1: [a,b,c],...,n:[x,y,z]} to {1:{'a':something, 'b':something_else},...,n:{'x':something,'y':something_else}}\n",
    "\n",
    "trials = {}\n",
    "cols = ['Cat.1','Cat.2','Cat.3','Cat.4','Cat.5','TS','Load','exemplar','question','present_absent','trial_type','tone_Hz','tone_onset','image_name','block']\n",
    "for k in trials_raw.keys():\n",
    "    l = trials_raw[k]\n",
    "    trial_dict = {}\n",
    "    for i in range(len(l)):\n",
    "        trial_dict[cols[i]] = l[i]\n",
    "    trials[k] = trial_dict\n",
    "\n",
    "#CHANGE PANDAS DEFAULT N OF ROWS AND COLUMNS DISPLAYED\n",
    "pd.set_option('display.max_rows', 9000)\n",
    "pd.set_option('display.max_columns', 9000)"
   ]
  },
  {
   "cell_type": "code",
   "execution_count": 12,
   "metadata": {},
   "outputs": [
    {
     "name": "stdout",
     "output_type": "stream",
     "text": [
      "160\n",
      "480\n",
      "37\n"
     ]
    }
   ],
   "source": [
    "#CHECK THAT IMAGES USED IN EXPERIMENT ARE NOT USED IN PRACTICE\n",
    "from os import listdir\n",
    "from os.path import isfile, join\n",
    "practice_path = 'C:/Users/nilli lab/Desktop/load/practice/practice_images'\n",
    "practice_images = [f for f in listdir(practice_path) if isfile(join(practice_path, f))]\n",
    "print len(practice_images)\n",
    "experiment_path = 'C:/Users/nilli lab/Desktop/load-data/exp_images'\n",
    "experiment_images = [f for f in listdir(experiment_path) if isfile(join(experiment_path, f))]\n",
    "print len(experiment_images)\n",
    "overlapping_images = set(practice_images) & set(experiment_images)\n",
    "print len(overlapping_images)"
   ]
  },
  {
   "cell_type": "code",
   "execution_count": 8,
   "metadata": {},
   "outputs": [
    {
     "data": {
      "text/plain": [
       "{3}"
      ]
     },
     "execution_count": 8,
     "metadata": {},
     "output_type": "execute_result"
    }
   ],
   "source": [
    "a = [1,3]\n",
    "b = [3,4]\n",
    "set(a) & set(b)"
   ]
  }
 ],
 "metadata": {
  "kernelspec": {
   "display_name": "Python 2",
   "language": "python",
   "name": "python2"
  },
  "language_info": {
   "codemirror_mode": {
    "name": "ipython",
    "version": 2
   },
   "file_extension": ".py",
   "mimetype": "text/x-python",
   "name": "python",
   "nbconvert_exporter": "python",
   "pygments_lexer": "ipython2",
   "version": "2.7.13"
  }
 },
 "nbformat": 4,
 "nbformat_minor": 2
}
