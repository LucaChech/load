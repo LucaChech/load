{
 "cells": [
  {
   "cell_type": "code",
<<<<<<< HEAD
   "execution_count": 2,
   "metadata": {},
   "outputs": [
    {
     "data": {
      "text/plain": [
       "array([0, 1, 2, 3, 4, 5, 6, 7])"
      ]
     },
     "execution_count": 2,
     "metadata": {},
     "output_type": "execute_result"
    }
   ],
   "source": [
    "import numpy as np\n",
    "np.arange(8)"
   ]
  },
  {
   "cell_type": "code",
   "execution_count": 3,
   "metadata": {},
=======
   "execution_count": 3,
   "metadata": {
    "collapsed": false
   },
>>>>>>> 5ff15bb42a408bf478568a07f2ad3fe1c31eca85
   "outputs": [
    {
     "data": {
      "text/plain": [
<<<<<<< HEAD
       "array([ 8,  9, 10, 11, 12, 13, 14, 15])"
=======
       "1"
>>>>>>> 5ff15bb42a408bf478568a07f2ad3fe1c31eca85
      ]
     },
     "execution_count": 3,
     "metadata": {},
     "output_type": "execute_result"
    }
   ],
   "source": [
<<<<<<< HEAD
    "np.arange(8,16)"
   ]
  },
  {
   "cell_type": "code",
   "execution_count": null,
   "metadata": {
    "collapsed": true
   },
   "outputs": [],
   "source": []
  }
 ],
 "metadata": {
  "kernelspec": {
   "display_name": "Python 2",
=======
    "\n",
    "119/60"
   ]
  }
 ],
 "metadata": {
  "anaconda-cloud": {},
  "kernelspec": {
   "display_name": "Python [default]",
>>>>>>> 5ff15bb42a408bf478568a07f2ad3fe1c31eca85
   "language": "python",
   "name": "python2"
  },
  "language_info": {
   "codemirror_mode": {
    "name": "ipython",
    "version": 2
   },
   "file_extension": ".py",
   "mimetype": "text/x-python",
   "name": "python",
   "nbconvert_exporter": "python",
   "pygments_lexer": "ipython2",
<<<<<<< HEAD
   "version": "2.7.13"
  }
 },
 "nbformat": 4,
 "nbformat_minor": 2
=======
   "version": "2.7.12"
  }
 },
 "nbformat": 4,
 "nbformat_minor": 1
>>>>>>> 5ff15bb42a408bf478568a07f2ad3fe1c31eca85
}
