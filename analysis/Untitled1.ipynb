{
 "cells": [
  {
   "cell_type": "code",
   "execution_count": 15,
   "metadata": {},
   "outputs": [
    {
     "name": "stdout",
     "output_type": "stream",
     "text": [
      "46\n",
      "[10, 33, 46]\n",
      "[23]\n",
      "[23, 13]\n",
      "[10, 33, 46]\n"
     ]
    }
   ],
   "source": [
    "import random\n",
    "while True:\n",
    "    while True:\n",
    "        a = [random.randint(1,60) for r in xrange(3)]\n",
    "        if sum(a) <= 60: \n",
    "            break\n",
    "    print sum(a)\n",
    "    new_list_2 = []\n",
    "    acc = 0\n",
    "    for i in a:\n",
    "        acc = acc + i\n",
    "        new_list_2.append(acc)\n",
    "    print new_list_2\n",
    "    two_gap = []\n",
    "    for i in range(2): # add \"-w\"\n",
    "        two_gap.append(new_list_2[i+1] - new_list_2[i])\n",
    "        print two_gap\n",
    "    if 1 not in two_gap and 2 not in two_gap:\n",
    "        break\n",
    "print new_list_2"
   ]
  }
 ],
 "metadata": {
  "kernelspec": {
   "display_name": "Python 2",
   "language": "python",
   "name": "python2"
  },
  "language_info": {
   "codemirror_mode": {
    "name": "ipython",
    "version": 2
   },
   "file_extension": ".py",
   "mimetype": "text/x-python",
   "name": "python",
   "nbconvert_exporter": "python",
   "pygments_lexer": "ipython2",
   "version": "2.7.13"
  }
 },
 "nbformat": 4,
 "nbformat_minor": 2
}
