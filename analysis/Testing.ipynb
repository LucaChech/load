{
 "cells": [
  {
   "cell_type": "code",
   "execution_count": 1,
   "metadata": {
    "collapsed": true
   },
   "outputs": [],
   "source": [
    "import pickle\n"
   ]
  },
  {
   "cell_type": "code",
   "execution_count": 2,
   "metadata": {
    "collapsed": true
   },
   "outputs": [],
   "source": [
    "with open('../output/participant_test.pik','rb') as f:\n",
    "    D = pickle.load(f)"
   ]
  },
  {
   "cell_type": "code",
   "execution_count": 3,
   "metadata": {},
   "outputs": [
    {
     "data": {
      "text/plain": [
       "{1: {'RT_TO': 'No timing',\n",
       "  'block_number': 1,\n",
       "  'cat_1': ' car',\n",
       "  'image_name': ' person',\n",
       "  'image_number': 0,\n",
       "  'space': 'No spacebar'},\n",
       " 2: {'RT_TO': 'No timing',\n",
       "  'RT_VS': 2.567137161815481,\n",
       "  'block_number': 1,\n",
       "  'cat_1': nan,\n",
       "  'image_name': ' cat',\n",
       "  'image_number': 1,\n",
       "  'keys': 'q',\n",
       "  'space': 'No spacebar',\n",
       "  'useless': -999},\n",
       " 3: {'RT_TO': 'No timing',\n",
       "  'block_number': 1,\n",
       "  'cat_1': nan,\n",
       "  'image_name': ' bird',\n",
       "  'image_number': 2,\n",
       "  'space': 'No spacebar'},\n",
       " 4: {'RT_TO': 'No timing',\n",
       "  'block_number': 1,\n",
       "  'cat_1': ' horse',\n",
       "  'image_name': ' person',\n",
       "  'image_number': 3,\n",
       "  'space': 'No spacebar'},\n",
       " 5: {'RT_TO': 'No timing',\n",
       "  'block_number': 1,\n",
       "  'cat_1': nan,\n",
       "  'image_name': ' cat',\n",
       "  'image_number': 4,\n",
       "  'space': 'No spacebar'}}"
      ]
     },
     "execution_count": 3,
     "metadata": {},
     "output_type": "execute_result"
    }
   ],
   "source": [
    "D"
   ]
  },
  {
   "cell_type": "code",
   "execution_count": null,
   "metadata": {
    "collapsed": true
   },
   "outputs": [],
   "source": []
  }
 ],
 "metadata": {
  "kernelspec": {
   "display_name": "Python 2",
   "language": "python",
   "name": "python2"
  },
  "language_info": {
   "codemirror_mode": {
    "name": "ipython",
    "version": 2
   },
   "file_extension": ".py",
   "mimetype": "text/x-python",
   "name": "python",
   "nbconvert_exporter": "python",
   "pygments_lexer": "ipython2",
   "version": "2.7.13"
  }
 },
 "nbformat": 4,
 "nbformat_minor": 2
}
