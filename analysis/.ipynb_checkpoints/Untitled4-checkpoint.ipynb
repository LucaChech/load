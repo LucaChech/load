{
 "cells": [
  {
   "cell_type": "code",
   "execution_count": null,
   "metadata": {
    "collapsed": true
   },
   "outputs": [],
   "source": [
    "\n",
    "import pickle\n",
    "# SAVE WITH PICKLE\n",
    "with open('../config/test_1.pik', 'wb') as of:\n",
    "    pickle.dump(trials, of)\n",
    "# LOAD WITH PICKLE\n",
    "with open('../config/randomization.pik', 'r') as of:\n",
    "    trials_raw = pickle.load(of)\n",
    "\n",
    "#print trials_raw\n",
    "#going from {1: [a,b,c],...,n:[x,y,z]} to {1:{'a':something, 'b':something_else},...,n:{'x':something,'y':something_else}}\n",
    "\n",
    "trials = {}\n",
    "cols = ['Cat.1','Cat.2','Cat.3','Cat.4','Cat.5','TS','Load','exemplar','question','present_absent','trial_type','tone_Hz','tone_onset','image_name','block']\n",
    "for k in trials_raw.keys():\n",
    "    l = trials_raw[k]\n",
    "    trial_dict = {}\n",
    "    for i in range(len(l)):\n",
    "        trial_dict[cols[i]] = l[i]\n",
    "    trials[k] = trial_dict\n",
    "\n",
    "#CHANGE PANDAS DEFAULT N OF ROWS AND COLUMNS DISPLAYED\n",
    "pd.set_option('display.max_rows', 9000)\n",
    "pd.set_option('display.max_columns', 9000)"
   ]
  }
 ],
 "metadata": {
  "kernelspec": {
   "display_name": "Python 2",
   "language": "python",
   "name": "python2"
  },
  "language_info": {
   "codemirror_mode": {
    "name": "ipython",
    "version": 2
   },
   "file_extension": ".py",
   "mimetype": "text/x-python",
   "name": "python",
   "nbconvert_exporter": "python",
   "pygments_lexer": "ipython2",
   "version": "2.7.13"
  }
 },
 "nbformat": 4,
 "nbformat_minor": 2
}
