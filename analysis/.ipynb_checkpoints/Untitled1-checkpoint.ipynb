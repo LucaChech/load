{
 "cells": [
  {
   "cell_type": "code",
   "execution_count": 1,
   "metadata": {
    "collapsed": true
   },
   "outputs": [],
   "source": [
    "import random\n",
    "import numpy as np\n",
    "from pdb import set_trace"
   ]
  },
  {
   "cell_type": "code",
   "execution_count": 16,
   "metadata": {
    "collapsed": false
   },
   "outputs": [],
   "source": [
    "present_critical_per_block = 0\n",
    "absent_critical_per_block = 2\n",
    "present_per_block = 4\n",
    "absent_per_block = 5\n",
    "critical_per_block = 3\n",
    "x = present_critical_per_block + absent_critical_per_block"
   ]
  },
  {
   "cell_type": "code",
   "execution_count": 17,
   "metadata": {
    "collapsed": false
   },
   "outputs": [
    {
     "name": "stdout",
     "output_type": "stream",
     "text": [
      "------------------\n",
      "[6, 11, 12, 18, 28, 38, 42, 51, 56, 58] 10\n",
      "gap_check:  [6, 18, 28]\n",
      "10\n",
      "(6, 'Critical')\n",
      "(11, 'Target Present')\n",
      "(12, 'Target Absent')\n",
      "(18, 'Critical Absent')\n",
      "(28, 'Critical Absent')\n",
      "(38, 'Target Absent')\n",
      "(42, 'Target Present')\n",
      "(51, 'Target Present')\n",
      "(56, 'Target Absent')\n",
      "(58, 'Target Present')\n"
     ]
    }
   ],
   "source": [
    "position_finder()"
   ]
  },
  {
   "cell_type": "code",
   "execution_count": 11,
   "metadata": {
    "collapsed": false
   },
   "outputs": [],
   "source": [
    "def position_finder():\n",
    "    global present_critical_per_block, absent_critical_per_block, present_per_block, absent_per_block, critical_per_block\n",
    "    x = present_critical_per_block + absent_critical_per_block\n",
    "    while True:    \n",
    "        while True:\n",
    "            a = [random.randint(1,10) for r in xrange(12-x)]\n",
    "            if sum(a) <= 60:\n",
    "                break\n",
    "\n",
    "        new_list_1 = []\n",
    "        acc = 0\n",
    "        for i in a:\n",
    "            acc = acc + i\n",
    "            new_list_1.append(acc)\n",
    "        new_list_1 = [n - 1 for n in new_list_1]\n",
    "        #print len(new_list_1)\n",
    "\n",
    "        if present_critical_per_block == 0 and absent_critical_per_block == 0:\n",
    "\n",
    "            sequence = ['Target Present'] * present_per_block + ['Target Absent'] * absent_per_block + ['Critical'] * critical_per_block\n",
    "            sequence = random.sample(sequence, len(sequence))\n",
    "            #print sequence\n",
    "\n",
    "        if present_critical_per_block != 0 or absent_critical_per_block != 0:\n",
    "\n",
    "            sequence = ['Target Present'] * (present_per_block - present_critical_per_block) +\\\n",
    "            ['Target Absent'] * (absent_per_block - absent_critical_per_block) +\\\n",
    "            ['Critical'] * (critical_per_block - x) +\\\n",
    "            ['Critical Present'] * present_critical_per_block +\\\n",
    "            ['Critical Absent'] * absent_critical_per_block\n",
    "            sequence = random.sample(sequence, len(sequence))\n",
    "\n",
    "        sequence_final = zip(new_list_1, sequence)\n",
    "        #print sequence_final\n",
    "        #print len(sequence_final)\n",
    "        gap_check = [n[0] for n in sequence_final if 'Critical' in n[1]] \n",
    "        #print gap_check\n",
    "        container = []\n",
    "        for i in gap_check:\n",
    "            elements = [i+1, i+2]\n",
    "            for element in elements:\n",
    "                if element in new_list_1:\n",
    "                    container.append(element)\n",
    "        #print 'container', len(container),container\n",
    "        if len(container) == 0:\n",
    "            break\n",
    "        else:\n",
    "            sequence_final = []\n",
    "    #RESETTING STUFF\n",
    "    \n",
    "\n",
    "    print '------------------'\n",
    "    print new_list_1, len(new_list_1)\n",
    "    print 'gap_check: ', gap_check\n",
    "    print len(sequence_final)\n",
    "\n",
    "    for i in sequence_final:\n",
    "        print i"
   ]
  },
  {
   "cell_type": "code",
   "execution_count": null,
   "metadata": {
    "collapsed": true
   },
   "outputs": [],
   "source": []
  }
 ],
 "metadata": {
  "anaconda-cloud": {},
  "kernelspec": {
   "display_name": "Python [default]",
   "language": "python",
   "name": "python2"
  },
  "language_info": {
   "codemirror_mode": {
    "name": "ipython",
    "version": 2
   },
   "file_extension": ".py",
   "mimetype": "text/x-python",
   "name": "python",
   "nbconvert_exporter": "python",
   "pygments_lexer": "ipython2",
   "version": "2.7.12"
  }
 },
 "nbformat": 4,
 "nbformat_minor": 2
}
