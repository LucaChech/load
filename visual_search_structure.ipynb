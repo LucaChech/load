{
 "cells": [
  {
   "cell_type": "code",
   "execution_count": 1,
   "metadata": {
    "collapsed": true
   },
   "outputs": [],
   "source": [
    "import pandas as pd\n",
    "import numpy as np\n",
    "import random"
   ]
  },
  {
   "cell_type": "code",
   "execution_count": 2,
   "metadata": {
    "collapsed": false
   },
   "outputs": [],
   "source": [
    "my_dict={}\n",
    "with open('C:/Users/luca.chech.16/Desktop/Visual Search Exp/annotations.csv', 'r') as f:\n",
    "    for line in f:\n",
    "        items = line.split(',')\n",
    "        key, values = items[0], items[1:]\n",
    "        my_dict.setdefault(key, []).extend(values)\n",
    "lista= my_dict.keys()"
   ]
  },
  {
   "cell_type": "code",
   "execution_count": 3,
   "metadata": {
    "collapsed": false
   },
   "outputs": [],
   "source": [
    "#stimuli = np.random.choice(lista, 16, replace = False)\n",
    "#print stimuli"
   ]
  },
  {
   "cell_type": "code",
   "execution_count": 4,
   "metadata": {
    "collapsed": false,
    "scrolled": true
   },
   "outputs": [
    {
     "name": "stdout",
     "output_type": "stream",
     "text": [
      "['2008_003782.jpg' '2012_001642.jpg' '2008_000724.jpg' '2008_003520.jpg'\n",
      " '2012_000902.jpg' '2010_001849.jpg' '2008_008279.jpg' '2009_000938.jpg'\n",
      " '2007_007203.jpg' '2008_001757.jpg' '2010_003719.jpg' '2011_001628.jpg'\n",
      " '2011_005531.jpg' '2010_003970.jpg' '2008_007610.jpg' '2011_005510.jpg']\n",
      "{'2011_005510.jpg': ['B', 'y', 'Low'], '2010_003970.jpg': ['B', 'x', 'Low'], '2008_000724.jpg': ['A', '', 'High'], '2012_001642.jpg': ['A', 'x', 'High'], '2008_008279.jpg': ['A', '', 'Low'], '2008_003520.jpg': ['A', 'y', 'High'], '2008_007610.jpg': ['B', '', 'Low'], '2010_001849.jpg': ['A', 'x', 'Low'], '2008_003782.jpg': ['A', '', 'High'], '2007_007203.jpg': ['B', '', 'High'], '2010_003719.jpg': ['B', '', 'High'], '2011_005531.jpg': ['B', '', 'Low'], '2011_001628.jpg': ['B', 'y', 'High'], '2009_000938.jpg': ['A', 'y', 'Low'], '2008_001757.jpg': ['B', 'x', 'High'], '2012_000902.jpg': ['A', '', 'Low']}\n"
     ]
    }
   ],
   "source": [
    "#FICTITIOUS DATASET\n",
    "stimuli = np.random.choice(lista, 16, replace = False)\n",
    "print stimuli\n",
    "\n",
    "attributes1 = ['A','','High']\n",
    "attributes2 = ['A','x','High']\n",
    "attributes3 = ['A','','High']\n",
    "attributes4 = ['A','y','High']\n",
    "attributes5 = ['A','','Low']\n",
    "attributes6 = ['A','x','Low']\n",
    "attributes7 = ['A','','Low']\n",
    "attributes8 = ['A','y','Low']\n",
    "attributes9 = ['B','','High']\n",
    "attributes10 = ['B','x','High']\n",
    "attributes11 = ['B','','High']\n",
    "attributes12 = ['B','y','High']\n",
    "attributes13 = ['B','','Low']\n",
    "attributes14 = ['B','x','Low']\n",
    "attributes15 = ['B','','Low']\n",
    "attributes16 = ['B','y','Low']\n",
    "\n",
    "\n",
    "my_dict[stimuli[0]]= attributes1\n",
    "my_dict[stimuli[1]]= attributes2\n",
    "my_dict[stimuli[2]]= attributes3\n",
    "my_dict[stimuli[3]]= attributes4\n",
    "my_dict[stimuli[4]]= attributes5\n",
    "my_dict[stimuli[5]]= attributes6\n",
    "my_dict[stimuli[6]]= attributes7\n",
    "my_dict[stimuli[7]]= attributes8\n",
    "my_dict[stimuli[8]]= attributes9\n",
    "my_dict[stimuli[9]]= attributes10\n",
    "my_dict[stimuli[10]]= attributes11\n",
    "my_dict[stimuli[11]]= attributes12\n",
    "my_dict[stimuli[12]]= attributes13\n",
    "my_dict[stimuli[13]]= attributes14\n",
    "my_dict[stimuli[14]]= attributes15\n",
    "my_dict[stimuli[15]]= attributes16\n",
    "\n",
    "categories = ['A','B']\n",
    "p_load = ['Low','High']\n",
    "target_present_trials = []\n",
    "target_absent_trials = []\n",
    "\n",
    "for element in my_dict.keys():\n",
    "    if element not in stimuli:\n",
    "        del my_dict[element]\n",
    "print my_dict\n",
    "\n"
   ]
  },
  {
   "cell_type": "code",
   "execution_count": null,
   "metadata": {
    "collapsed": false
   },
   "outputs": [],
   "source": [
    "len(my_dict)"
   ]
  },
  {
   "cell_type": "code",
   "execution_count": 5,
   "metadata": {
    "collapsed": false
   },
   "outputs": [
    {
     "name": "stdout",
     "output_type": "stream",
     "text": [
      "['2010_001849.jpg', '2008_008279.jpg', '2008_000724.jpg', '2008_003520.jpg', '2008_007610.jpg', '2011_005510.jpg', '2010_003719.jpg', '2008_001757.jpg']\n"
     ]
    },
    {
     "data": {
      "text/plain": [
       "{'2007_007203.jpg': ['B', '', 'High'],\n",
       " '2008_000724.jpg': ['A', '', 'High', 'A'],\n",
       " '2008_001757.jpg': ['B', 'x', 'High', 'B'],\n",
       " '2008_003520.jpg': ['A', 'y', 'High', 'A'],\n",
       " '2008_003782.jpg': ['A', '', 'High'],\n",
       " '2008_007610.jpg': ['B', '', 'Low', 'B'],\n",
       " '2008_008279.jpg': ['A', '', 'Low', 'A'],\n",
       " '2009_000938.jpg': ['A', 'y', 'Low'],\n",
       " '2010_001849.jpg': ['A', 'x', 'Low', 'A'],\n",
       " '2010_003719.jpg': ['B', '', 'High', 'B'],\n",
       " '2010_003970.jpg': ['B', 'x', 'Low'],\n",
       " '2011_001628.jpg': ['B', 'y', 'High'],\n",
       " '2011_005510.jpg': ['B', 'y', 'Low', 'B'],\n",
       " '2011_005531.jpg': ['B', '', 'Low'],\n",
       " '2012_000902.jpg': ['A', '', 'Low'],\n",
       " '2012_001642.jpg': ['A', 'x', 'High']}"
      ]
     },
     "execution_count": 5,
     "metadata": {},
     "output_type": "execute_result"
    }
   ],
   "source": [
    "####\n",
    "# RANDOM TARGET-PRESENT TRIAL CREATION\n",
    "i = 0\n",
    "target_present_trials=[]\n",
    "new=[]\n",
    "for category in categories:\n",
    "    for load in p_load:\n",
    "        intermediate = []\n",
    "        #print category\n",
    "        #print load\n",
    "        while True:\n",
    "            trial = np.random.choice(stimuli, 1, replace= False)\n",
    "            a = str(trial)\n",
    "            if category in my_dict[a[2:-2]] and load in my_dict[a[2:-2]] and a[2:-2] not in intermediate and a[2:-2] not in target_present_trials:\n",
    "                #intermediate.append([a[2:-2],category])\n",
    "                intermediate.append(a[2:-2])\n",
    "                new.append(category)\n",
    "            else: i = i+1\n",
    "            if len(intermediate) == 2:\n",
    "                for each in intermediate:\n",
    "                    target_present_trials.append(each)\n",
    "                break\n",
    "\n",
    "            \n",
    "        \n",
    "\n",
    "#print i       \n",
    "#print len(target_present_trials)\n",
    "print target_present_trials\n",
    "counter = 0\n",
    "for each in target_present_trials:\n",
    "    my_dict[each].append(new[counter])\n",
    "    counter = counter +1\n",
    "my_dict"
   ]
  },
  {
   "cell_type": "code",
   "execution_count": null,
   "metadata": {
    "collapsed": false
   },
   "outputs": [],
   "source": [
    "###\n",
    "# CREATES TARGET-PRESENT & TARGET-ABSENT DICT\n",
    "target_present_dict = {key:my_dict[key] for key in target_present_trials}\n",
    "target_absent_dict = dict(my_dict)\n",
    "for each in target_present_trials:\n",
    "    if each in target_absent_dict:\n",
    "        del target_absent_dict[each]\n"
   ]
  },
  {
   "cell_type": "code",
   "execution_count": null,
   "metadata": {
    "collapsed": false
   },
   "outputs": [],
   "source": [
    "target_present_dict"
   ]
  },
  {
   "cell_type": "code",
   "execution_count": null,
   "metadata": {
    "collapsed": false
   },
   "outputs": [],
   "source": [
    "target_absent_dict"
   ]
  },
  {
   "cell_type": "code",
   "execution_count": null,
   "metadata": {
    "collapsed": false
   },
   "outputs": [],
   "source": [
    "for each in target_present_dict:\n",
    "    target_present_dict[each].append('Target Present')\n",
    "for each in target_absent_dict:\n",
    "    target_absent_dict[each].append('Target Absent')\n"
   ]
  },
  {
   "cell_type": "code",
   "execution_count": null,
   "metadata": {
    "collapsed": false
   },
   "outputs": [],
   "source": [
    "##### RANDOM SHUFFLING \n",
    "image_names = target_present_dict.keys() + target_absent_dict.keys()\n",
    "random.shuffle(image_names)\n",
    "print image_names"
   ]
  },
  {
   "cell_type": "code",
   "execution_count": null,
   "metadata": {
    "collapsed": false
   },
   "outputs": [],
   "source": [
    "target_present_dict"
   ]
  },
  {
   "cell_type": "code",
   "execution_count": null,
   "metadata": {
    "collapsed": false
   },
   "outputs": [],
   "source": [
    "answers=[]\n",
    "ta = []\n",
    "for image_name in image_names:\n",
    "    if 'Target Present' in my_dict[image_name]:\n",
    "        print 'Is there a ' + my_dict[image_name][-2] + ' in the image?'\n",
    "        answers.append(raw_input())\n",
    "    elif 'Target Absent' in my_dict[image_name]:\n",
    "        target_absent_allowed = []\n",
    "        for each in categories:\n",
    "            if each not in my_dict[image_name]:\n",
    "                target_absent_allowed.append(each)\n",
    "        ta = np.random.choice(target_absent_allowed, 1, replace = False)\n",
    "        print 'Is there a ' + ta[0] + ' in the image?'\n",
    "        answers.append(raw_input())"
   ]
  },
  {
   "cell_type": "code",
   "execution_count": null,
   "metadata": {
    "collapsed": true
   },
   "outputs": [],
   "source": []
  },
  {
   "cell_type": "code",
   "execution_count": null,
   "metadata": {
    "collapsed": false
   },
   "outputs": [],
   "source": [
    "answers"
   ]
  },
  {
   "cell_type": "code",
   "execution_count": null,
   "metadata": {
    "collapsed": false
   },
   "outputs": [],
   "source": [
    "df = pd.DataFrame(my_dict) \n",
    "df = df.T\n",
    "df.reset_index(inplace=True)\n",
    "df.columns = ['Image Name','Cat. 1', 'Cat. 2', 'Perceptual Load', 'Answer']\n",
    "\n",
    "df"
   ]
  },
  {
   "cell_type": "code",
   "execution_count": null,
   "metadata": {
    "collapsed": false
   },
   "outputs": [],
   "source": [
    "#pd.DataFrame(dict([ (k,pd.Series(v)) for k,v in my_dict.iteritems() ]))"
   ]
  },
  {
   "cell_type": "code",
   "execution_count": null,
   "metadata": {
    "collapsed": false
   },
   "outputs": [],
   "source": [
    "#df1 = pd.DataFrame.from_dict(my_dict)\n",
    "#df1"
   ]
  },
  {
   "cell_type": "code",
   "execution_count": null,
   "metadata": {
    "collapsed": false
   },
   "outputs": [],
   "source": [
    "#df2= pd.DataFrame(answers.items())\n",
    "#df2.columns = ['Image Name', 'Response']\n",
    "#df2"
   ]
  },
  {
   "cell_type": "code",
   "execution_count": null,
   "metadata": {
    "collapsed": false
   },
   "outputs": [],
   "source": [
    "#final = pd.concat([df1, df2], axis = 1)\n",
    "#final"
   ]
  },
  {
   "cell_type": "code",
   "execution_count": null,
   "metadata": {
    "collapsed": false
   },
   "outputs": [],
   "source": [
    "#final2 = pd.merge(df1,df2,on='Image Name')\n",
    "#final2"
   ]
  },
  {
   "cell_type": "markdown",
   "metadata": {},
   "source": [
    "-----------------------------------------------------------------------------------------------------------------------"
   ]
  },
  {
   "cell_type": "code",
   "execution_count": null,
   "metadata": {
    "collapsed": true
   },
   "outputs": [],
   "source": [
    "df = pd.read_csv('C:/Users/luca.chech.16/Desktop/Visual Search Exp/annotations.csv', sep=',',)\n",
    "df.columns = ['image_name','cat_1','cat_2','cat_3','cat_4','cat_5','cat_6']"
   ]
  },
  {
   "cell_type": "code",
   "execution_count": null,
   "metadata": {
    "collapsed": false
   },
   "outputs": [],
   "source": [
    "d = {}\n",
    "c={}\n",
    "with open('C:/Users/luca.chech.16/Desktop/Visual Search Exp/annotations.csv', 'r') as f:\n",
    "   #next(f) # skip header\n",
    "    for row in f:\n",
    "        spl = line.split(',')\n",
    "        # slicing using spl[2:] will give you a list of all remaining values\n",
    "        d[spl[0]] = {spl[1]:spl[2:]}\n",
    "        c.update(d)\n",
    "        print row\n",
    "        print d\n",
    "print c\n"
   ]
  },
  {
   "cell_type": "code",
   "execution_count": null,
   "metadata": {
    "collapsed": true
   },
   "outputs": [],
   "source": [
    "def copyf(cat, load):\n",
    "    lista1 =[]\n",
    "    for each in my_dict:\n",
    "            if cat in my_dict[each] and load in my_dict[each]:\n",
    "                lista1.append(my_dict[each])\n",
    "    return [lista1]"
   ]
  },
  {
   "cell_type": "code",
   "execution_count": null,
   "metadata": {
    "collapsed": false
   },
   "outputs": [],
   "source": [
    "###\n",
    "#Takes care of the randomization at category level\n",
    "###Load randomization is still missing\n",
    "i = 0\n",
    "target_present_trials=[]\n",
    "for category in categories:\n",
    "    intermediate = []\n",
    "    print category\n",
    "    while True:\n",
    "        trial = np.random.choice(stimuli, 1, replace= False)\n",
    "        a = str(trial)\n",
    "        if category in my_dict[a[2:-2]] and a[2:-2] not in intermediate:\n",
    "            intermediate.append(a[2:-2])\n",
    "        else: i = i+1\n",
    "        if len(intermediate) == 2:\n",
    "            for each in intermediate:\n",
    "                target_present_trials.append(each)\n",
    "            break\n",
    "\n",
    "            \n",
    "        \n",
    "\n",
    "        \n",
    "print len(target_present_trials)\n",
    "print target_present_trials\n",
    "for each in target_present_trials:\n",
    "    print my_dict[each]"
   ]
  }
 ],
 "metadata": {
  "anaconda-cloud": {},
  "kernelspec": {
   "display_name": "Python [default]",
   "language": "python",
   "name": "python2"
  },
  "language_info": {
   "codemirror_mode": {
    "name": "ipython",
    "version": 2
   },
   "file_extension": ".py",
   "mimetype": "text/x-python",
   "name": "python",
   "nbconvert_exporter": "python",
   "pygments_lexer": "ipython2",
   "version": "2.7.12"
  }
 },
 "nbformat": 4,
 "nbformat_minor": 1
}
