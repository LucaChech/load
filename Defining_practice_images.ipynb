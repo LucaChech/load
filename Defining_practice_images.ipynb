{
 "cells": [
  {
   "cell_type": "code",
   "execution_count": 1,
   "metadata": {},
   "outputs": [
    {
     "ename": "IOError",
     "evalue": "File C:/Users/KeK/OneDrive - University College London/Random_probes_last/Luca/my_dict.csv does not exist",
     "output_type": "error",
     "traceback": [
      "\u001b[1;31m\u001b[0m",
      "\u001b[1;31mIOError\u001b[0mTraceback (most recent call last)",
      "\u001b[1;32m<ipython-input-1-c4e14e5ea537>\u001b[0m in \u001b[0;36m<module>\u001b[1;34m()\u001b[0m\n\u001b[0;32m      6\u001b[0m \u001b[1;33m\u001b[0m\u001b[0m\n\u001b[0;32m      7\u001b[0m \u001b[0mmypath\u001b[0m \u001b[1;33m=\u001b[0m \u001b[1;34m'C:/Users/KeK/OneDrive - University College London/Random_probes_last/Luca/'\u001b[0m\u001b[1;33m\u001b[0m\u001b[0m\n\u001b[1;32m----> 8\u001b[1;33m \u001b[0mdf\u001b[0m \u001b[1;33m=\u001b[0m \u001b[0mpd\u001b[0m\u001b[1;33m.\u001b[0m\u001b[0mDataFrame\u001b[0m\u001b[1;33m.\u001b[0m\u001b[0mfrom_csv\u001b[0m\u001b[1;33m(\u001b[0m\u001b[0mmypath\u001b[0m \u001b[1;33m+\u001b[0m \u001b[1;34m'my_dict.csv'\u001b[0m\u001b[1;33m)\u001b[0m\u001b[1;33m\u001b[0m\u001b[0m\n\u001b[0m\u001b[0;32m      9\u001b[0m \u001b[0mdf\u001b[0m\u001b[1;33m.\u001b[0m\u001b[0mreset_index\u001b[0m\u001b[1;33m(\u001b[0m\u001b[0mdrop\u001b[0m\u001b[1;33m=\u001b[0m\u001b[0mFalse\u001b[0m\u001b[1;33m)\u001b[0m\u001b[1;33m\u001b[0m\u001b[0m\n\u001b[0;32m     10\u001b[0m \u001b[1;33m\u001b[0m\u001b[0m\n",
      "\u001b[1;32mC:\\ProgramData\\Anaconda2_32\\lib\\site-packages\\pandas\\core\\frame.pyc\u001b[0m in \u001b[0;36mfrom_csv\u001b[1;34m(cls, path, header, sep, index_col, parse_dates, encoding, tupleize_cols, infer_datetime_format)\u001b[0m\n\u001b[0;32m   1259\u001b[0m                           \u001b[0mparse_dates\u001b[0m\u001b[1;33m=\u001b[0m\u001b[0mparse_dates\u001b[0m\u001b[1;33m,\u001b[0m \u001b[0mindex_col\u001b[0m\u001b[1;33m=\u001b[0m\u001b[0mindex_col\u001b[0m\u001b[1;33m,\u001b[0m\u001b[1;33m\u001b[0m\u001b[0m\n\u001b[0;32m   1260\u001b[0m                           \u001b[0mencoding\u001b[0m\u001b[1;33m=\u001b[0m\u001b[0mencoding\u001b[0m\u001b[1;33m,\u001b[0m \u001b[0mtupleize_cols\u001b[0m\u001b[1;33m=\u001b[0m\u001b[0mtupleize_cols\u001b[0m\u001b[1;33m,\u001b[0m\u001b[1;33m\u001b[0m\u001b[0m\n\u001b[1;32m-> 1261\u001b[1;33m                           infer_datetime_format=infer_datetime_format)\n\u001b[0m\u001b[0;32m   1262\u001b[0m \u001b[1;33m\u001b[0m\u001b[0m\n\u001b[0;32m   1263\u001b[0m     \u001b[1;32mdef\u001b[0m \u001b[0mto_sparse\u001b[0m\u001b[1;33m(\u001b[0m\u001b[0mself\u001b[0m\u001b[1;33m,\u001b[0m \u001b[0mfill_value\u001b[0m\u001b[1;33m=\u001b[0m\u001b[0mNone\u001b[0m\u001b[1;33m,\u001b[0m \u001b[0mkind\u001b[0m\u001b[1;33m=\u001b[0m\u001b[1;34m'block'\u001b[0m\u001b[1;33m)\u001b[0m\u001b[1;33m:\u001b[0m\u001b[1;33m\u001b[0m\u001b[0m\n",
      "\u001b[1;32mC:\\ProgramData\\Anaconda2_32\\lib\\site-packages\\pandas\\io\\parsers.pyc\u001b[0m in \u001b[0;36mparser_f\u001b[1;34m(filepath_or_buffer, sep, delimiter, header, names, index_col, usecols, squeeze, prefix, mangle_dupe_cols, dtype, engine, converters, true_values, false_values, skipinitialspace, skiprows, nrows, na_values, keep_default_na, na_filter, verbose, skip_blank_lines, parse_dates, infer_datetime_format, keep_date_col, date_parser, dayfirst, iterator, chunksize, compression, thousands, decimal, lineterminator, quotechar, quoting, escapechar, comment, encoding, dialect, tupleize_cols, error_bad_lines, warn_bad_lines, skipfooter, skip_footer, doublequote, delim_whitespace, as_recarray, compact_ints, use_unsigned, low_memory, buffer_lines, memory_map, float_precision)\u001b[0m\n\u001b[0;32m    653\u001b[0m                     skip_blank_lines=skip_blank_lines)\n\u001b[0;32m    654\u001b[0m \u001b[1;33m\u001b[0m\u001b[0m\n\u001b[1;32m--> 655\u001b[1;33m         \u001b[1;32mreturn\u001b[0m \u001b[0m_read\u001b[0m\u001b[1;33m(\u001b[0m\u001b[0mfilepath_or_buffer\u001b[0m\u001b[1;33m,\u001b[0m \u001b[0mkwds\u001b[0m\u001b[1;33m)\u001b[0m\u001b[1;33m\u001b[0m\u001b[0m\n\u001b[0m\u001b[0;32m    656\u001b[0m \u001b[1;33m\u001b[0m\u001b[0m\n\u001b[0;32m    657\u001b[0m     \u001b[0mparser_f\u001b[0m\u001b[1;33m.\u001b[0m\u001b[0m__name__\u001b[0m \u001b[1;33m=\u001b[0m \u001b[0mname\u001b[0m\u001b[1;33m\u001b[0m\u001b[0m\n",
      "\u001b[1;32mC:\\ProgramData\\Anaconda2_32\\lib\\site-packages\\pandas\\io\\parsers.pyc\u001b[0m in \u001b[0;36m_read\u001b[1;34m(filepath_or_buffer, kwds)\u001b[0m\n\u001b[0;32m    403\u001b[0m \u001b[1;33m\u001b[0m\u001b[0m\n\u001b[0;32m    404\u001b[0m     \u001b[1;31m# Create the parser.\u001b[0m\u001b[1;33m\u001b[0m\u001b[1;33m\u001b[0m\u001b[0m\n\u001b[1;32m--> 405\u001b[1;33m     \u001b[0mparser\u001b[0m \u001b[1;33m=\u001b[0m \u001b[0mTextFileReader\u001b[0m\u001b[1;33m(\u001b[0m\u001b[0mfilepath_or_buffer\u001b[0m\u001b[1;33m,\u001b[0m \u001b[1;33m**\u001b[0m\u001b[0mkwds\u001b[0m\u001b[1;33m)\u001b[0m\u001b[1;33m\u001b[0m\u001b[0m\n\u001b[0m\u001b[0;32m    406\u001b[0m \u001b[1;33m\u001b[0m\u001b[0m\n\u001b[0;32m    407\u001b[0m     \u001b[1;32mif\u001b[0m \u001b[0mchunksize\u001b[0m \u001b[1;32mor\u001b[0m \u001b[0miterator\u001b[0m\u001b[1;33m:\u001b[0m\u001b[1;33m\u001b[0m\u001b[0m\n",
      "\u001b[1;32mC:\\ProgramData\\Anaconda2_32\\lib\\site-packages\\pandas\\io\\parsers.pyc\u001b[0m in \u001b[0;36m__init__\u001b[1;34m(self, f, engine, **kwds)\u001b[0m\n\u001b[0;32m    760\u001b[0m             \u001b[0mself\u001b[0m\u001b[1;33m.\u001b[0m\u001b[0moptions\u001b[0m\u001b[1;33m[\u001b[0m\u001b[1;34m'has_index_names'\u001b[0m\u001b[1;33m]\u001b[0m \u001b[1;33m=\u001b[0m \u001b[0mkwds\u001b[0m\u001b[1;33m[\u001b[0m\u001b[1;34m'has_index_names'\u001b[0m\u001b[1;33m]\u001b[0m\u001b[1;33m\u001b[0m\u001b[0m\n\u001b[0;32m    761\u001b[0m \u001b[1;33m\u001b[0m\u001b[0m\n\u001b[1;32m--> 762\u001b[1;33m         \u001b[0mself\u001b[0m\u001b[1;33m.\u001b[0m\u001b[0m_make_engine\u001b[0m\u001b[1;33m(\u001b[0m\u001b[0mself\u001b[0m\u001b[1;33m.\u001b[0m\u001b[0mengine\u001b[0m\u001b[1;33m)\u001b[0m\u001b[1;33m\u001b[0m\u001b[0m\n\u001b[0m\u001b[0;32m    763\u001b[0m \u001b[1;33m\u001b[0m\u001b[0m\n\u001b[0;32m    764\u001b[0m     \u001b[1;32mdef\u001b[0m \u001b[0mclose\u001b[0m\u001b[1;33m(\u001b[0m\u001b[0mself\u001b[0m\u001b[1;33m)\u001b[0m\u001b[1;33m:\u001b[0m\u001b[1;33m\u001b[0m\u001b[0m\n",
      "\u001b[1;32mC:\\ProgramData\\Anaconda2_32\\lib\\site-packages\\pandas\\io\\parsers.pyc\u001b[0m in \u001b[0;36m_make_engine\u001b[1;34m(self, engine)\u001b[0m\n\u001b[0;32m    964\u001b[0m     \u001b[1;32mdef\u001b[0m \u001b[0m_make_engine\u001b[0m\u001b[1;33m(\u001b[0m\u001b[0mself\u001b[0m\u001b[1;33m,\u001b[0m \u001b[0mengine\u001b[0m\u001b[1;33m=\u001b[0m\u001b[1;34m'c'\u001b[0m\u001b[1;33m)\u001b[0m\u001b[1;33m:\u001b[0m\u001b[1;33m\u001b[0m\u001b[0m\n\u001b[0;32m    965\u001b[0m         \u001b[1;32mif\u001b[0m \u001b[0mengine\u001b[0m \u001b[1;33m==\u001b[0m \u001b[1;34m'c'\u001b[0m\u001b[1;33m:\u001b[0m\u001b[1;33m\u001b[0m\u001b[0m\n\u001b[1;32m--> 966\u001b[1;33m             \u001b[0mself\u001b[0m\u001b[1;33m.\u001b[0m\u001b[0m_engine\u001b[0m \u001b[1;33m=\u001b[0m \u001b[0mCParserWrapper\u001b[0m\u001b[1;33m(\u001b[0m\u001b[0mself\u001b[0m\u001b[1;33m.\u001b[0m\u001b[0mf\u001b[0m\u001b[1;33m,\u001b[0m \u001b[1;33m**\u001b[0m\u001b[0mself\u001b[0m\u001b[1;33m.\u001b[0m\u001b[0moptions\u001b[0m\u001b[1;33m)\u001b[0m\u001b[1;33m\u001b[0m\u001b[0m\n\u001b[0m\u001b[0;32m    967\u001b[0m         \u001b[1;32melse\u001b[0m\u001b[1;33m:\u001b[0m\u001b[1;33m\u001b[0m\u001b[0m\n\u001b[0;32m    968\u001b[0m             \u001b[1;32mif\u001b[0m \u001b[0mengine\u001b[0m \u001b[1;33m==\u001b[0m \u001b[1;34m'python'\u001b[0m\u001b[1;33m:\u001b[0m\u001b[1;33m\u001b[0m\u001b[0m\n",
      "\u001b[1;32mC:\\ProgramData\\Anaconda2_32\\lib\\site-packages\\pandas\\io\\parsers.pyc\u001b[0m in \u001b[0;36m__init__\u001b[1;34m(self, src, **kwds)\u001b[0m\n\u001b[0;32m   1580\u001b[0m         \u001b[0mkwds\u001b[0m\u001b[1;33m[\u001b[0m\u001b[1;34m'allow_leading_cols'\u001b[0m\u001b[1;33m]\u001b[0m \u001b[1;33m=\u001b[0m \u001b[0mself\u001b[0m\u001b[1;33m.\u001b[0m\u001b[0mindex_col\u001b[0m \u001b[1;32mis\u001b[0m \u001b[1;32mnot\u001b[0m \u001b[0mFalse\u001b[0m\u001b[1;33m\u001b[0m\u001b[0m\n\u001b[0;32m   1581\u001b[0m \u001b[1;33m\u001b[0m\u001b[0m\n\u001b[1;32m-> 1582\u001b[1;33m         \u001b[0mself\u001b[0m\u001b[1;33m.\u001b[0m\u001b[0m_reader\u001b[0m \u001b[1;33m=\u001b[0m \u001b[0mparsers\u001b[0m\u001b[1;33m.\u001b[0m\u001b[0mTextReader\u001b[0m\u001b[1;33m(\u001b[0m\u001b[0msrc\u001b[0m\u001b[1;33m,\u001b[0m \u001b[1;33m**\u001b[0m\u001b[0mkwds\u001b[0m\u001b[1;33m)\u001b[0m\u001b[1;33m\u001b[0m\u001b[0m\n\u001b[0m\u001b[0;32m   1583\u001b[0m \u001b[1;33m\u001b[0m\u001b[0m\n\u001b[0;32m   1584\u001b[0m         \u001b[1;31m# XXX\u001b[0m\u001b[1;33m\u001b[0m\u001b[1;33m\u001b[0m\u001b[0m\n",
      "\u001b[1;32mpandas\\_libs\\parsers.pyx\u001b[0m in \u001b[0;36mpandas._libs.parsers.TextReader.__cinit__ (pandas\\_libs\\parsers.c:4209)\u001b[1;34m()\u001b[0m\n",
      "\u001b[1;32mpandas\\_libs\\parsers.pyx\u001b[0m in \u001b[0;36mpandas._libs.parsers.TextReader._setup_parser_source (pandas\\_libs\\parsers.c:8873)\u001b[1;34m()\u001b[0m\n",
      "\u001b[1;31mIOError\u001b[0m: File C:/Users/KeK/OneDrive - University College London/Random_probes_last/Luca/my_dict.csv does not exist"
     ]
    }
   ],
   "source": [
    "import pandas as pd\n",
    "import numpy as np\n",
    "import random\n",
    "import csv\n",
    "from shutil import copyfile\n",
    "\n",
    "mypath = 'C:/Users/KeK/OneDrive - University College London/Random_probes_last/Luca/'\n",
    "df = pd.DataFrame.from_csv(mypath + 'my_dict.csv')\n",
    "df.reset_index(drop=False)\n",
    "\n",
    "image_names = df.index.tolist()\n",
    "cat1 = df['0'].tolist()\n",
    "cat2 = df['1'].tolist()\n",
    "cat3 = df['2'].tolist()\n",
    "cat4 = df['3'].tolist()\n",
    "cat5 = df['4'].tolist()\n",
    "ts = df['6'].tolist()\n",
    "load = df['7'].tolist()\n",
    "my_dict ={z[0]:list(z[1:]) for z in zip(image_names,cat1,cat2,cat3,cat4,cat5,ts,load)}\n",
    "\n",
    "categories = [' bottle', ' horse', ' pottedplant', ' dog', ' cat', ' person', ' aeroplane', ' car', ' chair', ' sofa', ' bird', ' boat']\n",
    "p_load = ['low','high']"
   ]
  },
  {
   "cell_type": "code",
   "execution_count": 2,
   "metadata": {
    "collapsed": true
   },
   "outputs": [],
   "source": [
    "df_2 = pd.DataFrame.from_csv(mypath+'all_images_2.csv')\n",
    "df_2.reset_index(drop=False)\n",
    "\n",
    "image_names_2 = df.index.tolist()\n",
    "cat_a = df_2['0'].tolist()\n",
    "cat_b = df_2['1'].tolist()\n",
    "cat_c = df_2['2'].tolist()\n",
    "cat_d = df_2['3'].tolist()\n",
    "cat_e = df_2['4'].tolist()\n",
    "ts_2 = df_2['5'].tolist()\n",
    "load_2 = df_2['6'].tolist()\n",
    "exemplar_2 = df_2['7'].tolist()\n",
    "possible_images_dict ={z[0]:list(z[1:]) for z in zip(image_names_2,cat_a,cat_b,cat_c,cat_d,cat_e,ts_2,load_2,exemplar_2)}"
   ]
  },
  {
   "cell_type": "code",
   "execution_count": 3,
   "metadata": {},
   "outputs": [
    {
     "name": "stdout",
     "output_type": "stream",
     "text": [
      "40\n",
      "40\n"
     ]
    }
   ],
   "source": [
    "#DEFINING PRACTICE IMAGES\n",
    "images_not_used_in_exp = [n for n in my_dict.keys() if n not in possible_images_dict.keys()]\n",
    "practice_low = [n for n in my_dict.keys() if 'low' in my_dict[n] and n in images_not_used_in_exp][0:80]\n",
    "practice_high = [n for n in my_dict.keys() if 'high' in my_dict[n] and n in images_not_used_in_exp][0:80]\n",
    "practice_set = practice_low + practice_high\n",
    "practice_dict = {your_key: my_dict[your_key] for your_key in practice_set }\n",
    "\n",
    "load_level = ['low','high']\n",
    "present_absent = ['Target Present', 'Target Absent']\n",
    "for load in load_level:\n",
    "        temp = []\n",
    "        while len(temp) <40:\n",
    "            a = str(np.random.choice(practice_set,1, replace = False))[2:-2]\n",
    "            if a not in temp and load in my_dict[a]:\n",
    "                temp.append(a)\n",
    "        print len(temp)\n",
    "        {practice_dict[image].append('Target Present') for image in temp}\n",
    "\n",
    "for each in practice_dict:\n",
    "    if 'Target Present' not in practice_dict[each]:\n",
    "        practice_dict[each].append('Target Absent')\n",
    "#print my_dict\n",
    "    \n"
   ]
  },
  {
   "cell_type": "code",
   "execution_count": 4,
   "metadata": {},
   "outputs": [
    {
     "name": "stdout",
     "output_type": "stream",
     "text": [
      "40\n",
      "40\n",
      "40\n",
      "40\n"
     ]
    }
   ],
   "source": [
    "l_p_counter = 0\n",
    "for each in practice_dict:\n",
    "    if 'Target Present' in practice_dict[each] and 'low' in practice_dict[each]:\n",
    "        l_p_counter = l_p_counter + 1\n",
    "print l_p_counter\n",
    "h_p_counter = 0\n",
    "for each in practice_dict:\n",
    "    if 'Target Present' in practice_dict[each] and 'high' in practice_dict[each]:\n",
    "        h_p_counter = h_p_counter + 1\n",
    "print h_p_counter\n",
    "l_a_counter = 0\n",
    "for each in practice_dict:\n",
    "    if 'Target Absent' in practice_dict[each] and 'low' in practice_dict[each]:\n",
    "        l_a_counter = l_a_counter + 1\n",
    "print l_a_counter\n",
    "h_a_counter = 0\n",
    "for each in practice_dict:\n",
    "    if 'Target Absent' in practice_dict[each] and 'low' in practice_dict[each]:\n",
    "        h_a_counter = h_a_counter + 1\n",
    "print h_a_counter"
   ]
  },
  {
   "cell_type": "code",
   "execution_count": 5,
   "metadata": {},
   "outputs": [
    {
     "name": "stdout",
     "output_type": "stream",
     "text": [
      "8\n",
      "16\n",
      "24\n",
      "32\n",
      "True\n"
     ]
    }
   ],
   "source": [
    "#Defining critical trials\n",
    "lista = practice_dict.keys()\n",
    "critical_trials = []\n",
    "def critical_trial(load_level, present_absent):\n",
    "    global critical_trials\n",
    "    temp = []\n",
    "    container = []\n",
    "    for element in lista:\n",
    "        if load_level in practice_dict[element] and present_absent in practice_dict[element]:\n",
    "            container.append(element)\n",
    "    while len(temp) <8 :\n",
    "        intermediate = str(np.random.choice(container, 1, replace= False))[2:-2]\n",
    "        if intermediate not in temp and intermediate not in critical_trials:\n",
    "            temp.append(intermediate)\n",
    "        #print temp\n",
    "    for each in temp:\n",
    "        critical_trials.append(each)\n",
    "    temp =[]\n",
    "    print len(critical_trials)\n",
    "         \n",
    "critical_trial('low','Target Present')\n",
    "critical_trial('high','Target Present')\n",
    "critical_trial('low','Target Absent')\n",
    "critical_trial('high','Target Absent')\n",
    "print len(critical_trials) == len(set(critical_trials))\n",
    "for each in critical_trials:\n",
    "    practice_dict[each].append('Critical')\n",
    "for each in practice_dict:\n",
    "    if 'Critical' not in practice_dict[each]:\n",
    "        practice_dict[each].append('Normal')"
   ]
  },
  {
   "cell_type": "code",
   "execution_count": 6,
   "metadata": {},
   "outputs": [
    {
     "name": "stdout",
     "output_type": "stream",
     "text": [
      "16\n",
      "160\n",
      "144\n"
     ]
    }
   ],
   "source": [
    "#Define probes identity (put the name of the related images in a list called probes)\n",
    "probes = []\n",
    "for load in load_level:\n",
    "    for element in present_absent:\n",
    "        names = []\n",
    "        while len(names) < 4:\n",
    "            temp_name = str(np.random.choice(lista, 1, replace= False))[2:-2]\n",
    "            if element in practice_dict[temp_name] and load in practice_dict[temp_name] and temp_name not in names:\n",
    "                names.append(temp_name)\n",
    "        for each in names:\n",
    "            probes.append(each)\n",
    "print len(probes)\n",
    "print len(lista)\n",
    "for probe in probes:\n",
    "    if probe in lista:\n",
    "        lista.remove(probe)\n",
    "print len(lista)\n"
   ]
  },
  {
   "cell_type": "code",
   "execution_count": 7,
   "metadata": {},
   "outputs": [
    {
     "ename": "NameError",
     "evalue": "name 'constrained_sum_sample_pos' is not defined",
     "output_type": "error",
     "traceback": [
      "\u001b[0;31m---------------------------------------------------------------------------\u001b[0m",
      "\u001b[0;31mNameError\u001b[0m                                 Traceback (most recent call last)",
      "\u001b[0;32m<ipython-input-7-c2383a3ef74e>\u001b[0m in \u001b[0;36m<module>\u001b[0;34m()\u001b[0m\n\u001b[0;32m----> 1\u001b[0;31m \u001b[0mconstrained_sum_sample_pos\u001b[0m\u001b[1;33m(\u001b[0m\u001b[1;36m16\u001b[0m\u001b[1;33m,\u001b[0m\u001b[1;36m160\u001b[0m\u001b[1;33m)\u001b[0m\u001b[1;33m\u001b[0m\u001b[0m\n\u001b[0m\u001b[1;32m      2\u001b[0m \u001b[0macc\u001b[0m \u001b[1;33m=\u001b[0m \u001b[1;36m0\u001b[0m\u001b[1;33m\u001b[0m\u001b[0m\n\u001b[1;32m      3\u001b[0m \u001b[0mnew_list\u001b[0m \u001b[1;33m=\u001b[0m \u001b[1;33m[\u001b[0m\u001b[1;33m]\u001b[0m\u001b[1;33m\u001b[0m\u001b[0m\n\u001b[1;32m      4\u001b[0m \u001b[1;32mfor\u001b[0m \u001b[0mi\u001b[0m \u001b[1;32min\u001b[0m \u001b[0msequences_length\u001b[0m\u001b[1;33m:\u001b[0m\u001b[1;33m\u001b[0m\u001b[0m\n\u001b[1;32m      5\u001b[0m     \u001b[0macc\u001b[0m \u001b[1;33m=\u001b[0m \u001b[0macc\u001b[0m \u001b[1;33m+\u001b[0m \u001b[0mi\u001b[0m\u001b[1;33m\u001b[0m\u001b[0m\n",
      "\u001b[0;31mNameError\u001b[0m: name 'constrained_sum_sample_pos' is not defined"
     ]
    }
   ],
   "source": [
    "constrained_sum_sample_pos(16,160)\n",
    "acc = 0\n",
    "new_list = []\n",
    "for i in sequences_length:\n",
    "    acc = acc + i\n",
    "    new_list.append(acc - 1)\n",
    "for i in range(len(probes)):\n",
    "    lista.insert(new_list[i], probes[i])\n",
    "print sequences_length\n",
    "print new_list\n"
   ]
  },
  {
   "cell_type": "code",
   "execution_count": 8,
   "metadata": {},
   "outputs": [
    {
     "name": "stdout",
     "output_type": "stream",
     "text": [
      "                   Cat.1         Cat.2 Cat.3 Cat.4 Cat.5       TS  Load  \\\n",
      "2008_003448.jpg   person         chair   NaN   NaN   NaN  30.0163  high   \n",
      "2008_003449.jpg     boat           NaN   NaN   NaN   NaN  34.7087  high   \n",
      "2008_003464.jpg   person           NaN   NaN   NaN   NaN  19.7242   low   \n",
      "2008_003477.jpg    chair   diningtable   NaN   NaN   NaN  34.8607  high   \n",
      "2008_003498.jpg      car     motorbike   NaN   NaN   NaN  32.3458  high   \n",
      "\n",
      "                 present_absent trial_type  \n",
      "2008_003448.jpg  Target Present     Normal  \n",
      "2008_003449.jpg  Target Present     Normal  \n",
      "2008_003464.jpg   Target Absent     Normal  \n",
      "2008_003477.jpg   Target Absent     Normal  \n",
      "2008_003498.jpg  Target Present     Normal  \n"
     ]
    }
   ],
   "source": [
    "for each in practice_dict.keys():\n",
    "    copyfile(mypath + 'JPEGImages/'+each, \n",
    "            mypath + 'practice_images/'+each)\n",
    "df = pd.DataFrame.from_dict(practice_dict)\n",
    "df = df.T\n",
    "df.columns = ['Cat.1','Cat.2','Cat.3','Cat.4','Cat.5','TS','Load','present_absent','trial_type']\n",
    "print df.head()"
   ]
  },
  {
   "cell_type": "code",
   "execution_count": 9,
   "metadata": {
    "collapsed": true
   },
   "outputs": [],
   "source": [
    "df.to_csv(mypath + 'practice.csv') "
   ]
  }
 ],
 "metadata": {
  "anaconda-cloud": {},
  "kernelspec": {
   "display_name": "Python 2",
   "language": "python",
   "name": "python2"
  },
  "language_info": {
   "codemirror_mode": {
    "name": "ipython",
    "version": 2
   },
   "file_extension": ".py",
   "mimetype": "text/x-python",
   "name": "python",
   "nbconvert_exporter": "python",
   "pygments_lexer": "ipython2",
   "version": "2.7.13"
  }
 },
 "nbformat": 4,
 "nbformat_minor": 1
}
